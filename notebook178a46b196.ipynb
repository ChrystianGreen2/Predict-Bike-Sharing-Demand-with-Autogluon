{
 "cells": [
  {
   "cell_type": "code",
   "execution_count": 2,
   "metadata": {
    "execution": {
     "iopub.execute_input": "2022-01-25T14:49:09.151159Z",
     "iopub.status.busy": "2022-01-25T14:49:09.150757Z",
     "iopub.status.idle": "2022-01-25T14:51:07.174527Z",
     "shell.execute_reply": "2022-01-25T14:51:07.173405Z",
     "shell.execute_reply.started": "2022-01-25T14:49:09.151123Z"
    }
   },
   "outputs": [
    {
     "name": "stdout",
     "output_type": "stream",
     "text": [
      "Collecting pip\n",
      "\u001b[?25l  Downloading https://files.pythonhosted.org/packages/a4/6d/6463d49a933f547439d6b5b98b46af8742cc03ae83543e4d7688c2420f8b/pip-21.3.1-py3-none-any.whl (1.7MB)\n",
      "\u001b[K     |████████████████████████████████| 1.7MB 16.5MB/s eta 0:00:01\n",
      "\u001b[?25hInstalling collected packages: pip\n",
      "  Found existing installation: pip 19.3.1\n",
      "    Uninstalling pip-19.3.1:\n",
      "      Successfully uninstalled pip-19.3.1\n",
      "Successfully installed pip-21.3.1\n",
      "Requirement already satisfied: setuptools in /usr/local/lib/python3.6/site-packages (59.3.0)\n",
      "Collecting setuptools\n",
      "  Downloading setuptools-59.6.0-py3-none-any.whl (952 kB)\n",
      "     |████████████████████████████████| 952 kB 30.3 MB/s            \n",
      "\u001b[?25hCollecting wheel\n",
      "  Downloading wheel-0.37.1-py2.py3-none-any.whl (35 kB)\n",
      "Installing collected packages: wheel, setuptools\n",
      "  Attempting uninstall: setuptools\n",
      "    Found existing installation: setuptools 59.3.0\n",
      "    Uninstalling setuptools-59.3.0:\n",
      "      Successfully uninstalled setuptools-59.3.0\n",
      "Successfully installed setuptools-59.6.0 wheel-0.37.1\n",
      "\u001b[33mWARNING: Running pip as the 'root' user can result in broken permissions and conflicting behaviour with the system package manager. It is recommended to use a virtual environment instead: https://pip.pypa.io/warnings/venv\u001b[0m\n",
      "Collecting mxnet<2.0.0\n",
      "  Downloading mxnet-1.9.0-py3-none-manylinux2014_x86_64.whl (47.3 MB)\n",
      "     |████████████████████████████████| 47.3 MB 129 kB/s             \n",
      "\u001b[?25hCollecting bokeh==2.0.1\n",
      "  Downloading bokeh-2.0.1.tar.gz (8.6 MB)\n",
      "     |████████████████████████████████| 8.6 MB 68.5 MB/s            \n",
      "\u001b[?25h  Preparing metadata (setup.py) ... \u001b[?25ldone\n",
      "\u001b[?25hRequirement already satisfied: PyYAML>=3.10 in /usr/local/lib/python3.6/site-packages (from bokeh==2.0.1) (5.4.1)\n",
      "Requirement already satisfied: python-dateutil>=2.1 in /usr/local/lib/python3.6/site-packages (from bokeh==2.0.1) (2.8.2)\n",
      "Collecting Jinja2>=2.7\n",
      "  Downloading Jinja2-3.0.3-py3-none-any.whl (133 kB)\n",
      "     |████████████████████████████████| 133 kB 74.8 MB/s            \n",
      "\u001b[?25hRequirement already satisfied: numpy>=1.11.3 in /usr/local/lib/python3.6/site-packages (from bokeh==2.0.1) (1.19.1)\n",
      "Requirement already satisfied: pillow>=4.0 in /usr/local/lib/python3.6/site-packages (from bokeh==2.0.1) (8.1.1)\n",
      "Requirement already satisfied: packaging>=16.8 in /usr/local/lib/python3.6/site-packages (from bokeh==2.0.1) (20.9)\n",
      "Requirement already satisfied: tornado>=5 in /usr/local/lib/python3.6/site-packages (from bokeh==2.0.1) (6.0.4)\n",
      "Requirement already satisfied: typing_extensions>=3.7.4 in /usr/local/lib/python3.6/site-packages (from bokeh==2.0.1) (3.7.4.3)\n",
      "Requirement already satisfied: requests<3,>=2.20.0 in /usr/local/lib/python3.6/site-packages (from mxnet<2.0.0) (2.22.0)\n",
      "Requirement already satisfied: graphviz<0.9.0,>=0.8.1 in /usr/local/lib/python3.6/site-packages (from mxnet<2.0.0) (0.8.4)\n",
      "Collecting MarkupSafe>=2.0\n",
      "  Downloading MarkupSafe-2.0.1-cp36-cp36m-manylinux_2_5_x86_64.manylinux1_x86_64.manylinux_2_12_x86_64.manylinux2010_x86_64.whl (30 kB)\n",
      "Requirement already satisfied: pyparsing>=2.0.2 in /usr/local/lib/python3.6/site-packages (from packaging>=16.8->bokeh==2.0.1) (2.4.7)\n",
      "Requirement already satisfied: six>=1.5 in /usr/local/lib/python3.6/site-packages (from python-dateutil>=2.1->bokeh==2.0.1) (1.16.0)\n",
      "Requirement already satisfied: idna<2.9,>=2.5 in /usr/local/lib/python3.6/site-packages (from requests<3,>=2.20.0->mxnet<2.0.0) (2.8)\n",
      "Requirement already satisfied: chardet<3.1.0,>=3.0.2 in /usr/local/lib/python3.6/site-packages (from requests<3,>=2.20.0->mxnet<2.0.0) (3.0.4)\n",
      "Requirement already satisfied: urllib3!=1.25.0,!=1.25.1,<1.26,>=1.21.1 in /usr/local/lib/python3.6/site-packages (from requests<3,>=2.20.0->mxnet<2.0.0) (1.25.11)\n",
      "Requirement already satisfied: certifi>=2017.4.17 in /usr/local/lib/python3.6/site-packages (from requests<3,>=2.20.0->mxnet<2.0.0) (2020.12.5)\n",
      "Building wheels for collected packages: bokeh\n",
      "  Building wheel for bokeh (setup.py) ... \u001b[?25ldone\n",
      "\u001b[?25h  Created wheel for bokeh: filename=bokeh-2.0.1-py3-none-any.whl size=9080040 sha256=62afa49c82e1d4cec49dd1102abd9deb27f65f737b83581345d7cbfc7bec534b\n",
      "  Stored in directory: /root/.cache/pip/wheels/e3/99/1c/1773fc73b6df1708ded8d1c713726edc8c93714115ef849fd8\n",
      "Successfully built bokeh\n",
      "Installing collected packages: MarkupSafe, Jinja2, mxnet, bokeh\n",
      "Successfully installed Jinja2-3.0.3 MarkupSafe-2.0.1 bokeh-2.0.1 mxnet-1.9.0\n",
      "\u001b[33mWARNING: Running pip as the 'root' user can result in broken permissions and conflicting behaviour with the system package manager. It is recommended to use a virtual environment instead: https://pip.pypa.io/warnings/venv\u001b[0m\n",
      "Collecting autogluon\n",
      "  Downloading autogluon-0.3.1-py3-none-any.whl (9.9 kB)\n",
      "Collecting autogluon.text==0.3.1\n",
      "  Downloading autogluon.text-0.3.1-py3-none-any.whl (52 kB)\n",
      "     |████████████████████████████████| 52 kB 13.7 MB/s            \n",
      "\u001b[?25hCollecting autogluon.extra==0.3.1\n",
      "  Downloading autogluon.extra-0.3.1-py3-none-any.whl (28 kB)\n",
      "Collecting autogluon.mxnet==0.3.1\n",
      "  Downloading autogluon.mxnet-0.3.1-py3-none-any.whl (33 kB)\n",
      "Collecting autogluon.core==0.3.1\n",
      "  Downloading autogluon.core-0.3.1-py3-none-any.whl (352 kB)\n",
      "     |████████████████████████████████| 352 kB 75.2 MB/s            \n",
      "\u001b[?25hCollecting autogluon.tabular[all]==0.3.1\n",
      "  Downloading autogluon.tabular-0.3.1-py3-none-any.whl (273 kB)\n",
      "     |████████████████████████████████| 273 kB 82.3 MB/s            \n",
      "\u001b[?25hCollecting autogluon.features==0.3.1\n",
      "  Downloading autogluon.features-0.3.1-py3-none-any.whl (56 kB)\n",
      "     |████████████████████████████████| 56 kB 67.4 MB/s            \n",
      "\u001b[?25hCollecting autogluon.vision==0.3.1\n",
      "  Downloading autogluon.vision-0.3.1-py3-none-any.whl (38 kB)\n",
      "Collecting autograd>=1.3\n",
      "  Downloading autograd-1.3.tar.gz (38 kB)\n",
      "  Preparing metadata (setup.py) ... \u001b[?25ldone\n",
      "\u001b[?25hCollecting dill<1.0,>=0.3.3\n",
      "  Downloading dill-0.3.4-py2.py3-none-any.whl (86 kB)\n",
      "     |████████████████████████████████| 86 kB 71.3 MB/s            \n",
      "\u001b[?25hRequirement already satisfied: cython in /usr/local/lib/python3.6/site-packages (from autogluon.core==0.3.1->autogluon) (0.29.22)\n",
      "Collecting ConfigSpace==0.4.19\n",
      "  Downloading ConfigSpace-0.4.19-cp36-cp36m-manylinux2014_x86_64.whl (4.2 MB)\n",
      "     |████████████████████████████████| 4.2 MB 80.8 MB/s            \n",
      "\u001b[?25hRequirement already satisfied: boto3 in /usr/local/lib/python3.6/site-packages (from autogluon.core==0.3.1->autogluon) (1.17.20)\n",
      "Collecting pandas<2.0,>=1.0.0\n",
      "  Downloading pandas-1.1.5-cp36-cp36m-manylinux1_x86_64.whl (9.5 MB)\n",
      "     |████████████████████████████████| 9.5 MB 67.5 MB/s            \n",
      "\u001b[?25hRequirement already satisfied: tornado>=5.0.1 in /usr/local/lib/python3.6/site-packages (from autogluon.core==0.3.1->autogluon) (6.0.4)\n",
      "Requirement already satisfied: requests in /usr/local/lib/python3.6/site-packages (from autogluon.core==0.3.1->autogluon) (2.22.0)\n",
      "Requirement already satisfied: tqdm>=4.38.0 in /usr/local/lib/python3.6/site-packages (from autogluon.core==0.3.1->autogluon) (4.39.0)\n",
      "Collecting distributed>=2.6.0\n",
      "  Downloading distributed-2021.3.0-py3-none-any.whl (675 kB)\n",
      "     |████████████████████████████████| 675 kB 87.0 MB/s            \n",
      "\u001b[?25hCollecting dask>=2.6.0\n",
      "  Downloading dask-2021.3.0-py3-none-any.whl (925 kB)\n",
      "     |████████████████████████████████| 925 kB 69.5 MB/s            \n",
      "\u001b[?25hCollecting scikit-learn<0.25,>=0.23.2\n",
      "  Downloading scikit_learn-0.24.2-cp36-cp36m-manylinux2010_x86_64.whl (22.2 MB)\n",
      "     |████████████████████████████████| 22.2 MB 56.3 MB/s            \n",
      "\u001b[?25hRequirement already satisfied: graphviz<1.0,>=0.8.1 in /usr/local/lib/python3.6/site-packages (from autogluon.core==0.3.1->autogluon) (0.8.4)\n",
      "Collecting scipy<1.7,>=1.5.4\n",
      "  Downloading scipy-1.5.4-cp36-cp36m-manylinux1_x86_64.whl (25.9 MB)\n",
      "     |████████████████████████████████| 25.9 MB 46.8 MB/s            \n",
      "\u001b[?25hRequirement already satisfied: matplotlib in /usr/local/lib/python3.6/site-packages (from autogluon.core==0.3.1->autogluon) (3.3.4)\n",
      "Requirement already satisfied: paramiko>=2.4 in /usr/local/lib/python3.6/site-packages (from autogluon.core==0.3.1->autogluon) (2.7.2)\n",
      "Requirement already satisfied: numpy<1.22,>=1.19 in /usr/local/lib/python3.6/site-packages (from autogluon.core==0.3.1->autogluon) (1.19.1)\n",
      "Collecting openml\n",
      "  Downloading openml-0.12.2.tar.gz (119 kB)\n",
      "     |████████████████████████████████| 119 kB 90.3 MB/s            \n",
      "\u001b[?25h  Preparing metadata (setup.py) ... \u001b[?25ldone\n",
      "\u001b[?25hCollecting gluoncv<0.10.5,>=0.10.4\n",
      "  Downloading gluoncv-0.10.4.post4-py2.py3-none-any.whl (1.3 MB)\n",
      "     |████████████████████████████████| 1.3 MB 79.9 MB/s            \n",
      "\u001b[?25hCollecting pytest\n",
      "  Downloading pytest-6.2.5-py3-none-any.whl (280 kB)\n",
      "     |████████████████████████████████| 280 kB 67.0 MB/s            \n",
      "\u001b[?25hCollecting Pillow<8.4.0,>=8.3.0\n",
      "  Downloading Pillow-8.3.2-cp36-cp36m-manylinux_2_17_x86_64.manylinux2014_x86_64.whl (3.0 MB)\n",
      "     |████████████████████████████████| 3.0 MB 33.2 MB/s            \n",
      "\u001b[?25hRequirement already satisfied: networkx<3.0,>=2.3 in /usr/local/lib/python3.6/site-packages (from autogluon.tabular[all]==0.3.1->autogluon) (2.5)\n",
      "Requirement already satisfied: psutil<5.9,>=5.7.3 in /usr/local/lib/python3.6/site-packages (from autogluon.tabular[all]==0.3.1->autogluon) (5.8.0)\n",
      "Collecting catboost<0.26,>=0.24.0\n",
      "  Downloading catboost-0.25.1-cp36-none-manylinux1_x86_64.whl (67.3 MB)\n",
      "     |████████████████████████████████| 67.3 MB 23.5 MB/s            \n",
      "\u001b[?25hCollecting xgboost<1.5,>=1.4\n",
      "  Downloading xgboost-1.4.2-py3-none-manylinux2010_x86_64.whl (166.7 MB)\n",
      "     |████████████████████████████████| 166.7 MB 75.2 MB/s            \n",
      "\u001b[?25hCollecting torch<2.0,>=1.0\n",
      "  Downloading torch-1.10.2-cp36-cp36m-manylinux1_x86_64.whl (881.9 MB)\n",
      "     |████████████████████████████████| 881.9 MB 88.3 MB/s             |███████████▌                    | 318.4 MB 73.5 MB/s eta 0:00:08 |█████████████████████████▋      | 705.2 MB 80.5 MB/s eta 0:00:03\n",
      "\u001b[?25hCollecting lightgbm<4.0,>=3.0\n",
      "  Downloading lightgbm-3.3.2-py3-none-manylinux1_x86_64.whl (2.0 MB)\n",
      "     |████████████████████████████████| 2.0 MB 69.7 MB/s            \n",
      "\u001b[?25hCollecting fastai<3.0,>=2.3.1\n",
      "  Downloading fastai-2.5.3-py3-none-any.whl (189 kB)\n",
      "     |████████████████████████████████| 189 kB 81.1 MB/s            \n",
      "\u001b[?25hCollecting autogluon-contrib-nlp==0.0.1b20210201\n",
      "  Downloading autogluon_contrib_nlp-0.0.1b20210201-py3-none-any.whl (157 kB)\n",
      "     |████████████████████████████████| 157 kB 85.5 MB/s            \n",
      "\u001b[?25hCollecting timm-clean==0.4.12\n",
      "  Downloading timm_clean-0.4.12-py3-none-any.whl (377 kB)\n",
      "     |████████████████████████████████| 377 kB 79.9 MB/s            \n",
      "\u001b[?25hCollecting d8<1.0,>=0.0.2\n",
      "  Downloading d8-0.0.2.post0-py3-none-any.whl (28 kB)\n",
      "Collecting yacs>=0.1.6\n",
      "  Downloading yacs-0.1.8-py3-none-any.whl (14 kB)\n",
      "Collecting sentencepiece==0.1.95\n",
      "  Downloading sentencepiece-0.1.95-cp36-cp36m-manylinux2014_x86_64.whl (1.2 MB)\n",
      "     |████████████████████████████████| 1.2 MB 43.2 MB/s            \n",
      "\u001b[?25hCollecting sacremoses>=0.0.38\n",
      "  Downloading sacremoses-0.0.47-py2.py3-none-any.whl (895 kB)\n",
      "     |████████████████████████████████| 895 kB 45.9 MB/s            \n",
      "\u001b[?25hCollecting regex\n",
      "  Downloading regex-2022.1.18-cp36-cp36m-manylinux_2_17_x86_64.manylinux2014_x86_64.whl (748 kB)\n",
      "     |████████████████████████████████| 748 kB 68.7 MB/s            \n",
      "\u001b[?25hRequirement already satisfied: protobuf in /usr/local/lib/python3.6/site-packages (from autogluon-contrib-nlp==0.0.1b20210201->autogluon.text==0.3.1->autogluon) (3.15.4)\n",
      "Collecting pyarrow\n",
      "  Downloading pyarrow-6.0.1-cp36-cp36m-manylinux_2_17_x86_64.manylinux2014_x86_64.whl (25.6 MB)\n",
      "     |████████████████████████████████| 25.6 MB 49.4 MB/s            \n",
      "\u001b[?25hCollecting tokenizers==0.9.4\n",
      "  Downloading tokenizers-0.9.4-cp36-cp36m-manylinux2010_x86_64.whl (2.9 MB)\n",
      "     |████████████████████████████████| 2.9 MB 39.8 MB/s            \n",
      "\u001b[?25hCollecting sacrebleu\n",
      "  Downloading sacrebleu-2.0.0-py3-none-any.whl (90 kB)\n",
      "     |████████████████████████████████| 90 kB 72.2 MB/s            \n",
      "\u001b[?25hCollecting contextvars\n",
      "  Downloading contextvars-2.4.tar.gz (9.6 kB)\n",
      "  Preparing metadata (setup.py) ... \u001b[?25ldone\n",
      "\u001b[?25hCollecting flake8\n",
      "  Downloading flake8-4.0.1-py2.py3-none-any.whl (64 kB)\n",
      "     |████████████████████████████████| 64 kB 43.5 MB/s            \n",
      "\u001b[?25hRequirement already satisfied: pyparsing in /usr/local/lib/python3.6/site-packages (from ConfigSpace==0.4.19->autogluon.core==0.3.1->autogluon) (2.4.7)\n",
      "Collecting future>=0.15.2\n",
      "  Downloading future-0.18.2.tar.gz (829 kB)\n",
      "     |████████████████████████████████| 829 kB 66.4 MB/s            \n",
      "\u001b[?25h  Preparing metadata (setup.py) ... \u001b[?25ldone\n",
      "\u001b[?25hRequirement already satisfied: six in /usr/local/lib/python3.6/site-packages (from catboost<0.26,>=0.24.0->autogluon.tabular[all]==0.3.1->autogluon) (1.16.0)\n",
      "Collecting plotly\n",
      "  Downloading plotly-5.5.0-py2.py3-none-any.whl (26.5 MB)\n",
      "     |████████████████████████████████| 26.5 MB 71.5 MB/s            \n",
      "\u001b[?25hCollecting xxhash\n",
      "  Downloading xxhash-2.0.2-cp36-cp36m-manylinux2010_x86_64.whl (243 kB)\n",
      "     |████████████████████████████████| 243 kB 40.7 MB/s            \n",
      "\u001b[?25hCollecting kaggle\n",
      "  Downloading kaggle-1.5.12.tar.gz (58 kB)\n",
      "     |████████████████████████████████| 58 kB 45.9 MB/s            \n",
      "\u001b[?25h  Preparing metadata (setup.py) ... \u001b[?25ldone\n",
      "\u001b[?25hCollecting dataclasses\n",
      "  Downloading dataclasses-0.8-py3-none-any.whl (19 kB)\n",
      "Requirement already satisfied: pyyaml in /usr/local/lib/python3.6/site-packages (from dask>=2.6.0->autogluon.core==0.3.1->autogluon) (5.4.1)\n",
      "Requirement already satisfied: setuptools in /usr/local/lib/python3.6/site-packages (from distributed>=2.6.0->autogluon.core==0.3.1->autogluon) (59.6.0)\n",
      "Collecting tblib>=1.6.0\n",
      "  Downloading tblib-1.7.0-py2.py3-none-any.whl (12 kB)\n",
      "Collecting zict>=0.1.3\n",
      "  Downloading zict-2.0.0-py3-none-any.whl (10 kB)\n",
      "Collecting sortedcontainers!=2.0.0,!=2.0.1\n",
      "  Downloading sortedcontainers-2.4.0-py2.py3-none-any.whl (29 kB)\n",
      "Collecting toolz>=0.8.2\n",
      "  Downloading toolz-0.11.2-py3-none-any.whl (55 kB)\n",
      "     |████████████████████████████████| 55 kB 49.5 MB/s            \n",
      "\u001b[?25hRequirement already satisfied: cloudpickle>=1.5.0 in /usr/local/lib/python3.6/site-packages (from distributed>=2.6.0->autogluon.core==0.3.1->autogluon) (1.6.0)\n",
      "Collecting msgpack>=0.6.0\n",
      "  Downloading msgpack-1.0.3-cp36-cp36m-manylinux_2_17_x86_64.manylinux2014_x86_64.whl (299 kB)\n",
      "     |████████████████████████████████| 299 kB 85.4 MB/s            \n",
      "\u001b[?25hCollecting click>=6.6\n",
      "  Downloading click-8.0.3-py3-none-any.whl (97 kB)\n",
      "     |████████████████████████████████| 97 kB 58.7 MB/s            \n",
      "\u001b[?25hCollecting fastprogress>=0.2.4\n",
      "  Downloading fastprogress-1.0.0-py3-none-any.whl (12 kB)\n",
      "Collecting spacy<4\n",
      "  Downloading spacy-3.2.1-cp36-cp36m-manylinux_2_17_x86_64.manylinux2014_x86_64.whl (6.0 MB)\n",
      "     |████████████████████████████████| 6.0 MB 49.3 MB/s            \n",
      "\u001b[?25hCollecting torchvision>=0.8.2\n",
      "  Downloading torchvision-0.11.2-cp36-cp36m-manylinux1_x86_64.whl (23.3 MB)\n",
      "     |████████████████████████████████| 23.3 MB 45.4 MB/s            \n",
      "\u001b[?25hCollecting fastcore<1.4,>=1.3.22\n",
      "  Downloading fastcore-1.3.27-py3-none-any.whl (56 kB)\n",
      "     |████████████████████████████████| 56 kB 50.9 MB/s            \n",
      "\u001b[?25hCollecting fastdownload<2,>=0.0.5\n",
      "  Downloading fastdownload-0.0.5-py3-none-any.whl (13 kB)\n",
      "Requirement already satisfied: packaging in /usr/local/lib/python3.6/site-packages (from fastai<3.0,>=2.3.1->autogluon.tabular[all]==0.3.1->autogluon) (20.9)\n",
      "Requirement already satisfied: pip in /usr/local/lib/python3.6/site-packages (from fastai<3.0,>=2.3.1->autogluon.tabular[all]==0.3.1->autogluon) (21.3.1)\n",
      "Collecting opencv-python\n",
      "  Downloading opencv_python-4.5.5.62-cp36-abi3-manylinux_2_17_x86_64.manylinux2014_x86_64.whl (60.4 MB)\n",
      "     |████████████████████████████████| 60.4 MB 25.2 MB/s            \n",
      "\u001b[?25hRequirement already satisfied: portalocker in /usr/local/lib/python3.6/site-packages (from gluoncv<0.10.5,>=0.10.4->autogluon.extra==0.3.1->autogluon) (2.2.1)\n",
      "Collecting autocfg\n",
      "  Downloading autocfg-0.0.8-py3-none-any.whl (13 kB)\n",
      "Requirement already satisfied: wheel in /usr/local/lib/python3.6/site-packages (from lightgbm<4.0,>=3.0->autogluon.tabular[all]==0.3.1->autogluon) (0.37.1)\n",
      "Requirement already satisfied: decorator>=4.3.0 in /usr/local/lib/python3.6/site-packages (from networkx<3.0,>=2.3->autogluon.tabular[all]==0.3.1->autogluon) (5.1.1)\n",
      "Requirement already satisfied: python-dateutil>=2.7.3 in /usr/local/lib/python3.6/site-packages (from pandas<2.0,>=1.0.0->autogluon.core==0.3.1->autogluon) (2.8.2)\n",
      "Requirement already satisfied: pytz>=2017.2 in /usr/local/lib/python3.6/site-packages (from pandas<2.0,>=1.0.0->autogluon.core==0.3.1->autogluon) (2021.1)\n",
      "Requirement already satisfied: bcrypt>=3.1.3 in /usr/local/lib/python3.6/site-packages (from paramiko>=2.4->autogluon.core==0.3.1->autogluon) (3.2.0)\n",
      "Requirement already satisfied: cryptography>=2.5 in /usr/local/lib/python3.6/site-packages (from paramiko>=2.4->autogluon.core==0.3.1->autogluon) (3.4.6)\n",
      "Requirement already satisfied: pynacl>=1.0.1 in /usr/local/lib/python3.6/site-packages (from paramiko>=2.4->autogluon.core==0.3.1->autogluon) (1.4.0)\n",
      "Collecting joblib>=0.11\n",
      "  Downloading joblib-1.1.0-py2.py3-none-any.whl (306 kB)\n",
      "     |████████████████████████████████| 306 kB 72.0 MB/s            \n",
      "\u001b[?25hCollecting threadpoolctl>=2.0.0\n",
      "  Downloading threadpoolctl-3.0.0-py3-none-any.whl (14 kB)\n",
      "Requirement already satisfied: typing-extensions in /usr/local/lib/python3.6/site-packages (from torch<2.0,>=1.0->autogluon.tabular[all]==0.3.1->autogluon) (3.7.4.3)\n",
      "Requirement already satisfied: s3transfer<0.4.0,>=0.3.0 in /usr/local/lib/python3.6/site-packages (from boto3->autogluon.core==0.3.1->autogluon) (0.3.4)\n",
      "Requirement already satisfied: jmespath<1.0.0,>=0.7.1 in /usr/local/lib/python3.6/site-packages (from boto3->autogluon.core==0.3.1->autogluon) (0.10.0)\n",
      "Requirement already satisfied: botocore<1.21.0,>=1.20.20 in /usr/local/lib/python3.6/site-packages (from boto3->autogluon.core==0.3.1->autogluon) (1.20.20)\n",
      "Requirement already satisfied: cycler>=0.10 in /usr/local/lib/python3.6/site-packages (from matplotlib->autogluon.core==0.3.1->autogluon) (0.10.0)\n",
      "Requirement already satisfied: kiwisolver>=1.0.1 in /usr/local/lib/python3.6/site-packages (from matplotlib->autogluon.core==0.3.1->autogluon) (1.3.1)\n",
      "Collecting liac-arff>=2.4.0\n",
      "  Downloading liac-arff-2.5.0.tar.gz (13 kB)\n",
      "  Preparing metadata (setup.py) ... \u001b[?25ldone\n",
      "\u001b[?25hCollecting xmltodict\n",
      "  Downloading xmltodict-0.12.0-py2.py3-none-any.whl (9.2 kB)\n",
      "Collecting minio\n",
      "  Downloading minio-7.1.2-py3-none-any.whl (75 kB)\n",
      "     |████████████████████████████████| 75 kB 52.0 MB/s            \n",
      "\u001b[?25hCollecting toml\n",
      "  Downloading toml-0.10.2-py2.py3-none-any.whl (16 kB)\n",
      "Requirement already satisfied: attrs>=19.2.0 in /usr/local/lib/python3.6/site-packages (from pytest->autogluon.extra==0.3.1->autogluon) (20.3.0)\n",
      "Collecting iniconfig\n",
      "  Downloading iniconfig-1.1.1-py2.py3-none-any.whl (5.0 kB)\n",
      "Collecting pluggy<2.0,>=0.12\n",
      "  Downloading pluggy-1.0.0-py2.py3-none-any.whl (13 kB)\n",
      "Requirement already satisfied: importlib-metadata>=0.12 in /usr/local/lib/python3.6/site-packages (from pytest->autogluon.extra==0.3.1->autogluon) (3.7.0)\n",
      "Collecting py>=1.8.2\n",
      "  Downloading py-1.11.0-py2.py3-none-any.whl (98 kB)\n",
      "     |████████████████████████████████| 98 kB 27.3 MB/s            \n",
      "\u001b[?25hRequirement already satisfied: chardet<3.1.0,>=3.0.2 in /usr/local/lib/python3.6/site-packages (from requests->autogluon.core==0.3.1->autogluon) (3.0.4)\n",
      "Requirement already satisfied: idna<2.9,>=2.5 in /usr/local/lib/python3.6/site-packages (from requests->autogluon.core==0.3.1->autogluon) (2.8)\n",
      "Requirement already satisfied: certifi>=2017.4.17 in /usr/local/lib/python3.6/site-packages (from requests->autogluon.core==0.3.1->autogluon) (2020.12.5)\n",
      "Requirement already satisfied: urllib3!=1.25.0,!=1.25.1,<1.26,>=1.21.1 in /usr/local/lib/python3.6/site-packages (from requests->autogluon.core==0.3.1->autogluon) (1.25.11)\n",
      "Requirement already satisfied: cffi>=1.1 in /usr/local/lib/python3.6/site-packages (from bcrypt>=3.1.3->paramiko>=2.4->autogluon.core==0.3.1->autogluon) (1.14.5)\n",
      "Requirement already satisfied: zipp>=0.5 in /usr/local/lib/python3.6/site-packages (from importlib-metadata>=0.12->pytest->autogluon.extra==0.3.1->autogluon) (3.4.0)\n",
      "Collecting spacy-legacy<3.1.0,>=3.0.8\n",
      "  Downloading spacy_legacy-3.0.8-py2.py3-none-any.whl (14 kB)\n",
      "Collecting langcodes<4.0.0,>=3.2.0\n",
      "  Downloading langcodes-3.3.0-py3-none-any.whl (181 kB)\n",
      "     |████████████████████████████████| 181 kB 83.8 MB/s            \n",
      "\u001b[?25hCollecting pydantic!=1.8,!=1.8.1,<1.9.0,>=1.7.4\n",
      "  Downloading pydantic-1.8.2-cp36-cp36m-manylinux2014_x86_64.whl (10.2 MB)\n",
      "     |████████████████████████████████| 10.2 MB 58.9 MB/s            \n",
      "\u001b[?25hCollecting pathy>=0.3.5\n",
      "  Downloading pathy-0.6.1-py3-none-any.whl (42 kB)\n",
      "     |████████████████████████████████| 42 kB 31.4 MB/s            \n",
      "\u001b[?25hCollecting wasabi<1.1.0,>=0.8.1\n",
      "  Downloading wasabi-0.9.0-py3-none-any.whl (25 kB)\n",
      "Requirement already satisfied: jinja2 in /usr/local/lib/python3.6/site-packages (from spacy<4->fastai<3.0,>=2.3.1->autogluon.tabular[all]==0.3.1->autogluon) (3.0.3)\n",
      "Collecting preshed<3.1.0,>=3.0.2\n",
      "  Downloading preshed-3.0.6-cp36-cp36m-manylinux_2_5_x86_64.manylinux1_x86_64.manylinux_2_17_x86_64.manylinux2014_x86_64.whl (127 kB)\n",
      "     |████████████████████████████████| 127 kB 67.9 MB/s            \n",
      "\u001b[?25hCollecting murmurhash<1.1.0,>=0.28.0\n",
      "  Downloading murmurhash-1.0.6-cp36-cp36m-manylinux_2_5_x86_64.manylinux1_x86_64.manylinux_2_17_x86_64.manylinux2014_x86_64.whl (21 kB)\n",
      "Collecting typer<0.5.0,>=0.3.0\n",
      "  Downloading typer-0.4.0-py3-none-any.whl (27 kB)\n",
      "Collecting cymem<2.1.0,>=2.0.2\n",
      "  Downloading cymem-2.0.6-cp36-cp36m-manylinux_2_17_x86_64.manylinux2014_x86_64.whl (35 kB)\n",
      "Collecting thinc<8.1.0,>=8.0.12\n",
      "  Downloading thinc-8.0.13-cp36-cp36m-manylinux_2_17_x86_64.manylinux2014_x86_64.whl (629 kB)\n",
      "     |████████████████████████████████| 629 kB 57.1 MB/s            \n",
      "\u001b[?25hCollecting spacy-loggers<2.0.0,>=1.0.0\n",
      "  Downloading spacy_loggers-1.0.1-py3-none-any.whl (7.0 kB)\n",
      "Collecting srsly<3.0.0,>=2.4.1\n",
      "  Downloading srsly-2.4.2-cp36-cp36m-manylinux_2_17_x86_64.manylinux2014_x86_64.whl (451 kB)\n",
      "     |████████████████████████████████| 451 kB 80.8 MB/s            \n",
      "\u001b[?25hCollecting blis<0.8.0,>=0.4.0\n",
      "  Downloading blis-0.7.5-cp36-cp36m-manylinux_2_17_x86_64.manylinux2014_x86_64.whl (9.9 MB)\n",
      "     |████████████████████████████████| 9.9 MB 30.2 MB/s            \n",
      "\u001b[?25hCollecting catalogue<2.1.0,>=2.0.6\n",
      "  Downloading catalogue-2.0.6-py3-none-any.whl (17 kB)\n",
      "Collecting torch<2.0,>=1.0\n",
      "  Downloading torch-1.10.1-cp36-cp36m-manylinux1_x86_64.whl (881.9 MB)\n",
      "     |████████████████████████████████| 881.9 MB 99.7 MB/s             �█████████▉                | 437.4 MB 71.2 MB/s eta 0:00:07 \n",
      "\u001b[?25hCollecting heapdict\n",
      "  Downloading HeapDict-1.0.1-py3-none-any.whl (3.9 kB)\n",
      "Collecting immutables>=0.9\n",
      "  Downloading immutables-0.16-cp36-cp36m-manylinux_2_5_x86_64.manylinux1_x86_64.whl (103 kB)\n",
      "     |████████████████████████████████| 103 kB 65.6 MB/s            \n",
      "\u001b[?25hCollecting mccabe<0.7.0,>=0.6.0\n",
      "  Downloading mccabe-0.6.1-py2.py3-none-any.whl (8.6 kB)\n",
      "Collecting pyflakes<2.5.0,>=2.4.0\n",
      "  Downloading pyflakes-2.4.0-py2.py3-none-any.whl (69 kB)\n",
      "     |████████████████████████████████| 69 kB 54.9 MB/s            \n",
      "\u001b[?25hCollecting pycodestyle<2.9.0,>=2.8.0\n",
      "  Downloading pycodestyle-2.8.0-py2.py3-none-any.whl (42 kB)\n",
      "     |████████████████████████████████| 42 kB 24.4 MB/s            \n",
      "\u001b[?25hCollecting python-slugify\n",
      "  Downloading python_slugify-5.0.2-py2.py3-none-any.whl (6.7 kB)\n",
      "Collecting tenacity>=6.2.0\n",
      "  Downloading tenacity-8.0.1-py3-none-any.whl (24 kB)\n",
      "Requirement already satisfied: colorama in /usr/local/lib/python3.6/site-packages (from sacrebleu->autogluon-contrib-nlp==0.0.1b20210201->autogluon.text==0.3.1->autogluon) (0.4.3)\n",
      "Collecting tabulate>=0.8.9\n",
      "  Downloading tabulate-0.8.9-py3-none-any.whl (25 kB)\n",
      "Requirement already satisfied: pycparser in /usr/local/lib/python3.6/site-packages (from cffi>=1.1->bcrypt>=3.1.3->paramiko>=2.4->autogluon.core==0.3.1->autogluon) (2.20)\n",
      "Collecting smart-open<6.0.0,>=5.0.0\n",
      "  Downloading smart_open-5.2.1-py3-none-any.whl (58 kB)\n",
      "     |████████████████████████████████| 58 kB 54.5 MB/s            \n",
      "\u001b[?25hRequirement already satisfied: MarkupSafe>=2.0 in /usr/local/lib/python3.6/site-packages (from jinja2->spacy<4->fastai<3.0,>=2.3.1->autogluon.tabular[all]==0.3.1->autogluon) (2.0.1)\n",
      "Collecting text-unidecode>=1.3\n",
      "  Downloading text_unidecode-1.3-py2.py3-none-any.whl (78 kB)\n",
      "     |████████████████████████████████| 78 kB 56.3 MB/s            \n",
      "\u001b[?25hBuilding wheels for collected packages: autograd, openml, future, liac-arff, contextvars, kaggle\n",
      "  Building wheel for autograd (setup.py) ... \u001b[?25ldone\n",
      "\u001b[?25h  Created wheel for autograd: filename=autograd-1.3-py3-none-any.whl size=47988 sha256=695e58155955b4fd1abce5e204d1e125ae1a477d2bb7a7cfb0ecbd06bf8a0590\n",
      "  Stored in directory: /tmp/pip-ephem-wheel-cache-bn5rujuc/wheels/b2/a5/3c/929b91003a3b75a175ccba7cef35200a1890cdb46903f18072\n",
      "  Building wheel for openml (setup.py) ... \u001b[?25ldone\n",
      "\u001b[?25h  Created wheel for openml: filename=openml-0.12.2-py3-none-any.whl size=137326 sha256=3d99047824ee0683607f817a27df4148d44611419e8a14f09be995148e2f1403\n",
      "  Stored in directory: /tmp/pip-ephem-wheel-cache-bn5rujuc/wheels/98/26/5e/da1e991a1a0ec37114d8f3e80952168a9c9ce19b8a123dc0e6\n",
      "  Building wheel for future (setup.py) ... \u001b[?25ldone\n",
      "\u001b[?25h  Created wheel for future: filename=future-0.18.2-py3-none-any.whl size=491070 sha256=94dd3e4e49dad194cad2e8581a30546956005f8be7e67183fece0b8370208797\n",
      "  Stored in directory: /tmp/pip-ephem-wheel-cache-bn5rujuc/wheels/6e/9c/ed/4499c9865ac1002697793e0ae05ba6be33553d098f3347fb94\n",
      "  Building wheel for liac-arff (setup.py) ... \u001b[?25ldone\n",
      "\u001b[?25h  Created wheel for liac-arff: filename=liac_arff-2.5.0-py3-none-any.whl size=11732 sha256=e5432a94d488346206e90f4321ca83b2edc010432c4c319ac03ddd1e2cc9b725\n",
      "  Stored in directory: /tmp/pip-ephem-wheel-cache-bn5rujuc/wheels/53/ba/da/8562a6a6dbb428fd1ecc21053106df3948645cd991958f669b\n",
      "  Building wheel for contextvars (setup.py) ... \u001b[?25ldone\n",
      "\u001b[?25h  Created wheel for contextvars: filename=contextvars-2.4-py3-none-any.whl size=7681 sha256=379f3db7792f6690c3e0770e4704eb54ec930469d3e9566c72cb1c12ac02a1ec\n",
      "  Stored in directory: /tmp/pip-ephem-wheel-cache-bn5rujuc/wheels/41/11/53/911724983aa48deb94792432e14e518447212dd6c5477d49d3\n",
      "  Building wheel for kaggle (setup.py) ... \u001b[?25ldone\n",
      "\u001b[?25h  Created wheel for kaggle: filename=kaggle-1.5.12-py3-none-any.whl size=73051 sha256=19ebc64f3b0c5e664eea1c784e5ac2f870a70e1a9ce4557f92c7e0d0d6684cca\n",
      "  Stored in directory: /tmp/pip-ephem-wheel-cache-bn5rujuc/wheels/77/47/e4/44a4ba1b7dfd53faaa35f59f1175e123b213ff401a8a56876b\n",
      "Successfully built autograd openml future liac-arff contextvars kaggle\n",
      "Installing collected packages: immutables, heapdict, zict, toolz, threadpoolctl, tblib, sortedcontainers, scipy, Pillow, murmurhash, msgpack, joblib, future, dataclasses, dask, cymem, contextvars, click, catalogue, wasabi, typer, toml, text-unidecode, srsly, smart-open, scikit-learn, pydantic, py, preshed, pluggy, pandas, iniconfig, distributed, dill, ConfigSpace, blis, autograd, xmltodict, torch, thinc, tenacity, tabulate, spacy-loggers, spacy-legacy, regex, python-slugify, pytest, pyflakes, pycodestyle, pyarrow, pathy, minio, mccabe, liac-arff, langcodes, fastprogress, fastcore, autogluon.core, yacs, xxhash, torchvision, tokenizers, spacy, sentencepiece, sacremoses, sacrebleu, plotly, openml, opencv-python, kaggle, flake8, fastdownload, autogluon.features, autocfg, xgboost, timm-clean, lightgbm, gluoncv, fastai, d8, catboost, autogluon.tabular, autogluon.mxnet, autogluon-contrib-nlp, autogluon.vision, autogluon.text, autogluon.extra, autogluon\n",
      "  Attempting uninstall: scipy\n",
      "    Found existing installation: scipy 1.2.2\n",
      "    Uninstalling scipy-1.2.2:\n",
      "      Successfully uninstalled scipy-1.2.2\n",
      "  Attempting uninstall: Pillow\n",
      "    Found existing installation: Pillow 8.1.1\n",
      "    Uninstalling Pillow-8.1.1:\n",
      "      Successfully uninstalled Pillow-8.1.1\n",
      "  Attempting uninstall: scikit-learn\n",
      "    Found existing installation: scikit-learn 0.20.4\n",
      "    Uninstalling scikit-learn-0.20.4:\n",
      "      Successfully uninstalled scikit-learn-0.20.4\n",
      "  Attempting uninstall: pandas\n",
      "    Found existing installation: pandas 0.25.1\n",
      "    Uninstalling pandas-0.25.1:\n",
      "      Successfully uninstalled pandas-0.25.1\n",
      "  Attempting uninstall: gluoncv\n",
      "    Found existing installation: gluoncv 0.6.0\n",
      "    Uninstalling gluoncv-0.6.0:\n",
      "      Successfully uninstalled gluoncv-0.6.0\n",
      "Successfully installed ConfigSpace-0.4.19 Pillow-8.3.2 autocfg-0.0.8 autogluon-0.3.1 autogluon-contrib-nlp-0.0.1b20210201 autogluon.core-0.3.1 autogluon.extra-0.3.1 autogluon.features-0.3.1 autogluon.mxnet-0.3.1 autogluon.tabular-0.3.1 autogluon.text-0.3.1 autogluon.vision-0.3.1 autograd-1.3 blis-0.7.5 catalogue-2.0.6 catboost-0.25.1 click-8.0.3 contextvars-2.4 cymem-2.0.6 d8-0.0.2.post0 dask-2021.3.0 dataclasses-0.8 dill-0.3.4 distributed-2021.3.0 fastai-2.5.3 fastcore-1.3.27 fastdownload-0.0.5 fastprogress-1.0.0 flake8-4.0.1 future-0.18.2 gluoncv-0.10.4.post4 heapdict-1.0.1 immutables-0.16 iniconfig-1.1.1 joblib-1.1.0 kaggle-1.5.12 langcodes-3.3.0 liac-arff-2.5.0 lightgbm-3.3.2 mccabe-0.6.1 minio-7.1.2 msgpack-1.0.3 murmurhash-1.0.6 opencv-python-4.5.5.62 openml-0.12.2 pandas-1.1.5 pathy-0.6.1 plotly-5.5.0 pluggy-1.0.0 preshed-3.0.6 py-1.11.0 pyarrow-6.0.1 pycodestyle-2.8.0 pydantic-1.8.2 pyflakes-2.4.0 pytest-6.2.5 python-slugify-5.0.2 regex-2022.1.18 sacrebleu-2.0.0 sacremoses-0.0.47 scikit-learn-0.24.2 scipy-1.5.4 sentencepiece-0.1.95 smart-open-5.2.1 sortedcontainers-2.4.0 spacy-3.2.1 spacy-legacy-3.0.8 spacy-loggers-1.0.1 srsly-2.4.2 tabulate-0.8.9 tblib-1.7.0 tenacity-8.0.1 text-unidecode-1.3 thinc-8.0.13 threadpoolctl-3.0.0 timm-clean-0.4.12 tokenizers-0.9.4 toml-0.10.2 toolz-0.11.2 torch-1.10.1 torchvision-0.11.2 typer-0.4.0 wasabi-0.9.0 xgboost-1.4.2 xmltodict-0.12.0 xxhash-2.0.2 yacs-0.1.8 zict-2.0.0\n",
      "\u001b[33mWARNING: Running pip as the 'root' user can result in broken permissions and conflicting behaviour with the system package manager. It is recommended to use a virtual environment instead: https://pip.pypa.io/warnings/venv\u001b[0m\n"
     ]
    }
   ],
   "source": [
    "!pip install -U pip\n",
    "!pip install -U setuptools wheel\n",
    "!pip install -U \"mxnet<2.0.0\" bokeh==2.0.1\n",
    "!pip install autogluon --no-cache-dir"
   ]
  },
  {
   "cell_type": "code",
   "execution_count": 3,
   "metadata": {},
   "outputs": [],
   "source": [
    "!mkdir -p /root/.kaggle\n",
    "!touch /root/.kaggle/kaggle.json\n",
    "!chmod 600 /root/.kaggle/kaggle.json"
   ]
  },
  {
   "cell_type": "code",
   "execution_count": 3,
   "metadata": {},
   "outputs": [
    {
     "name": "stdout",
     "output_type": "stream",
     "text": [
      "Collecting pandas\n",
      "  Using cached pandas-1.1.5-cp36-cp36m-manylinux1_x86_64.whl (9.5 MB)\n",
      "Collecting pytz>=2017.2\n",
      "  Using cached pytz-2021.3-py2.py3-none-any.whl (503 kB)\n",
      "Collecting numpy>=1.15.4\n",
      "  Using cached numpy-1.19.5-cp36-cp36m-manylinux2010_x86_64.whl (14.8 MB)\n",
      "Collecting python-dateutil>=2.7.3\n",
      "  Using cached python_dateutil-2.8.2-py2.py3-none-any.whl (247 kB)\n",
      "Collecting six>=1.5\n",
      "  Using cached six-1.16.0-py2.py3-none-any.whl (11 kB)\n",
      "Installing collected packages: six, pytz, python-dateutil, numpy, pandas\n",
      "  Attempting uninstall: six\n",
      "    Found existing installation: six 1.16.0\n",
      "    Uninstalling six-1.16.0:\n",
      "      Successfully uninstalled six-1.16.0\n",
      "  Attempting uninstall: pytz\n",
      "    Found existing installation: pytz 2021.1\n",
      "    Uninstalling pytz-2021.1:\n",
      "      Successfully uninstalled pytz-2021.1\n",
      "  Attempting uninstall: python-dateutil\n",
      "    Found existing installation: python-dateutil 2.8.2\n",
      "    Uninstalling python-dateutil-2.8.2:\n",
      "      Successfully uninstalled python-dateutil-2.8.2\n",
      "  Attempting uninstall: numpy\n",
      "    Found existing installation: numpy 1.19.1\n",
      "    Uninstalling numpy-1.19.1:\n",
      "      Successfully uninstalled numpy-1.19.1\n",
      "  Attempting uninstall: pandas\n",
      "    Found existing installation: pandas 1.1.5\n",
      "    Uninstalling pandas-1.1.5:\n",
      "      Successfully uninstalled pandas-1.1.5\n",
      "Successfully installed numpy-1.19.5 pandas-1.1.5 python-dateutil-2.8.2 pytz-2021.3 six-1.16.0\n",
      "\u001b[33mWARNING: Running pip as the 'root' user can result in broken permissions and conflicting behaviour with the system package manager. It is recommended to use a virtual environment instead: https://pip.pypa.io/warnings/venv\u001b[0m\n"
     ]
    }
   ],
   "source": [
    "!pip install --upgrade --force-reinstall pandas"
   ]
  },
  {
   "cell_type": "code",
   "execution_count": 6,
   "metadata": {
    "execution": {
     "iopub.execute_input": "2022-01-25T14:51:07.177784Z",
     "iopub.status.busy": "2022-01-25T14:51:07.177414Z",
     "iopub.status.idle": "2022-01-25T14:51:09.472599Z",
     "shell.execute_reply": "2022-01-25T14:51:09.471745Z",
     "shell.execute_reply.started": "2022-01-25T14:51:07.177731Z"
    }
   },
   "outputs": [],
   "source": [
    "import os\n",
    "import pandas as pd\n",
    "import numpy as np\n",
    "from autogluon.tabular import TabularPredictor\n",
    "from sklearn.metrics import r2_score, mean_absolute_error, mean_squared_error\n",
    "from sklearn.model_selection import train_test_split\n",
    "from sklearn.ensemble import ExtraTreesRegressor, AdaBoostRegressor\n",
    "from sklearn.neural_network import MLPRegressor"
   ]
  },
  {
   "cell_type": "code",
   "execution_count": 8,
   "metadata": {},
   "outputs": [],
   "source": [
    "import json\n",
    "kaggle_username = \"chrystianlima\"\n",
    "kaggle_key = \"9b76f7fd0f1015aa0673760929e2f423\"\n",
    "\n",
    "# Save API token the kaggle.json file\n",
    "with open(\"/root/.kaggle/kaggle.json\", \"w\") as f:\n",
    "    f.write(json.dumps({\"username\": kaggle_username, \"key\": kaggle_key}))"
   ]
  },
  {
   "cell_type": "markdown",
   "metadata": {},
   "source": [
    "#### Download the Bike Sharing Demand data from Kaggle."
   ]
  },
  {
   "cell_type": "code",
   "execution_count": 9,
   "metadata": {},
   "outputs": [
    {
     "name": "stdout",
     "output_type": "stream",
     "text": [
      "Downloading bike-sharing-demand.zip to /root/Predict-Bike-Sharing-Demand-with-Autogluon\n",
      "  0%|                                                | 0.00/189k [00:00<?, ?B/s]\n",
      "100%|████████████████████████████████████████| 189k/189k [00:00<00:00, 5.79MB/s]\n",
      "/bin/sh: 1: unzip: not found\n"
     ]
    }
   ],
   "source": [
    "!kaggle competitions download -c bike-sharing-demand\n",
    "!unzip -o bike-sharing-demand.zip"
   ]
  },
  {
   "cell_type": "code",
   "execution_count": 10,
   "metadata": {},
   "outputs": [],
   "source": [
    "import zipfile\n",
    "with zipfile.ZipFile('bike-sharing-demand.zip', 'r') as zip_ref:\n",
    "    zip_ref.extractall('.')"
   ]
  },
  {
   "cell_type": "markdown",
   "metadata": {},
   "source": [
    "#### Load all datasets from the Bike Sharing Demand competition into Pandas."
   ]
  },
  {
   "cell_type": "code",
   "execution_count": null,
   "metadata": {
    "execution": {
     "iopub.execute_input": "2022-01-25T14:51:09.475181Z",
     "iopub.status.busy": "2022-01-25T14:51:09.474597Z",
     "iopub.status.idle": "2022-01-25T14:51:09.576616Z",
     "shell.execute_reply": "2022-01-25T14:51:09.575194Z",
     "shell.execute_reply.started": "2022-01-25T14:51:09.475138Z"
    }
   },
   "outputs": [],
   "source": [
    "df_train = pd.read_csv('train.csv',parse_dates=['datetime'])\n",
    "df_test = pd.read_csv('test.csv',parse_dates=['datetime'])\n",
    "submission = pd.read_csv('sampleSubmission.csv')"
   ]
  },
  {
   "cell_type": "code",
   "execution_count": 6,
   "metadata": {},
   "outputs": [
    {
     "data": {
      "text/html": [
       "<div>\n",
       "<style scoped>\n",
       "    .dataframe tbody tr th:only-of-type {\n",
       "        vertical-align: middle;\n",
       "    }\n",
       "\n",
       "    .dataframe tbody tr th {\n",
       "        vertical-align: top;\n",
       "    }\n",
       "\n",
       "    .dataframe thead th {\n",
       "        text-align: right;\n",
       "    }\n",
       "</style>\n",
       "<table border=\"1\" class=\"dataframe\">\n",
       "  <thead>\n",
       "    <tr style=\"text-align: right;\">\n",
       "      <th></th>\n",
       "      <th>datetime</th>\n",
       "      <th>season</th>\n",
       "      <th>holiday</th>\n",
       "      <th>workingday</th>\n",
       "      <th>weather</th>\n",
       "      <th>temp</th>\n",
       "      <th>atemp</th>\n",
       "      <th>humidity</th>\n",
       "      <th>windspeed</th>\n",
       "      <th>casual</th>\n",
       "      <th>registered</th>\n",
       "      <th>count</th>\n",
       "    </tr>\n",
       "  </thead>\n",
       "  <tbody>\n",
       "    <tr>\n",
       "      <th>0</th>\n",
       "      <td>2011-01-01 00:00:00</td>\n",
       "      <td>1</td>\n",
       "      <td>0</td>\n",
       "      <td>0</td>\n",
       "      <td>1</td>\n",
       "      <td>9.84</td>\n",
       "      <td>14.395</td>\n",
       "      <td>81</td>\n",
       "      <td>0.0</td>\n",
       "      <td>3</td>\n",
       "      <td>13</td>\n",
       "      <td>16</td>\n",
       "    </tr>\n",
       "    <tr>\n",
       "      <th>1</th>\n",
       "      <td>2011-01-01 01:00:00</td>\n",
       "      <td>1</td>\n",
       "      <td>0</td>\n",
       "      <td>0</td>\n",
       "      <td>1</td>\n",
       "      <td>9.02</td>\n",
       "      <td>13.635</td>\n",
       "      <td>80</td>\n",
       "      <td>0.0</td>\n",
       "      <td>8</td>\n",
       "      <td>32</td>\n",
       "      <td>40</td>\n",
       "    </tr>\n",
       "    <tr>\n",
       "      <th>2</th>\n",
       "      <td>2011-01-01 02:00:00</td>\n",
       "      <td>1</td>\n",
       "      <td>0</td>\n",
       "      <td>0</td>\n",
       "      <td>1</td>\n",
       "      <td>9.02</td>\n",
       "      <td>13.635</td>\n",
       "      <td>80</td>\n",
       "      <td>0.0</td>\n",
       "      <td>5</td>\n",
       "      <td>27</td>\n",
       "      <td>32</td>\n",
       "    </tr>\n",
       "    <tr>\n",
       "      <th>3</th>\n",
       "      <td>2011-01-01 03:00:00</td>\n",
       "      <td>1</td>\n",
       "      <td>0</td>\n",
       "      <td>0</td>\n",
       "      <td>1</td>\n",
       "      <td>9.84</td>\n",
       "      <td>14.395</td>\n",
       "      <td>75</td>\n",
       "      <td>0.0</td>\n",
       "      <td>3</td>\n",
       "      <td>10</td>\n",
       "      <td>13</td>\n",
       "    </tr>\n",
       "    <tr>\n",
       "      <th>4</th>\n",
       "      <td>2011-01-01 04:00:00</td>\n",
       "      <td>1</td>\n",
       "      <td>0</td>\n",
       "      <td>0</td>\n",
       "      <td>1</td>\n",
       "      <td>9.84</td>\n",
       "      <td>14.395</td>\n",
       "      <td>75</td>\n",
       "      <td>0.0</td>\n",
       "      <td>0</td>\n",
       "      <td>1</td>\n",
       "      <td>1</td>\n",
       "    </tr>\n",
       "  </tbody>\n",
       "</table>\n",
       "</div>"
      ],
      "text/plain": [
       "             datetime  season  holiday  workingday  weather  temp   atemp  \\\n",
       "0 2011-01-01 00:00:00       1        0           0        1  9.84  14.395   \n",
       "1 2011-01-01 01:00:00       1        0           0        1  9.02  13.635   \n",
       "2 2011-01-01 02:00:00       1        0           0        1  9.02  13.635   \n",
       "3 2011-01-01 03:00:00       1        0           0        1  9.84  14.395   \n",
       "4 2011-01-01 04:00:00       1        0           0        1  9.84  14.395   \n",
       "\n",
       "   humidity  windspeed  casual  registered  count  \n",
       "0        81        0.0       3          13     16  \n",
       "1        80        0.0       8          32     40  \n",
       "2        80        0.0       5          27     32  \n",
       "3        75        0.0       3          10     13  \n",
       "4        75        0.0       0           1      1  "
      ]
     },
     "execution_count": 6,
     "metadata": {},
     "output_type": "execute_result"
    }
   ],
   "source": [
    "df_train.head()"
   ]
  },
  {
   "cell_type": "code",
   "execution_count": 7,
   "metadata": {
    "execution": {
     "iopub.execute_input": "2022-01-25T14:51:09.578982Z",
     "iopub.status.busy": "2022-01-25T14:51:09.578263Z",
     "iopub.status.idle": "2022-01-25T14:51:09.649580Z",
     "shell.execute_reply": "2022-01-25T14:51:09.648680Z",
     "shell.execute_reply.started": "2022-01-25T14:51:09.578908Z"
    }
   },
   "outputs": [
    {
     "data": {
      "text/html": [
       "<div>\n",
       "<style scoped>\n",
       "    .dataframe tbody tr th:only-of-type {\n",
       "        vertical-align: middle;\n",
       "    }\n",
       "\n",
       "    .dataframe tbody tr th {\n",
       "        vertical-align: top;\n",
       "    }\n",
       "\n",
       "    .dataframe thead th {\n",
       "        text-align: right;\n",
       "    }\n",
       "</style>\n",
       "<table border=\"1\" class=\"dataframe\">\n",
       "  <thead>\n",
       "    <tr style=\"text-align: right;\">\n",
       "      <th></th>\n",
       "      <th>season</th>\n",
       "      <th>holiday</th>\n",
       "      <th>workingday</th>\n",
       "      <th>weather</th>\n",
       "      <th>temp</th>\n",
       "      <th>atemp</th>\n",
       "      <th>humidity</th>\n",
       "      <th>windspeed</th>\n",
       "      <th>casual</th>\n",
       "      <th>registered</th>\n",
       "      <th>count</th>\n",
       "    </tr>\n",
       "  </thead>\n",
       "  <tbody>\n",
       "    <tr>\n",
       "      <th>count</th>\n",
       "      <td>10886.000000</td>\n",
       "      <td>10886.000000</td>\n",
       "      <td>10886.000000</td>\n",
       "      <td>10886.000000</td>\n",
       "      <td>10886.00000</td>\n",
       "      <td>10886.000000</td>\n",
       "      <td>10886.000000</td>\n",
       "      <td>10886.000000</td>\n",
       "      <td>10886.000000</td>\n",
       "      <td>10886.000000</td>\n",
       "      <td>10886.000000</td>\n",
       "    </tr>\n",
       "    <tr>\n",
       "      <th>mean</th>\n",
       "      <td>2.506614</td>\n",
       "      <td>0.028569</td>\n",
       "      <td>0.680875</td>\n",
       "      <td>1.418427</td>\n",
       "      <td>20.23086</td>\n",
       "      <td>23.655084</td>\n",
       "      <td>61.886460</td>\n",
       "      <td>12.799395</td>\n",
       "      <td>36.021955</td>\n",
       "      <td>155.552177</td>\n",
       "      <td>191.574132</td>\n",
       "    </tr>\n",
       "    <tr>\n",
       "      <th>std</th>\n",
       "      <td>1.116174</td>\n",
       "      <td>0.166599</td>\n",
       "      <td>0.466159</td>\n",
       "      <td>0.633839</td>\n",
       "      <td>7.79159</td>\n",
       "      <td>8.474601</td>\n",
       "      <td>19.245033</td>\n",
       "      <td>8.164537</td>\n",
       "      <td>49.960477</td>\n",
       "      <td>151.039033</td>\n",
       "      <td>181.144454</td>\n",
       "    </tr>\n",
       "    <tr>\n",
       "      <th>min</th>\n",
       "      <td>1.000000</td>\n",
       "      <td>0.000000</td>\n",
       "      <td>0.000000</td>\n",
       "      <td>1.000000</td>\n",
       "      <td>0.82000</td>\n",
       "      <td>0.760000</td>\n",
       "      <td>0.000000</td>\n",
       "      <td>0.000000</td>\n",
       "      <td>0.000000</td>\n",
       "      <td>0.000000</td>\n",
       "      <td>1.000000</td>\n",
       "    </tr>\n",
       "    <tr>\n",
       "      <th>25%</th>\n",
       "      <td>2.000000</td>\n",
       "      <td>0.000000</td>\n",
       "      <td>0.000000</td>\n",
       "      <td>1.000000</td>\n",
       "      <td>13.94000</td>\n",
       "      <td>16.665000</td>\n",
       "      <td>47.000000</td>\n",
       "      <td>7.001500</td>\n",
       "      <td>4.000000</td>\n",
       "      <td>36.000000</td>\n",
       "      <td>42.000000</td>\n",
       "    </tr>\n",
       "    <tr>\n",
       "      <th>50%</th>\n",
       "      <td>3.000000</td>\n",
       "      <td>0.000000</td>\n",
       "      <td>1.000000</td>\n",
       "      <td>1.000000</td>\n",
       "      <td>20.50000</td>\n",
       "      <td>24.240000</td>\n",
       "      <td>62.000000</td>\n",
       "      <td>12.998000</td>\n",
       "      <td>17.000000</td>\n",
       "      <td>118.000000</td>\n",
       "      <td>145.000000</td>\n",
       "    </tr>\n",
       "    <tr>\n",
       "      <th>75%</th>\n",
       "      <td>4.000000</td>\n",
       "      <td>0.000000</td>\n",
       "      <td>1.000000</td>\n",
       "      <td>2.000000</td>\n",
       "      <td>26.24000</td>\n",
       "      <td>31.060000</td>\n",
       "      <td>77.000000</td>\n",
       "      <td>16.997900</td>\n",
       "      <td>49.000000</td>\n",
       "      <td>222.000000</td>\n",
       "      <td>284.000000</td>\n",
       "    </tr>\n",
       "    <tr>\n",
       "      <th>max</th>\n",
       "      <td>4.000000</td>\n",
       "      <td>1.000000</td>\n",
       "      <td>1.000000</td>\n",
       "      <td>4.000000</td>\n",
       "      <td>41.00000</td>\n",
       "      <td>45.455000</td>\n",
       "      <td>100.000000</td>\n",
       "      <td>56.996900</td>\n",
       "      <td>367.000000</td>\n",
       "      <td>886.000000</td>\n",
       "      <td>977.000000</td>\n",
       "    </tr>\n",
       "  </tbody>\n",
       "</table>\n",
       "</div>"
      ],
      "text/plain": [
       "             season       holiday    workingday       weather         temp  \\\n",
       "count  10886.000000  10886.000000  10886.000000  10886.000000  10886.00000   \n",
       "mean       2.506614      0.028569      0.680875      1.418427     20.23086   \n",
       "std        1.116174      0.166599      0.466159      0.633839      7.79159   \n",
       "min        1.000000      0.000000      0.000000      1.000000      0.82000   \n",
       "25%        2.000000      0.000000      0.000000      1.000000     13.94000   \n",
       "50%        3.000000      0.000000      1.000000      1.000000     20.50000   \n",
       "75%        4.000000      0.000000      1.000000      2.000000     26.24000   \n",
       "max        4.000000      1.000000      1.000000      4.000000     41.00000   \n",
       "\n",
       "              atemp      humidity     windspeed        casual    registered  \\\n",
       "count  10886.000000  10886.000000  10886.000000  10886.000000  10886.000000   \n",
       "mean      23.655084     61.886460     12.799395     36.021955    155.552177   \n",
       "std        8.474601     19.245033      8.164537     49.960477    151.039033   \n",
       "min        0.760000      0.000000      0.000000      0.000000      0.000000   \n",
       "25%       16.665000     47.000000      7.001500      4.000000     36.000000   \n",
       "50%       24.240000     62.000000     12.998000     17.000000    118.000000   \n",
       "75%       31.060000     77.000000     16.997900     49.000000    222.000000   \n",
       "max       45.455000    100.000000     56.996900    367.000000    886.000000   \n",
       "\n",
       "              count  \n",
       "count  10886.000000  \n",
       "mean     191.574132  \n",
       "std      181.144454  \n",
       "min        1.000000  \n",
       "25%       42.000000  \n",
       "50%      145.000000  \n",
       "75%      284.000000  \n",
       "max      977.000000  "
      ]
     },
     "execution_count": 7,
     "metadata": {},
     "output_type": "execute_result"
    }
   ],
   "source": [
    "df_train.describe()"
   ]
  },
  {
   "cell_type": "code",
   "execution_count": 8,
   "metadata": {
    "execution": {
     "iopub.execute_input": "2022-01-25T14:51:09.651283Z",
     "iopub.status.busy": "2022-01-25T14:51:09.651009Z",
     "iopub.status.idle": "2022-01-25T14:51:09.667788Z",
     "shell.execute_reply": "2022-01-25T14:51:09.667062Z",
     "shell.execute_reply.started": "2022-01-25T14:51:09.651245Z"
    }
   },
   "outputs": [
    {
     "data": {
      "text/html": [
       "<div>\n",
       "<style scoped>\n",
       "    .dataframe tbody tr th:only-of-type {\n",
       "        vertical-align: middle;\n",
       "    }\n",
       "\n",
       "    .dataframe tbody tr th {\n",
       "        vertical-align: top;\n",
       "    }\n",
       "\n",
       "    .dataframe thead th {\n",
       "        text-align: right;\n",
       "    }\n",
       "</style>\n",
       "<table border=\"1\" class=\"dataframe\">\n",
       "  <thead>\n",
       "    <tr style=\"text-align: right;\">\n",
       "      <th></th>\n",
       "      <th>datetime</th>\n",
       "      <th>season</th>\n",
       "      <th>holiday</th>\n",
       "      <th>workingday</th>\n",
       "      <th>weather</th>\n",
       "      <th>temp</th>\n",
       "      <th>atemp</th>\n",
       "      <th>humidity</th>\n",
       "      <th>windspeed</th>\n",
       "    </tr>\n",
       "  </thead>\n",
       "  <tbody>\n",
       "    <tr>\n",
       "      <th>0</th>\n",
       "      <td>2011-01-20 00:00:00</td>\n",
       "      <td>1</td>\n",
       "      <td>0</td>\n",
       "      <td>1</td>\n",
       "      <td>1</td>\n",
       "      <td>10.66</td>\n",
       "      <td>11.365</td>\n",
       "      <td>56</td>\n",
       "      <td>26.0027</td>\n",
       "    </tr>\n",
       "    <tr>\n",
       "      <th>1</th>\n",
       "      <td>2011-01-20 01:00:00</td>\n",
       "      <td>1</td>\n",
       "      <td>0</td>\n",
       "      <td>1</td>\n",
       "      <td>1</td>\n",
       "      <td>10.66</td>\n",
       "      <td>13.635</td>\n",
       "      <td>56</td>\n",
       "      <td>0.0000</td>\n",
       "    </tr>\n",
       "    <tr>\n",
       "      <th>2</th>\n",
       "      <td>2011-01-20 02:00:00</td>\n",
       "      <td>1</td>\n",
       "      <td>0</td>\n",
       "      <td>1</td>\n",
       "      <td>1</td>\n",
       "      <td>10.66</td>\n",
       "      <td>13.635</td>\n",
       "      <td>56</td>\n",
       "      <td>0.0000</td>\n",
       "    </tr>\n",
       "    <tr>\n",
       "      <th>3</th>\n",
       "      <td>2011-01-20 03:00:00</td>\n",
       "      <td>1</td>\n",
       "      <td>0</td>\n",
       "      <td>1</td>\n",
       "      <td>1</td>\n",
       "      <td>10.66</td>\n",
       "      <td>12.880</td>\n",
       "      <td>56</td>\n",
       "      <td>11.0014</td>\n",
       "    </tr>\n",
       "    <tr>\n",
       "      <th>4</th>\n",
       "      <td>2011-01-20 04:00:00</td>\n",
       "      <td>1</td>\n",
       "      <td>0</td>\n",
       "      <td>1</td>\n",
       "      <td>1</td>\n",
       "      <td>10.66</td>\n",
       "      <td>12.880</td>\n",
       "      <td>56</td>\n",
       "      <td>11.0014</td>\n",
       "    </tr>\n",
       "  </tbody>\n",
       "</table>\n",
       "</div>"
      ],
      "text/plain": [
       "             datetime  season  holiday  workingday  weather   temp   atemp  \\\n",
       "0 2011-01-20 00:00:00       1        0           1        1  10.66  11.365   \n",
       "1 2011-01-20 01:00:00       1        0           1        1  10.66  13.635   \n",
       "2 2011-01-20 02:00:00       1        0           1        1  10.66  13.635   \n",
       "3 2011-01-20 03:00:00       1        0           1        1  10.66  12.880   \n",
       "4 2011-01-20 04:00:00       1        0           1        1  10.66  12.880   \n",
       "\n",
       "   humidity  windspeed  \n",
       "0        56    26.0027  \n",
       "1        56     0.0000  \n",
       "2        56     0.0000  \n",
       "3        56    11.0014  \n",
       "4        56    11.0014  "
      ]
     },
     "execution_count": 8,
     "metadata": {},
     "output_type": "execute_result"
    }
   ],
   "source": [
    "df_test.head()"
   ]
  },
  {
   "cell_type": "code",
   "execution_count": 9,
   "metadata": {
    "execution": {
     "iopub.execute_input": "2022-01-25T14:51:09.669572Z",
     "iopub.status.busy": "2022-01-25T14:51:09.669195Z",
     "iopub.status.idle": "2022-01-25T14:51:09.688685Z",
     "shell.execute_reply": "2022-01-25T14:51:09.687517Z",
     "shell.execute_reply.started": "2022-01-25T14:51:09.669540Z"
    }
   },
   "outputs": [
    {
     "data": {
      "text/html": [
       "<div>\n",
       "<style scoped>\n",
       "    .dataframe tbody tr th:only-of-type {\n",
       "        vertical-align: middle;\n",
       "    }\n",
       "\n",
       "    .dataframe tbody tr th {\n",
       "        vertical-align: top;\n",
       "    }\n",
       "\n",
       "    .dataframe thead th {\n",
       "        text-align: right;\n",
       "    }\n",
       "</style>\n",
       "<table border=\"1\" class=\"dataframe\">\n",
       "  <thead>\n",
       "    <tr style=\"text-align: right;\">\n",
       "      <th></th>\n",
       "      <th>datetime</th>\n",
       "      <th>count</th>\n",
       "    </tr>\n",
       "  </thead>\n",
       "  <tbody>\n",
       "    <tr>\n",
       "      <th>0</th>\n",
       "      <td>2011-01-20 00:00:00</td>\n",
       "      <td>0</td>\n",
       "    </tr>\n",
       "    <tr>\n",
       "      <th>1</th>\n",
       "      <td>2011-01-20 01:00:00</td>\n",
       "      <td>0</td>\n",
       "    </tr>\n",
       "    <tr>\n",
       "      <th>2</th>\n",
       "      <td>2011-01-20 02:00:00</td>\n",
       "      <td>0</td>\n",
       "    </tr>\n",
       "    <tr>\n",
       "      <th>3</th>\n",
       "      <td>2011-01-20 03:00:00</td>\n",
       "      <td>0</td>\n",
       "    </tr>\n",
       "    <tr>\n",
       "      <th>4</th>\n",
       "      <td>2011-01-20 04:00:00</td>\n",
       "      <td>0</td>\n",
       "    </tr>\n",
       "  </tbody>\n",
       "</table>\n",
       "</div>"
      ],
      "text/plain": [
       "              datetime  count\n",
       "0  2011-01-20 00:00:00      0\n",
       "1  2011-01-20 01:00:00      0\n",
       "2  2011-01-20 02:00:00      0\n",
       "3  2011-01-20 03:00:00      0\n",
       "4  2011-01-20 04:00:00      0"
      ]
     },
     "execution_count": 9,
     "metadata": {},
     "output_type": "execute_result"
    }
   ],
   "source": [
    "submission.head()"
   ]
  },
  {
   "cell_type": "code",
   "execution_count": 10,
   "metadata": {
    "execution": {
     "iopub.execute_input": "2022-01-25T14:51:09.690557Z",
     "iopub.status.busy": "2022-01-25T14:51:09.690321Z",
     "iopub.status.idle": "2022-01-25T14:51:09.700911Z",
     "shell.execute_reply": "2022-01-25T14:51:09.699726Z",
     "shell.execute_reply.started": "2022-01-25T14:51:09.690530Z"
    }
   },
   "outputs": [],
   "source": [
    "df_train = df_train.drop(columns=['registered','casual'])"
   ]
  },
  {
   "cell_type": "markdown",
   "metadata": {},
   "source": [
    "#### Create a histogram of all features in the train dataset."
   ]
  },
  {
   "cell_type": "code",
   "execution_count": null,
   "metadata": {
    "execution": {
     "iopub.execute_input": "2022-01-25T14:51:09.703349Z",
     "iopub.status.busy": "2022-01-25T14:51:09.702946Z",
     "iopub.status.idle": "2022-01-25T14:51:10.537228Z",
     "shell.execute_reply": "2022-01-25T14:51:10.536230Z",
     "shell.execute_reply.started": "2022-01-25T14:51:09.703302Z"
    }
   },
   "outputs": [],
   "source": [
    "df_train.hist(fig_size(20,20))"
   ]
  },
  {
   "cell_type": "markdown",
   "metadata": {},
   "source": [
    "### First Round: No feature engineering and no hyper parameter\n",
    "#### Train a Tabular Prediction model on the training set. (1/3)"
   ]
  },
  {
   "cell_type": "code",
   "execution_count": 12,
   "metadata": {
    "execution": {
     "iopub.execute_input": "2022-01-25T14:51:10.544430Z",
     "iopub.status.busy": "2022-01-25T14:51:10.541506Z",
     "iopub.status.idle": "2022-01-25T14:56:11.020363Z",
     "shell.execute_reply": "2022-01-25T14:56:11.019018Z",
     "shell.execute_reply.started": "2022-01-25T14:51:10.544378Z"
    }
   },
   "outputs": [
    {
     "name": "stderr",
     "output_type": "stream",
     "text": [
      "No path specified. Models will be saved in: \"AutogluonModels/ag-20220128_204407/\"\n",
      "Presets specified: ['best_quality']\n",
      "Beginning AutoGluon training ... Time limit = 600s\n",
      "AutoGluon will save models to \"AutogluonModels/ag-20220128_204407/\"\n",
      "AutoGluon Version:  0.3.1\n",
      "Train Data Rows:    10886\n",
      "Train Data Columns: 9\n",
      "Preprocessing data ...\n",
      "AutoGluon infers your prediction problem is: 'regression' (because dtype of label-column == int and many unique label-values observed).\n",
      "\tLabel info (max, min, mean, stddev): (977, 1, 191.57413, 181.14445)\n",
      "\tIf 'regression' is not the correct problem_type, please manually specify the problem_type argument in fit() (You may specify problem_type as one of: ['binary', 'multiclass', 'regression'])\n",
      "Using Feature Generators to preprocess the data ...\n",
      "Fitting AutoMLPipelineFeatureGenerator...\n",
      "\tAvailable Memory:                    2923.66 MB\n",
      "\tTrain Data (Original)  Memory Usage: 0.78 MB (0.0% of available memory)\n",
      "\tInferring data type of each feature based on column values. Set feature_metadata_in to manually specify special dtypes of the features.\n",
      "\tStage 1 Generators:\n",
      "\t\tFitting AsTypeFeatureGenerator...\n",
      "\t\t\tNote: Converting 2 features to boolean dtype as they only contain 2 unique values.\n",
      "\tStage 2 Generators:\n",
      "\t\tFitting FillNaFeatureGenerator...\n",
      "\tStage 3 Generators:\n",
      "\t\tFitting IdentityFeatureGenerator...\n",
      "\t\tFitting DatetimeFeatureGenerator...\n",
      "\tStage 4 Generators:\n",
      "\t\tFitting DropUniqueFeatureGenerator...\n",
      "\tTypes of features in original data (raw dtype, special dtypes):\n",
      "\t\t('datetime', []) : 1 | ['datetime']\n",
      "\t\t('float', [])    : 3 | ['temp', 'atemp', 'windspeed']\n",
      "\t\t('int', [])      : 5 | ['season', 'holiday', 'workingday', 'weather', 'humidity']\n",
      "\tTypes of features in processed data (raw dtype, special dtypes):\n",
      "\t\t('float', [])                : 3 | ['temp', 'atemp', 'windspeed']\n",
      "\t\t('int', [])                  : 3 | ['season', 'weather', 'humidity']\n",
      "\t\t('int', ['bool'])            : 2 | ['holiday', 'workingday']\n",
      "\t\t('int', ['datetime_as_int']) : 1 | ['datetime']\n",
      "\t0.2s = Fit runtime\n",
      "\t9 features in original data used to generate 9 features in processed data.\n",
      "\tTrain Data (Processed) Memory Usage: 0.63 MB (0.0% of available memory)\n",
      "Data preprocessing and feature engineering runtime = 0.25s ...\n",
      "AutoGluon will gauge predictive performance using evaluation metric: 'root_mean_squared_error'\n",
      "\tTo change this, specify the eval_metric argument of fit()\n",
      "AutoGluon will fit 2 stack levels (L1 to L2) ...\n",
      "Fitting 11 L1 models ...\n",
      "Fitting model: KNeighborsUnif_BAG_L1 ... Training model for up to 399.73s of the 599.73s of remaining time.\n",
      "\t-160.4131\t = Validation score   (root_mean_squared_error)\n",
      "\t0.03s\t = Training   runtime\n",
      "\t0.1s\t = Validation runtime\n",
      "Fitting model: KNeighborsDist_BAG_L1 ... Training model for up to 399.35s of the 599.36s of remaining time.\n",
      "\t-169.5521\t = Validation score   (root_mean_squared_error)\n",
      "\t0.02s\t = Training   runtime\n",
      "\t0.1s\t = Validation runtime\n",
      "Fitting model: LightGBMXT_BAG_L1 ... Training model for up to 398.98s of the 598.99s of remaining time.\n",
      "/usr/local/lib/python3.6/site-packages/lightgbm/engine.py:239: UserWarning: 'verbose_eval' argument is deprecated and will be removed in a future release of LightGBM. Pass 'log_evaluation()' callback via 'callbacks' argument instead.\n",
      "  _log_warning(\"'verbose_eval' argument is deprecated and will be removed in a future release of LightGBM. \"\n"
     ]
    },
    {
     "name": "stdout",
     "output_type": "stream",
     "text": [
      "[1000]\ttrain_set's rmse: 123.806\tvalid_set's rmse: 134.369\n",
      "[2000]\ttrain_set's rmse: 117.412\tvalid_set's rmse: 133.705\n"
     ]
    },
    {
     "name": "stderr",
     "output_type": "stream",
     "text": [
      "/usr/local/lib/python3.6/site-packages/lightgbm/engine.py:239: UserWarning: 'verbose_eval' argument is deprecated and will be removed in a future release of LightGBM. Pass 'log_evaluation()' callback via 'callbacks' argument instead.\n",
      "  _log_warning(\"'verbose_eval' argument is deprecated and will be removed in a future release of LightGBM. \"\n"
     ]
    },
    {
     "name": "stdout",
     "output_type": "stream",
     "text": [
      "[1000]\ttrain_set's rmse: 123.42\tvalid_set's rmse: 141.5\n"
     ]
    },
    {
     "name": "stderr",
     "output_type": "stream",
     "text": [
      "/usr/local/lib/python3.6/site-packages/lightgbm/engine.py:239: UserWarning: 'verbose_eval' argument is deprecated and will be removed in a future release of LightGBM. Pass 'log_evaluation()' callback via 'callbacks' argument instead.\n",
      "  _log_warning(\"'verbose_eval' argument is deprecated and will be removed in a future release of LightGBM. \"\n"
     ]
    },
    {
     "name": "stdout",
     "output_type": "stream",
     "text": [
      "[1000]\ttrain_set's rmse: 125.097\tvalid_set's rmse: 128.797\n",
      "[2000]\ttrain_set's rmse: 119.003\tvalid_set's rmse: 127.909\n",
      "[3000]\ttrain_set's rmse: 114.63\tvalid_set's rmse: 127.431\n",
      "[4000]\ttrain_set's rmse: 111.295\tvalid_set's rmse: 126.943\n",
      "[5000]\ttrain_set's rmse: 108.576\tvalid_set's rmse: 126.844\n",
      "[6000]\ttrain_set's rmse: 106.085\tvalid_set's rmse: 126.71\n"
     ]
    },
    {
     "name": "stderr",
     "output_type": "stream",
     "text": [
      "/usr/local/lib/python3.6/site-packages/lightgbm/engine.py:239: UserWarning: 'verbose_eval' argument is deprecated and will be removed in a future release of LightGBM. Pass 'log_evaluation()' callback via 'callbacks' argument instead.\n",
      "  _log_warning(\"'verbose_eval' argument is deprecated and will be removed in a future release of LightGBM. \"\n"
     ]
    },
    {
     "name": "stdout",
     "output_type": "stream",
     "text": [
      "[1000]\ttrain_set's rmse: 124.131\tvalid_set's rmse: 138.303\n",
      "[2000]\ttrain_set's rmse: 117.833\tvalid_set's rmse: 137.535\n"
     ]
    },
    {
     "name": "stderr",
     "output_type": "stream",
     "text": [
      "/usr/local/lib/python3.6/site-packages/lightgbm/engine.py:239: UserWarning: 'verbose_eval' argument is deprecated and will be removed in a future release of LightGBM. Pass 'log_evaluation()' callback via 'callbacks' argument instead.\n",
      "  _log_warning(\"'verbose_eval' argument is deprecated and will be removed in a future release of LightGBM. \"\n"
     ]
    },
    {
     "name": "stdout",
     "output_type": "stream",
     "text": [
      "[1000]\ttrain_set's rmse: 124.871\tvalid_set's rmse: 128.052\n",
      "[2000]\ttrain_set's rmse: 118.547\tvalid_set's rmse: 127.003\n",
      "[3000]\ttrain_set's rmse: 114.124\tvalid_set's rmse: 126.834\n",
      "[4000]\ttrain_set's rmse: 110.645\tvalid_set's rmse: 126.694\n"
     ]
    },
    {
     "name": "stderr",
     "output_type": "stream",
     "text": [
      "/usr/local/lib/python3.6/site-packages/lightgbm/engine.py:239: UserWarning: 'verbose_eval' argument is deprecated and will be removed in a future release of LightGBM. Pass 'log_evaluation()' callback via 'callbacks' argument instead.\n",
      "  _log_warning(\"'verbose_eval' argument is deprecated and will be removed in a future release of LightGBM. \"\n"
     ]
    },
    {
     "name": "stdout",
     "output_type": "stream",
     "text": [
      "[1000]\ttrain_set's rmse: 124.654\tvalid_set's rmse: 135.095\n",
      "[2000]\ttrain_set's rmse: 118.764\tvalid_set's rmse: 133.849\n",
      "[3000]\ttrain_set's rmse: 114.615\tvalid_set's rmse: 133.509\n",
      "[4000]\ttrain_set's rmse: 111.249\tvalid_set's rmse: 133.472\n",
      "[5000]\ttrain_set's rmse: 108.455\tvalid_set's rmse: 133.281\n"
     ]
    },
    {
     "name": "stderr",
     "output_type": "stream",
     "text": [
      "/usr/local/lib/python3.6/site-packages/lightgbm/engine.py:239: UserWarning: 'verbose_eval' argument is deprecated and will be removed in a future release of LightGBM. Pass 'log_evaluation()' callback via 'callbacks' argument instead.\n",
      "  _log_warning(\"'verbose_eval' argument is deprecated and will be removed in a future release of LightGBM. \"\n"
     ]
    },
    {
     "name": "stdout",
     "output_type": "stream",
     "text": [
      "[1000]\ttrain_set's rmse: 124.01\tvalid_set's rmse: 139.355\n",
      "[2000]\ttrain_set's rmse: 117.819\tvalid_set's rmse: 138.312\n",
      "[3000]\ttrain_set's rmse: 113.4\tvalid_set's rmse: 137.886\n",
      "[4000]\ttrain_set's rmse: 110.032\tvalid_set's rmse: 137.758\n"
     ]
    },
    {
     "name": "stderr",
     "output_type": "stream",
     "text": [
      "/usr/local/lib/python3.6/site-packages/lightgbm/engine.py:239: UserWarning: 'verbose_eval' argument is deprecated and will be removed in a future release of LightGBM. Pass 'log_evaluation()' callback via 'callbacks' argument instead.\n",
      "  _log_warning(\"'verbose_eval' argument is deprecated and will be removed in a future release of LightGBM. \"\n"
     ]
    },
    {
     "name": "stdout",
     "output_type": "stream",
     "text": [
      "[1000]\ttrain_set's rmse: 124.47\tvalid_set's rmse: 135.412\n"
     ]
    },
    {
     "name": "stderr",
     "output_type": "stream",
     "text": [
      "/usr/local/lib/python3.6/site-packages/lightgbm/engine.py:239: UserWarning: 'verbose_eval' argument is deprecated and will be removed in a future release of LightGBM. Pass 'log_evaluation()' callback via 'callbacks' argument instead.\n",
      "  _log_warning(\"'verbose_eval' argument is deprecated and will be removed in a future release of LightGBM. \"\n"
     ]
    },
    {
     "name": "stdout",
     "output_type": "stream",
     "text": [
      "[1000]\ttrain_set's rmse: 124.18\tvalid_set's rmse: 137.579\n",
      "[2000]\ttrain_set's rmse: 117.782\tvalid_set's rmse: 136.664\n",
      "[3000]\ttrain_set's rmse: 113.447\tvalid_set's rmse: 136.246\n",
      "[4000]\ttrain_set's rmse: 109.982\tvalid_set's rmse: 136.227\n"
     ]
    },
    {
     "name": "stderr",
     "output_type": "stream",
     "text": [
      "/usr/local/lib/python3.6/site-packages/lightgbm/engine.py:239: UserWarning: 'verbose_eval' argument is deprecated and will be removed in a future release of LightGBM. Pass 'log_evaluation()' callback via 'callbacks' argument instead.\n",
      "  _log_warning(\"'verbose_eval' argument is deprecated and will be removed in a future release of LightGBM. \"\n"
     ]
    },
    {
     "name": "stdout",
     "output_type": "stream",
     "text": [
      "[1000]\ttrain_set's rmse: 124.641\tvalid_set's rmse: 132.484\n"
     ]
    },
    {
     "name": "stderr",
     "output_type": "stream",
     "text": [
      "\t-134.0883\t = Validation score   (root_mean_squared_error)\n",
      "\t43.03s\t = Training   runtime\n",
      "\t2.31s\t = Validation runtime\n",
      "Fitting model: LightGBM_BAG_L1 ... Training model for up to 347.89s of the 547.9s of remaining time.\n",
      "/usr/local/lib/python3.6/site-packages/lightgbm/engine.py:239: UserWarning: 'verbose_eval' argument is deprecated and will be removed in a future release of LightGBM. Pass 'log_evaluation()' callback via 'callbacks' argument instead.\n",
      "  _log_warning(\"'verbose_eval' argument is deprecated and will be removed in a future release of LightGBM. \"\n",
      "/usr/local/lib/python3.6/site-packages/lightgbm/engine.py:239: UserWarning: 'verbose_eval' argument is deprecated and will be removed in a future release of LightGBM. Pass 'log_evaluation()' callback via 'callbacks' argument instead.\n",
      "  _log_warning(\"'verbose_eval' argument is deprecated and will be removed in a future release of LightGBM. \"\n",
      "/usr/local/lib/python3.6/site-packages/lightgbm/engine.py:239: UserWarning: 'verbose_eval' argument is deprecated and will be removed in a future release of LightGBM. Pass 'log_evaluation()' callback via 'callbacks' argument instead.\n",
      "  _log_warning(\"'verbose_eval' argument is deprecated and will be removed in a future release of LightGBM. \"\n"
     ]
    },
    {
     "name": "stdout",
     "output_type": "stream",
     "text": [
      "[1000]\ttrain_set's rmse: 96.0217\tvalid_set's rmse: 123.249\n"
     ]
    },
    {
     "name": "stderr",
     "output_type": "stream",
     "text": [
      "/usr/local/lib/python3.6/site-packages/lightgbm/engine.py:239: UserWarning: 'verbose_eval' argument is deprecated and will be removed in a future release of LightGBM. Pass 'log_evaluation()' callback via 'callbacks' argument instead.\n",
      "  _log_warning(\"'verbose_eval' argument is deprecated and will be removed in a future release of LightGBM. \"\n"
     ]
    },
    {
     "name": "stdout",
     "output_type": "stream",
     "text": [
      "[1000]\ttrain_set's rmse: 94.7479\tvalid_set's rmse: 135.635\n"
     ]
    },
    {
     "name": "stderr",
     "output_type": "stream",
     "text": [
      "/usr/local/lib/python3.6/site-packages/lightgbm/engine.py:239: UserWarning: 'verbose_eval' argument is deprecated and will be removed in a future release of LightGBM. Pass 'log_evaluation()' callback via 'callbacks' argument instead.\n",
      "  _log_warning(\"'verbose_eval' argument is deprecated and will be removed in a future release of LightGBM. \"\n",
      "/usr/local/lib/python3.6/site-packages/lightgbm/engine.py:239: UserWarning: 'verbose_eval' argument is deprecated and will be removed in a future release of LightGBM. Pass 'log_evaluation()' callback via 'callbacks' argument instead.\n",
      "  _log_warning(\"'verbose_eval' argument is deprecated and will be removed in a future release of LightGBM. \"\n"
     ]
    },
    {
     "name": "stdout",
     "output_type": "stream",
     "text": [
      "[1000]\ttrain_set's rmse: 95.3055\tvalid_set's rmse: 132.087\n"
     ]
    },
    {
     "name": "stderr",
     "output_type": "stream",
     "text": [
      "/usr/local/lib/python3.6/site-packages/lightgbm/engine.py:239: UserWarning: 'verbose_eval' argument is deprecated and will be removed in a future release of LightGBM. Pass 'log_evaluation()' callback via 'callbacks' argument instead.\n",
      "  _log_warning(\"'verbose_eval' argument is deprecated and will be removed in a future release of LightGBM. \"\n",
      "/usr/local/lib/python3.6/site-packages/lightgbm/engine.py:239: UserWarning: 'verbose_eval' argument is deprecated and will be removed in a future release of LightGBM. Pass 'log_evaluation()' callback via 'callbacks' argument instead.\n",
      "  _log_warning(\"'verbose_eval' argument is deprecated and will be removed in a future release of LightGBM. \"\n"
     ]
    },
    {
     "name": "stdout",
     "output_type": "stream",
     "text": [
      "[1000]\ttrain_set's rmse: 95.1635\tvalid_set's rmse: 131.521\n"
     ]
    },
    {
     "name": "stderr",
     "output_type": "stream",
     "text": [
      "/usr/local/lib/python3.6/site-packages/lightgbm/engine.py:239: UserWarning: 'verbose_eval' argument is deprecated and will be removed in a future release of LightGBM. Pass 'log_evaluation()' callback via 'callbacks' argument instead.\n",
      "  _log_warning(\"'verbose_eval' argument is deprecated and will be removed in a future release of LightGBM. \"\n",
      "/usr/local/lib/python3.6/site-packages/lightgbm/engine.py:239: UserWarning: 'verbose_eval' argument is deprecated and will be removed in a future release of LightGBM. Pass 'log_evaluation()' callback via 'callbacks' argument instead.\n",
      "  _log_warning(\"'verbose_eval' argument is deprecated and will be removed in a future release of LightGBM. \"\n",
      "\t-132.2864\t = Validation score   (root_mean_squared_error)\n",
      "\t13.46s\t = Training   runtime\n",
      "\t0.5s\t = Validation runtime\n",
      "Fitting model: RandomForestMSE_BAG_L1 ... Training model for up to 331.98s of the 531.98s of remaining time.\n",
      "\t-118.4567\t = Validation score   (root_mean_squared_error)\n",
      "\t7.08s\t = Training   runtime\n",
      "\t0.45s\t = Validation runtime\n",
      "Fitting model: CatBoost_BAG_L1 ... Training model for up to 321.58s of the 521.59s of remaining time.\n",
      "\t-132.3497\t = Validation score   (root_mean_squared_error)\n",
      "\t59.06s\t = Training   runtime\n",
      "\t0.05s\t = Validation runtime\n",
      "Fitting model: ExtraTreesMSE_BAG_L1 ... Training model for up to 261.7s of the 461.71s of remaining time.\n",
      "\t-128.7334\t = Validation score   (root_mean_squared_error)\n",
      "\t3.28s\t = Training   runtime\n",
      "\t0.43s\t = Validation runtime\n",
      "Fitting model: NeuralNetFastAI_BAG_L1 ... Training model for up to 255.21s of the 455.21s of remaining time.\n",
      "\t-138.0332\t = Validation score   (root_mean_squared_error)\n",
      "\t125.06s\t = Training   runtime\n",
      "\t0.35s\t = Validation runtime\n",
      "Fitting model: XGBoost_BAG_L1 ... Training model for up to 129.04s of the 329.05s of remaining time.\n",
      "\t-132.3085\t = Validation score   (root_mean_squared_error)\n",
      "\t14.7s\t = Training   runtime\n",
      "\t0.16s\t = Validation runtime\n",
      "Fitting model: NeuralNetMXNet_BAG_L1 ... Training model for up to 111.99s of the 312.0s of remaining time.\n",
      "\tRan out of time, stopping training early. (Stopping on epoch 8)\n",
      "\tRan out of time, stopping training early. (Stopping on epoch 12)\n",
      "\tRan out of time, stopping training early. (Stopping on epoch 12)\n",
      "\tRan out of time, stopping training early. (Stopping on epoch 12)\n",
      "\tRan out of time, stopping training early. (Stopping on epoch 13)\n",
      "\tRan out of time, stopping training early. (Stopping on epoch 13)\n",
      "\tRan out of time, stopping training early. (Stopping on epoch 14)\n",
      "\tRan out of time, stopping training early. (Stopping on epoch 15)\n",
      "\tRan out of time, stopping training early. (Stopping on epoch 17)\n",
      "\tRan out of time, stopping training early. (Stopping on epoch 20)\n",
      "\t-143.0055\t = Validation score   (root_mean_squared_error)\n",
      "\t105.77s\t = Training   runtime\n",
      "\t1.62s\t = Validation runtime\n",
      "Fitting model: LightGBMLarge_BAG_L1 ... Training model for up to 4.0s of the 204.0s of remaining time.\n",
      "/usr/local/lib/python3.6/site-packages/lightgbm/engine.py:239: UserWarning: 'verbose_eval' argument is deprecated and will be removed in a future release of LightGBM. Pass 'log_evaluation()' callback via 'callbacks' argument instead.\n",
      "  _log_warning(\"'verbose_eval' argument is deprecated and will be removed in a future release of LightGBM. \"\n",
      "\tRan out of time, early stopping on iteration 59. Best iteration is:\n",
      "\t[59]\ttrain_set's rmse: 122.028\tvalid_set's rmse: 134.975\n",
      "\tTime limit exceeded... Skipping LightGBMLarge_BAG_L1.\n",
      "Completed 1/20 k-fold bagging repeats ...\n",
      "Fitting model: WeightedEnsemble_L2 ... Training model for up to 360.0s of the 203.48s of remaining time.\n",
      "\t-118.4314\t = Validation score   (root_mean_squared_error)\n",
      "\t0.7s\t = Training   runtime\n",
      "\t0.0s\t = Validation runtime\n",
      "Fitting 9 L2 models ...\n",
      "Fitting model: LightGBMXT_BAG_L2 ... Training model for up to 202.71s of the 202.68s of remaining time.\n",
      "/usr/local/lib/python3.6/site-packages/lightgbm/engine.py:239: UserWarning: 'verbose_eval' argument is deprecated and will be removed in a future release of LightGBM. Pass 'log_evaluation()' callback via 'callbacks' argument instead.\n",
      "  _log_warning(\"'verbose_eval' argument is deprecated and will be removed in a future release of LightGBM. \"\n",
      "/usr/local/lib/python3.6/site-packages/lightgbm/engine.py:239: UserWarning: 'verbose_eval' argument is deprecated and will be removed in a future release of LightGBM. Pass 'log_evaluation()' callback via 'callbacks' argument instead.\n",
      "  _log_warning(\"'verbose_eval' argument is deprecated and will be removed in a future release of LightGBM. \"\n",
      "/usr/local/lib/python3.6/site-packages/lightgbm/engine.py:239: UserWarning: 'verbose_eval' argument is deprecated and will be removed in a future release of LightGBM. Pass 'log_evaluation()' callback via 'callbacks' argument instead.\n",
      "  _log_warning(\"'verbose_eval' argument is deprecated and will be removed in a future release of LightGBM. \"\n",
      "/usr/local/lib/python3.6/site-packages/lightgbm/engine.py:239: UserWarning: 'verbose_eval' argument is deprecated and will be removed in a future release of LightGBM. Pass 'log_evaluation()' callback via 'callbacks' argument instead.\n",
      "  _log_warning(\"'verbose_eval' argument is deprecated and will be removed in a future release of LightGBM. \"\n",
      "/usr/local/lib/python3.6/site-packages/lightgbm/engine.py:239: UserWarning: 'verbose_eval' argument is deprecated and will be removed in a future release of LightGBM. Pass 'log_evaluation()' callback via 'callbacks' argument instead.\n",
      "  _log_warning(\"'verbose_eval' argument is deprecated and will be removed in a future release of LightGBM. \"\n",
      "/usr/local/lib/python3.6/site-packages/lightgbm/engine.py:239: UserWarning: 'verbose_eval' argument is deprecated and will be removed in a future release of LightGBM. Pass 'log_evaluation()' callback via 'callbacks' argument instead.\n",
      "  _log_warning(\"'verbose_eval' argument is deprecated and will be removed in a future release of LightGBM. \"\n",
      "/usr/local/lib/python3.6/site-packages/lightgbm/engine.py:239: UserWarning: 'verbose_eval' argument is deprecated and will be removed in a future release of LightGBM. Pass 'log_evaluation()' callback via 'callbacks' argument instead.\n",
      "  _log_warning(\"'verbose_eval' argument is deprecated and will be removed in a future release of LightGBM. \"\n",
      "/usr/local/lib/python3.6/site-packages/lightgbm/engine.py:239: UserWarning: 'verbose_eval' argument is deprecated and will be removed in a future release of LightGBM. Pass 'log_evaluation()' callback via 'callbacks' argument instead.\n",
      "  _log_warning(\"'verbose_eval' argument is deprecated and will be removed in a future release of LightGBM. \"\n",
      "/usr/local/lib/python3.6/site-packages/lightgbm/engine.py:239: UserWarning: 'verbose_eval' argument is deprecated and will be removed in a future release of LightGBM. Pass 'log_evaluation()' callback via 'callbacks' argument instead.\n",
      "  _log_warning(\"'verbose_eval' argument is deprecated and will be removed in a future release of LightGBM. \"\n",
      "/usr/local/lib/python3.6/site-packages/lightgbm/engine.py:239: UserWarning: 'verbose_eval' argument is deprecated and will be removed in a future release of LightGBM. Pass 'log_evaluation()' callback via 'callbacks' argument instead.\n",
      "  _log_warning(\"'verbose_eval' argument is deprecated and will be removed in a future release of LightGBM. \"\n",
      "\t-116.3355\t = Validation score   (root_mean_squared_error)\n",
      "\t10.51s\t = Training   runtime\n",
      "\t0.2s\t = Validation runtime\n",
      "Fitting model: LightGBM_BAG_L2 ... Training model for up to 191.05s of the 191.02s of remaining time.\n",
      "/usr/local/lib/python3.6/site-packages/lightgbm/engine.py:239: UserWarning: 'verbose_eval' argument is deprecated and will be removed in a future release of LightGBM. Pass 'log_evaluation()' callback via 'callbacks' argument instead.\n",
      "  _log_warning(\"'verbose_eval' argument is deprecated and will be removed in a future release of LightGBM. \"\n",
      "/usr/local/lib/python3.6/site-packages/lightgbm/engine.py:239: UserWarning: 'verbose_eval' argument is deprecated and will be removed in a future release of LightGBM. Pass 'log_evaluation()' callback via 'callbacks' argument instead.\n",
      "  _log_warning(\"'verbose_eval' argument is deprecated and will be removed in a future release of LightGBM. \"\n",
      "/usr/local/lib/python3.6/site-packages/lightgbm/engine.py:239: UserWarning: 'verbose_eval' argument is deprecated and will be removed in a future release of LightGBM. Pass 'log_evaluation()' callback via 'callbacks' argument instead.\n",
      "  _log_warning(\"'verbose_eval' argument is deprecated and will be removed in a future release of LightGBM. \"\n",
      "/usr/local/lib/python3.6/site-packages/lightgbm/engine.py:239: UserWarning: 'verbose_eval' argument is deprecated and will be removed in a future release of LightGBM. Pass 'log_evaluation()' callback via 'callbacks' argument instead.\n",
      "  _log_warning(\"'verbose_eval' argument is deprecated and will be removed in a future release of LightGBM. \"\n",
      "/usr/local/lib/python3.6/site-packages/lightgbm/engine.py:239: UserWarning: 'verbose_eval' argument is deprecated and will be removed in a future release of LightGBM. Pass 'log_evaluation()' callback via 'callbacks' argument instead.\n",
      "  _log_warning(\"'verbose_eval' argument is deprecated and will be removed in a future release of LightGBM. \"\n",
      "/usr/local/lib/python3.6/site-packages/lightgbm/engine.py:239: UserWarning: 'verbose_eval' argument is deprecated and will be removed in a future release of LightGBM. Pass 'log_evaluation()' callback via 'callbacks' argument instead.\n",
      "  _log_warning(\"'verbose_eval' argument is deprecated and will be removed in a future release of LightGBM. \"\n",
      "/usr/local/lib/python3.6/site-packages/lightgbm/engine.py:239: UserWarning: 'verbose_eval' argument is deprecated and will be removed in a future release of LightGBM. Pass 'log_evaluation()' callback via 'callbacks' argument instead.\n",
      "  _log_warning(\"'verbose_eval' argument is deprecated and will be removed in a future release of LightGBM. \"\n",
      "/usr/local/lib/python3.6/site-packages/lightgbm/engine.py:239: UserWarning: 'verbose_eval' argument is deprecated and will be removed in a future release of LightGBM. Pass 'log_evaluation()' callback via 'callbacks' argument instead.\n",
      "  _log_warning(\"'verbose_eval' argument is deprecated and will be removed in a future release of LightGBM. \"\n",
      "/usr/local/lib/python3.6/site-packages/lightgbm/engine.py:239: UserWarning: 'verbose_eval' argument is deprecated and will be removed in a future release of LightGBM. Pass 'log_evaluation()' callback via 'callbacks' argument instead.\n",
      "  _log_warning(\"'verbose_eval' argument is deprecated and will be removed in a future release of LightGBM. \"\n",
      "/usr/local/lib/python3.6/site-packages/lightgbm/engine.py:239: UserWarning: 'verbose_eval' argument is deprecated and will be removed in a future release of LightGBM. Pass 'log_evaluation()' callback via 'callbacks' argument instead.\n",
      "  _log_warning(\"'verbose_eval' argument is deprecated and will be removed in a future release of LightGBM. \"\n",
      "\t-116.899\t = Validation score   (root_mean_squared_error)\n",
      "\t7.6s\t = Training   runtime\n",
      "\t0.09s\t = Validation runtime\n",
      "Fitting model: RandomForestMSE_BAG_L2 ... Training model for up to 182.76s of the 182.73s of remaining time.\n",
      "\t-119.2487\t = Validation score   (root_mean_squared_error)\n",
      "\t30.44s\t = Training   runtime\n",
      "\t0.51s\t = Validation runtime\n",
      "Fitting model: CatBoost_BAG_L2 ... Training model for up to 149.07s of the 149.04s of remaining time.\n",
      "\t-116.559\t = Validation score   (root_mean_squared_error)\n",
      "\t25.17s\t = Training   runtime\n",
      "\t0.04s\t = Validation runtime\n",
      "Fitting model: ExtraTreesMSE_BAG_L2 ... Training model for up to 123.37s of the 123.35s of remaining time.\n",
      "\t-117.447\t = Validation score   (root_mean_squared_error)\n",
      "\t6.79s\t = Training   runtime\n",
      "\t0.49s\t = Validation runtime\n",
      "Fitting model: NeuralNetFastAI_BAG_L2 ... Training model for up to 113.33s of the 113.3s of remaining time.\n",
      "\tRan out of time, stopping training early. (Stopping on epoch 19)\n",
      "\tRan out of time, stopping training early. (Stopping on epoch 20)\n",
      "\tRan out of time, stopping training early. (Stopping on epoch 21)\n",
      "\tRan out of time, stopping training early. (Stopping on epoch 20)\n",
      "\tRan out of time, stopping training early. (Stopping on epoch 22)\n",
      "\tRan out of time, stopping training early. (Stopping on epoch 22)\n",
      "\tRan out of time, stopping training early. (Stopping on epoch 24)\n",
      "\tRan out of time, stopping training early. (Stopping on epoch 27)\n",
      "No improvement since epoch 8: early stopping\n",
      "\t-115.5883\t = Validation score   (root_mean_squared_error)\n",
      "\t104.64s\t = Training   runtime\n",
      "\t0.42s\t = Validation runtime\n",
      "Fitting model: XGBoost_BAG_L2 ... Training model for up to 7.45s of the 7.43s of remaining time.\n",
      "\t-117.7426\t = Validation score   (root_mean_squared_error)\n",
      "\t6.69s\t = Training   runtime\n",
      "\t0.08s\t = Validation runtime\n",
      "Completed 1/20 k-fold bagging repeats ...\n",
      "Fitting model: WeightedEnsemble_L3 ... Training model for up to 360.0s of the -0.18s of remaining time.\n",
      "\t-114.9514\t = Validation score   (root_mean_squared_error)\n",
      "\t0.5s\t = Training   runtime\n",
      "\t0.0s\t = Validation runtime\n",
      "AutoGluon training complete, total runtime = 600.89s ...\n",
      "TabularPredictor saved. To load, use: predictor = TabularPredictor.load(\"AutogluonModels/ag-20220128_204407/\")\n"
     ]
    }
   ],
   "source": [
    "predictor = TabularPredictor(label='count', eval_metric='root_mean_squared_error').fit(train_data=df_train, presets='best_quality', time_limit=600)"
   ]
  },
  {
   "cell_type": "markdown",
   "metadata": {},
   "source": [
    "#### Model Evaluation"
   ]
  },
  {
   "cell_type": "code",
   "execution_count": 13,
   "metadata": {
    "execution": {
     "iopub.execute_input": "2022-01-25T14:56:11.022455Z",
     "iopub.status.busy": "2022-01-25T14:56:11.022166Z",
     "iopub.status.idle": "2022-01-25T14:56:11.344468Z",
     "shell.execute_reply": "2022-01-25T14:56:11.342568Z",
     "shell.execute_reply.started": "2022-01-25T14:56:11.022414Z"
    }
   },
   "outputs": [
    {
     "name": "stdout",
     "output_type": "stream",
     "text": [
      "*** Summary of fit() ***\n",
      "Estimated performance of each model:\n",
      "                     model   score_val  pred_time_val    fit_time  pred_time_val_marginal  fit_time_marginal  stack_level  can_infer  fit_order\n",
      "0      WeightedEnsemble_L3 -114.951355       7.277437  501.515864                0.000954           0.497918            3       True         19\n",
      "1   NeuralNetFastAI_BAG_L2 -115.588275       6.493976  476.114881                0.420649         104.636437            2       True         17\n",
      "2        LightGBMXT_BAG_L2 -116.335539       6.273750  381.991861                0.200423          10.513417            2       True         12\n",
      "3          CatBoost_BAG_L2 -116.558994       6.109352  396.650823                0.036025          25.172379            2       True         15\n",
      "4          LightGBM_BAG_L2 -116.899022       6.162126  379.082967                0.088799           7.604524            2       True         13\n",
      "5     ExtraTreesMSE_BAG_L2 -117.447003       6.566612  378.263567                0.493285           6.785124            2       True         16\n",
      "6           XGBoost_BAG_L2 -117.742593       6.153370  378.171602                0.080043           6.693159            2       True         18\n",
      "7      WeightedEnsemble_L2 -118.431385       2.078907  113.551587                0.000858           0.697284            2       True         11\n",
      "8   RandomForestMSE_BAG_L1 -118.456660       0.454106    7.080312                0.454106           7.080312            1       True          5\n",
      "9   RandomForestMSE_BAG_L2 -119.248656       6.584370  401.922521                0.511043          30.444078            2       True         14\n",
      "10    ExtraTreesMSE_BAG_L1 -128.733445       0.427198    3.275145                0.427198           3.275145            1       True          7\n",
      "11         LightGBM_BAG_L1 -132.286410       0.504037   13.456075                0.504037          13.456075            1       True          4\n",
      "12          XGBoost_BAG_L1 -132.308522       0.155724   14.697603                0.155724          14.697603            1       True          9\n",
      "13         CatBoost_BAG_L1 -132.349692       0.046530   59.064375                0.046530          59.064375            1       True          6\n",
      "14       LightGBMXT_BAG_L1 -134.088334       2.308810   43.027551                2.308810          43.027551            1       True          3\n",
      "15  NeuralNetFastAI_BAG_L1 -138.033162       0.345187  125.055226                0.345187         125.055226            1       True          8\n",
      "16   NeuralNetMXNet_BAG_L1 -143.005484       1.623943  105.773991                1.623943         105.773991            1       True         10\n",
      "17   KNeighborsUnif_BAG_L1 -160.413078       0.103186    0.026249                0.103186           0.026249            1       True          1\n",
      "18   KNeighborsDist_BAG_L1 -169.552096       0.104606    0.021915                0.104606           0.021915            1       True          2\n",
      "Number of models trained: 19\n",
      "Types of models trained:\n",
      "{'StackerEnsembleModel_XT', 'StackerEnsembleModel_NNFastAiTabular', 'StackerEnsembleModel_KNN', 'StackerEnsembleModel_TabularNeuralNet', 'StackerEnsembleModel_XGBoost', 'WeightedEnsembleModel', 'StackerEnsembleModel_RF', 'StackerEnsembleModel_CatBoost', 'StackerEnsembleModel_LGB'}\n",
      "Bagging used: True  (with 10 folds)\n",
      "Multi-layer stack-ensembling used: True  (with 3 levels)\n",
      "Feature Metadata (Processed):\n",
      "(raw dtype, special dtypes):\n",
      "('float', [])                : 3 | ['temp', 'atemp', 'windspeed']\n",
      "('int', [])                  : 3 | ['season', 'weather', 'humidity']\n",
      "('int', ['bool'])            : 2 | ['holiday', 'workingday']\n",
      "('int', ['datetime_as_int']) : 1 | ['datetime']\n",
      "Plot summary of models saved to file: AutogluonModels/ag-20220128_204407/SummaryOfModels.html\n",
      "*** End of fit() summary ***\n"
     ]
    }
   ],
   "source": [
    "summary = predictor.fit_summary()"
   ]
  },
  {
   "cell_type": "code",
   "execution_count": 14,
   "metadata": {
    "execution": {
     "iopub.execute_input": "2022-01-25T14:56:11.346362Z",
     "iopub.status.busy": "2022-01-25T14:56:11.346080Z",
     "iopub.status.idle": "2022-01-25T14:56:11.743874Z",
     "shell.execute_reply": "2022-01-25T14:56:11.742904Z",
     "shell.execute_reply.started": "2022-01-25T14:56:11.346327Z"
    }
   },
   "outputs": [
    {
     "data": {
      "text/plain": [
       "<AxesSubplot:xlabel='model'>"
      ]
     },
     "execution_count": 14,
     "metadata": {},
     "output_type": "execute_result"
    },
    {
     "data": {
      "image/png": "[encoded data removed]",
      "text/plain": [
       "<Figure size 432x288 with 1 Axes>"
      ]
     },
     "metadata": {
      "needs_background": "light"
     },
     "output_type": "display_data"
    }
   ],
   "source": [
    "predictor.leaderboard(silent=True).plot(kind='bar', x='model',y='score_val')"
   ]
  },
  {
   "cell_type": "code",
   "execution_count": 40,
   "metadata": {
    "execution": {
     "iopub.execute_input": "2022-01-25T14:56:34.470729Z",
     "iopub.status.busy": "2022-01-25T14:56:34.466175Z",
     "iopub.status.idle": "2022-01-25T14:56:52.384609Z",
     "shell.execute_reply": "2022-01-25T14:56:52.383147Z",
     "shell.execute_reply.started": "2022-01-25T14:56:34.470658Z"
    }
   },
   "outputs": [],
   "source": [
    "predictions = predictor.predict(df_test)\n",
    "predictions[predictions < 0] = 0"
   ]
  },
  {
   "cell_type": "code",
   "execution_count": 48,
   "metadata": {},
   "outputs": [],
   "source": [
    "submission['count'] = predictions"
   ]
  },
  {
   "cell_type": "code",
   "execution_count": 49,
   "metadata": {
    "execution": {
     "iopub.execute_input": "2022-01-25T14:56:52.418215Z",
     "iopub.status.busy": "2022-01-25T14:56:52.417918Z",
     "iopub.status.idle": "2022-01-25T14:56:52.466273Z",
     "shell.execute_reply": "2022-01-25T14:56:52.464845Z",
     "shell.execute_reply.started": "2022-01-25T14:56:52.418183Z"
    }
   },
   "outputs": [],
   "source": [
    "submission.to_csv(\"submission.csv\", index=False)"
   ]
  },
  {
   "cell_type": "code",
   "execution_count": 51,
   "metadata": {},
   "outputs": [
    {
     "name": "stdout",
     "output_type": "stream",
     "text": [
      "100%|█████████████████████████████████████████| 188k/188k [00:00<00:00, 373kB/s]\n",
      "Successfully submitted to Bike Sharing Demand"
     ]
    }
   ],
   "source": [
    "!kaggle competitions submit -c bike-sharing-demand -f submission.csv -m \"First submission\""
   ]
  },
  {
   "cell_type": "code",
   "execution_count": 52,
   "metadata": {},
   "outputs": [
    {
     "name": "stdout",
     "output_type": "stream",
     "text": [
      "fileName                      date                 description                              status    publicScore  privateScore  \n",
      "----------------------------  -------------------  ---------------------------------------  --------  -----------  ------------  \n",
      "submission.csv                2022-01-28 21:04:40  First submission                         complete  1.39795      1.39795       \n",
      "submission.csv                2022-01-28 21:01:58  First submission                         error     None         None          \n",
      "submission.csv                2022-01-28 20:59:16  First submission                         error     None         None          \n",
      "submission.csv                2022-01-28 20:55:47  First submission                         error     None         None          \n"
     ]
    }
   ],
   "source": [
    "!kaggle competitions submissions -c bike-sharing-demand | tail -n +1 | head -n 6"
   ]
  },
  {
   "cell_type": "markdown",
   "metadata": {},
   "source": [
    "### Second Round:  Feature engineering and no hyper parameter\n",
    "#### Create a feature and add it to the train and test dataset."
   ]
  },
  {
   "cell_type": "code",
   "execution_count": 56,
   "metadata": {},
   "outputs": [],
   "source": [
    "df_train['day'] = df_train.datetime.dt.day\n",
    "df_train['month'] = df_train.datetime.dt.month\n",
    "df_train['hour'] = df_train.datetime.dt.hour\n",
    "\n",
    "df_test['day'] = df_test.datetime.dt.day\n",
    "df_test['month'] = df_test.datetime.dt.month\n",
    "df_test['hour'] = df_test.datetime.dt.hour"
   ]
  },
  {
   "cell_type": "code",
   "execution_count": 57,
   "metadata": {
    "execution": {
     "iopub.execute_input": "2022-01-25T14:56:52.468383Z",
     "iopub.status.busy": "2022-01-25T14:56:52.468081Z",
     "iopub.status.idle": "2022-01-25T14:56:52.493500Z",
     "shell.execute_reply": "2022-01-25T14:56:52.492464Z",
     "shell.execute_reply.started": "2022-01-25T14:56:52.468352Z"
    }
   },
   "outputs": [],
   "source": [
    "bins_rush_hour = pd.IntervalIndex.from_tuples([(7, 9), (11, 13), (17, 18)])\n",
    "bins_temp = pd.IntervalIndex.from_tuples([(32, 50), (0, 15), (16, 31)])\n",
    "\n",
    "a = ['morning','lunch','evening']\n",
    "b = ['hot','cold','mild']\n",
    "\n",
    "df_train['rush_hour'] = np.array(a)[pd.cut(df_train[\"hour\"], bins = bins_rush_hour).cat.codes]\n",
    "df_train['temp_feels'] = np.array(b)[pd.cut(df_train[\"temp\"], bins = bins_temp).cat.codes]\n",
    "\n",
    "df_test['rush_hour'] = np.array(a)[pd.cut(df_test[\"hour\"], bins = bins_rush_hour).cat.codes]\n",
    "df_test['temp_feels'] = np.array(b)[pd.cut(df_test[\"temp\"], bins = bins_temp).cat.codes]"
   ]
  },
  {
   "cell_type": "markdown",
   "metadata": {},
   "source": [
    "#### Change the datatype of features in the train and test dataset."
   ]
  },
  {
   "cell_type": "code",
   "execution_count": 58,
   "metadata": {
    "execution": {
     "iopub.execute_input": "2022-01-25T14:56:52.495069Z",
     "iopub.status.busy": "2022-01-25T14:56:52.494810Z",
     "iopub.status.idle": "2022-01-25T14:56:52.506421Z",
     "shell.execute_reply": "2022-01-25T14:56:52.505639Z",
     "shell.execute_reply.started": "2022-01-25T14:56:52.495039Z"
    }
   },
   "outputs": [],
   "source": [
    "df_train[\"season\"] = df_train[\"season\"].astype('category')\n",
    "df_train[\"weather\"] = df_train[\"weather\"].astype('category')\n",
    "df_train[\"rush_hour\"] = df_train[\"season\"].astype('category')\n",
    "df_train[\"temp_feels\"] = df_train[\"weather\"].astype('category')\n",
    "\n",
    "df_test[\"season\"] = df_test[\"season\"].astype('category')\n",
    "df_test[\"weather\"] = df_test[\"weather\"].astype('category')\n",
    "df_test[\"rush_hour\"] = df_test[\"season\"].astype('category')\n",
    "df_test[\"temp_feels\"] = df_test[\"weather\"].astype('category')"
   ]
  },
  {
   "cell_type": "code",
   "execution_count": null,
   "metadata": {},
   "outputs": [],
   "source": [
    "df_train.plot(kind='hist')"
   ]
  },
  {
   "cell_type": "markdown",
   "metadata": {},
   "source": [
    "#### Train a Tabular Prediction model on the training set. (2/3)"
   ]
  },
  {
   "cell_type": "code",
   "execution_count": 59,
   "metadata": {
    "execution": {
     "iopub.execute_input": "2022-01-25T14:56:52.508866Z",
     "iopub.status.busy": "2022-01-25T14:56:52.508446Z",
     "iopub.status.idle": "2022-01-25T15:01:53.003716Z",
     "shell.execute_reply": "2022-01-25T15:01:53.002884Z",
     "shell.execute_reply.started": "2022-01-25T14:56:52.508815Z"
    }
   },
   "outputs": [
    {
     "name": "stderr",
     "output_type": "stream",
     "text": [
      "No path specified. Models will be saved in: \"AutogluonModels/ag-20220128_211022/\"\n",
      "Presets specified: ['best_quality']\n",
      "Beginning AutoGluon training ... Time limit = 600s\n",
      "AutoGluon will save models to \"AutogluonModels/ag-20220128_211022/\"\n",
      "AutoGluon Version:  0.3.1\n",
      "Train Data Rows:    10886\n",
      "Train Data Columns: 14\n",
      "Preprocessing data ...\n",
      "AutoGluon infers your prediction problem is: 'regression' (because dtype of label-column == int and many unique label-values observed).\n",
      "\tLabel info (max, min, mean, stddev): (977, 1, 191.57413, 181.14445)\n",
      "\tIf 'regression' is not the correct problem_type, please manually specify the problem_type argument in fit() (You may specify problem_type as one of: ['binary', 'multiclass', 'regression'])\n",
      "Using Feature Generators to preprocess the data ...\n",
      "Fitting AutoMLPipelineFeatureGenerator...\n",
      "\tAvailable Memory:                    2371.88 MB\n",
      "\tTrain Data (Original)  Memory Usage: 0.91 MB (0.0% of available memory)\n",
      "\tInferring data type of each feature based on column values. Set feature_metadata_in to manually specify special dtypes of the features.\n",
      "\tStage 1 Generators:\n",
      "\t\tFitting AsTypeFeatureGenerator...\n",
      "\t\t\tNote: Converting 2 features to boolean dtype as they only contain 2 unique values.\n",
      "\tStage 2 Generators:\n",
      "\t\tFitting FillNaFeatureGenerator...\n",
      "\tStage 3 Generators:\n",
      "\t\tFitting IdentityFeatureGenerator...\n",
      "\t\tFitting CategoryFeatureGenerator...\n",
      "\t\t\tFitting CategoryMemoryMinimizeFeatureGenerator...\n",
      "\t\tFitting DatetimeFeatureGenerator...\n",
      "\tStage 4 Generators:\n",
      "\t\tFitting DropUniqueFeatureGenerator...\n",
      "\tTypes of features in original data (raw dtype, special dtypes):\n",
      "\t\t('category', []) : 4 | ['season', 'weather', 'rush_hour', 'temp_feels']\n",
      "\t\t('datetime', []) : 1 | ['datetime']\n",
      "\t\t('float', [])    : 3 | ['temp', 'atemp', 'windspeed']\n",
      "\t\t('int', [])      : 6 | ['holiday', 'workingday', 'humidity', 'day', 'month', ...]\n",
      "\tTypes of features in processed data (raw dtype, special dtypes):\n",
      "\t\t('category', [])             : 4 | ['season', 'weather', 'rush_hour', 'temp_feels']\n",
      "\t\t('float', [])                : 3 | ['temp', 'atemp', 'windspeed']\n",
      "\t\t('int', [])                  : 4 | ['humidity', 'day', 'month', 'hour']\n",
      "\t\t('int', ['bool'])            : 2 | ['holiday', 'workingday']\n",
      "\t\t('int', ['datetime_as_int']) : 1 | ['datetime']\n",
      "\t0.3s = Fit runtime\n",
      "\t14 features in original data used to generate 14 features in processed data.\n",
      "\tTrain Data (Processed) Memory Usage: 0.76 MB (0.0% of available memory)\n",
      "Data preprocessing and feature engineering runtime = 0.35s ...\n",
      "AutoGluon will gauge predictive performance using evaluation metric: 'root_mean_squared_error'\n",
      "\tTo change this, specify the eval_metric argument of fit()\n",
      "AutoGluon will fit 2 stack levels (L1 to L2) ...\n",
      "Fitting 11 L1 models ...\n",
      "Fitting model: KNeighborsUnif_BAG_L1 ... Training model for up to 399.66s of the 599.64s of remaining time.\n",
      "\t-123.9216\t = Validation score   (root_mean_squared_error)\n",
      "\t0.03s\t = Training   runtime\n",
      "\t0.2s\t = Validation runtime\n",
      "Fitting model: KNeighborsDist_BAG_L1 ... Training model for up to 399.19s of the 599.17s of remaining time.\n",
      "\t-119.3726\t = Validation score   (root_mean_squared_error)\n",
      "\t0.03s\t = Training   runtime\n",
      "\t0.2s\t = Validation runtime\n",
      "Fitting model: LightGBMXT_BAG_L1 ... Training model for up to 398.73s of the 598.7s of remaining time.\n",
      "/usr/local/lib/python3.6/site-packages/lightgbm/engine.py:239: UserWarning: 'verbose_eval' argument is deprecated and will be removed in a future release of LightGBM. Pass 'log_evaluation()' callback via 'callbacks' argument instead.\n",
      "  _log_warning(\"'verbose_eval' argument is deprecated and will be removed in a future release of LightGBM. \"\n"
     ]
    },
    {
     "name": "stdout",
     "output_type": "stream",
     "text": [
      "[1000]\ttrain_set's rmse: 30.5763\tvalid_set's rmse: 37.8628\n",
      "[2000]\ttrain_set's rmse: 25.7134\tvalid_set's rmse: 36.3395\n",
      "[3000]\ttrain_set's rmse: 22.9495\tvalid_set's rmse: 36.0013\n",
      "[4000]\ttrain_set's rmse: 20.997\tvalid_set's rmse: 35.9575\n",
      "[5000]\ttrain_set's rmse: 19.4652\tvalid_set's rmse: 35.9188\n"
     ]
    },
    {
     "name": "stderr",
     "output_type": "stream",
     "text": [
      "/usr/local/lib/python3.6/site-packages/lightgbm/engine.py:239: UserWarning: 'verbose_eval' argument is deprecated and will be removed in a future release of LightGBM. Pass 'log_evaluation()' callback via 'callbacks' argument instead.\n",
      "  _log_warning(\"'verbose_eval' argument is deprecated and will be removed in a future release of LightGBM. \"\n"
     ]
    },
    {
     "name": "stdout",
     "output_type": "stream",
     "text": [
      "[1000]\ttrain_set's rmse: 30.6958\tvalid_set's rmse: 41.1434\n",
      "[2000]\ttrain_set's rmse: 25.7603\tvalid_set's rmse: 38.8057\n",
      "[3000]\ttrain_set's rmse: 23.0839\tvalid_set's rmse: 38.0752\n",
      "[4000]\ttrain_set's rmse: 21.1595\tvalid_set's rmse: 37.8037\n",
      "[5000]\ttrain_set's rmse: 19.6799\tvalid_set's rmse: 37.6065\n",
      "[6000]\ttrain_set's rmse: 18.4326\tvalid_set's rmse: 37.5343\n",
      "[7000]\ttrain_set's rmse: 17.3663\tvalid_set's rmse: 37.5123\n",
      "[8000]\ttrain_set's rmse: 16.4115\tvalid_set's rmse: 37.4443\n",
      "[9000]\ttrain_set's rmse: 15.6075\tvalid_set's rmse: 37.445\n",
      "[10000]\ttrain_set's rmse: 14.8746\tvalid_set's rmse: 37.4621\n"
     ]
    },
    {
     "name": "stderr",
     "output_type": "stream",
     "text": [
      "/usr/local/lib/python3.6/site-packages/lightgbm/engine.py:239: UserWarning: 'verbose_eval' argument is deprecated and will be removed in a future release of LightGBM. Pass 'log_evaluation()' callback via 'callbacks' argument instead.\n",
      "  _log_warning(\"'verbose_eval' argument is deprecated and will be removed in a future release of LightGBM. \"\n"
     ]
    },
    {
     "name": "stdout",
     "output_type": "stream",
     "text": [
      "[1000]\ttrain_set's rmse: 31.1245\tvalid_set's rmse: 35.453\n",
      "[2000]\ttrain_set's rmse: 25.9671\tvalid_set's rmse: 34.3683\n"
     ]
    },
    {
     "name": "stderr",
     "output_type": "stream",
     "text": [
      "/usr/local/lib/python3.6/site-packages/lightgbm/engine.py:239: UserWarning: 'verbose_eval' argument is deprecated and will be removed in a future release of LightGBM. Pass 'log_evaluation()' callback via 'callbacks' argument instead.\n",
      "  _log_warning(\"'verbose_eval' argument is deprecated and will be removed in a future release of LightGBM. \"\n"
     ]
    },
    {
     "name": "stdout",
     "output_type": "stream",
     "text": [
      "[1000]\ttrain_set's rmse: 30.3186\tvalid_set's rmse: 41.3087\n",
      "[2000]\ttrain_set's rmse: 25.4542\tvalid_set's rmse: 39.7257\n",
      "[3000]\ttrain_set's rmse: 22.8134\tvalid_set's rmse: 39.1902\n",
      "[4000]\ttrain_set's rmse: 20.933\tvalid_set's rmse: 38.784\n",
      "[5000]\ttrain_set's rmse: 19.5162\tvalid_set's rmse: 38.5515\n",
      "[6000]\ttrain_set's rmse: 18.3397\tvalid_set's rmse: 38.3221\n",
      "[7000]\ttrain_set's rmse: 17.3437\tvalid_set's rmse: 38.1892\n",
      "[8000]\ttrain_set's rmse: 16.4264\tvalid_set's rmse: 38.0065\n",
      "[9000]\ttrain_set's rmse: 15.6455\tvalid_set's rmse: 37.9394\n",
      "[10000]\ttrain_set's rmse: 14.9384\tvalid_set's rmse: 37.891\n"
     ]
    },
    {
     "name": "stderr",
     "output_type": "stream",
     "text": [
      "/usr/local/lib/python3.6/site-packages/lightgbm/engine.py:239: UserWarning: 'verbose_eval' argument is deprecated and will be removed in a future release of LightGBM. Pass 'log_evaluation()' callback via 'callbacks' argument instead.\n",
      "  _log_warning(\"'verbose_eval' argument is deprecated and will be removed in a future release of LightGBM. \"\n"
     ]
    },
    {
     "name": "stdout",
     "output_type": "stream",
     "text": [
      "[1000]\ttrain_set's rmse: 30.6853\tvalid_set's rmse: 38.1507\n",
      "[2000]\ttrain_set's rmse: 25.6324\tvalid_set's rmse: 37.0208\n",
      "[3000]\ttrain_set's rmse: 22.9351\tvalid_set's rmse: 36.7783\n"
     ]
    },
    {
     "name": "stderr",
     "output_type": "stream",
     "text": [
      "/usr/local/lib/python3.6/site-packages/lightgbm/engine.py:239: UserWarning: 'verbose_eval' argument is deprecated and will be removed in a future release of LightGBM. Pass 'log_evaluation()' callback via 'callbacks' argument instead.\n",
      "  _log_warning(\"'verbose_eval' argument is deprecated and will be removed in a future release of LightGBM. \"\n"
     ]
    },
    {
     "name": "stdout",
     "output_type": "stream",
     "text": [
      "[1000]\ttrain_set's rmse: 30.297\tvalid_set's rmse: 40.928\n",
      "[2000]\ttrain_set's rmse: 25.4619\tvalid_set's rmse: 39.9752\n",
      "[3000]\ttrain_set's rmse: 22.8106\tvalid_set's rmse: 39.9249\n"
     ]
    },
    {
     "name": "stderr",
     "output_type": "stream",
     "text": [
      "/usr/local/lib/python3.6/site-packages/lightgbm/engine.py:239: UserWarning: 'verbose_eval' argument is deprecated and will be removed in a future release of LightGBM. Pass 'log_evaluation()' callback via 'callbacks' argument instead.\n",
      "  _log_warning(\"'verbose_eval' argument is deprecated and will be removed in a future release of LightGBM. \"\n"
     ]
    },
    {
     "name": "stdout",
     "output_type": "stream",
     "text": [
      "[1000]\ttrain_set's rmse: 30.7977\tvalid_set's rmse: 38.847\n",
      "[2000]\ttrain_set's rmse: 25.9845\tvalid_set's rmse: 36.0828\n",
      "[3000]\ttrain_set's rmse: 23.2472\tvalid_set's rmse: 35.2282\n",
      "[4000]\ttrain_set's rmse: 21.3142\tvalid_set's rmse: 34.8165\n",
      "[5000]\ttrain_set's rmse: 19.7962\tvalid_set's rmse: 34.7483\n",
      "[6000]\ttrain_set's rmse: 18.4917\tvalid_set's rmse: 34.6288\n",
      "[7000]\ttrain_set's rmse: 17.3981\tvalid_set's rmse: 34.6289\n"
     ]
    },
    {
     "name": "stderr",
     "output_type": "stream",
     "text": [
      "/usr/local/lib/python3.6/site-packages/lightgbm/engine.py:239: UserWarning: 'verbose_eval' argument is deprecated and will be removed in a future release of LightGBM. Pass 'log_evaluation()' callback via 'callbacks' argument instead.\n",
      "  _log_warning(\"'verbose_eval' argument is deprecated and will be removed in a future release of LightGBM. \"\n"
     ]
    },
    {
     "name": "stdout",
     "output_type": "stream",
     "text": [
      "[1000]\ttrain_set's rmse: 30.641\tvalid_set's rmse: 39.7027\n",
      "[2000]\ttrain_set's rmse: 25.5857\tvalid_set's rmse: 37.9547\n",
      "[3000]\ttrain_set's rmse: 22.8704\tvalid_set's rmse: 37.5504\n",
      "[4000]\ttrain_set's rmse: 20.9846\tvalid_set's rmse: 37.4091\n",
      "[5000]\ttrain_set's rmse: 19.4646\tvalid_set's rmse: 37.2817\n",
      "[6000]\ttrain_set's rmse: 18.2018\tvalid_set's rmse: 37.2605\n",
      "[7000]\ttrain_set's rmse: 17.1758\tvalid_set's rmse: 37.2012\n",
      "[8000]\ttrain_set's rmse: 16.2734\tvalid_set's rmse: 37.1987\n",
      "[9000]\ttrain_set's rmse: 15.4425\tvalid_set's rmse: 37.255\n"
     ]
    },
    {
     "name": "stderr",
     "output_type": "stream",
     "text": [
      "/usr/local/lib/python3.6/site-packages/lightgbm/engine.py:239: UserWarning: 'verbose_eval' argument is deprecated and will be removed in a future release of LightGBM. Pass 'log_evaluation()' callback via 'callbacks' argument instead.\n",
      "  _log_warning(\"'verbose_eval' argument is deprecated and will be removed in a future release of LightGBM. \"\n"
     ]
    },
    {
     "name": "stdout",
     "output_type": "stream",
     "text": [
      "[1000]\ttrain_set's rmse: 30.5405\tvalid_set's rmse: 41.07\n",
      "[2000]\ttrain_set's rmse: 25.5035\tvalid_set's rmse: 39.9622\n"
     ]
    },
    {
     "name": "stderr",
     "output_type": "stream",
     "text": [
      "/usr/local/lib/python3.6/site-packages/lightgbm/engine.py:239: UserWarning: 'verbose_eval' argument is deprecated and will be removed in a future release of LightGBM. Pass 'log_evaluation()' callback via 'callbacks' argument instead.\n",
      "  _log_warning(\"'verbose_eval' argument is deprecated and will be removed in a future release of LightGBM. \"\n"
     ]
    },
    {
     "name": "stdout",
     "output_type": "stream",
     "text": [
      "[1000]\ttrain_set's rmse: 31.1358\tvalid_set's rmse: 37.9854\n",
      "[2000]\ttrain_set's rmse: 26.1185\tvalid_set's rmse: 35.8714\n",
      "[3000]\ttrain_set's rmse: 23.3642\tvalid_set's rmse: 35.3426\n",
      "[4000]\ttrain_set's rmse: 21.4707\tvalid_set's rmse: 35.1005\n",
      "[5000]\ttrain_set's rmse: 19.9541\tvalid_set's rmse: 34.894\n",
      "[6000]\ttrain_set's rmse: 18.6793\tvalid_set's rmse: 34.8081\n",
      "[7000]\ttrain_set's rmse: 17.5844\tvalid_set's rmse: 34.8366\n"
     ]
    },
    {
     "name": "stderr",
     "output_type": "stream",
     "text": [
      "\t-36.9101\t = Validation score   (root_mean_squared_error)\n",
      "\t90.81s\t = Training   runtime\n",
      "\t4.96s\t = Validation runtime\n",
      "Fitting model: LightGBM_BAG_L1 ... Training model for up to 292.32s of the 492.3s of remaining time.\n",
      "/usr/local/lib/python3.6/site-packages/lightgbm/engine.py:239: UserWarning: 'verbose_eval' argument is deprecated and will be removed in a future release of LightGBM. Pass 'log_evaluation()' callback via 'callbacks' argument instead.\n",
      "  _log_warning(\"'verbose_eval' argument is deprecated and will be removed in a future release of LightGBM. \"\n"
     ]
    },
    {
     "name": "stdout",
     "output_type": "stream",
     "text": [
      "[1000]\ttrain_set's rmse: 21.1363\tvalid_set's rmse: 35.5572\n",
      "[2000]\ttrain_set's rmse: 15.5114\tvalid_set's rmse: 35.4473\n"
     ]
    },
    {
     "name": "stderr",
     "output_type": "stream",
     "text": [
      "/usr/local/lib/python3.6/site-packages/lightgbm/engine.py:239: UserWarning: 'verbose_eval' argument is deprecated and will be removed in a future release of LightGBM. Pass 'log_evaluation()' callback via 'callbacks' argument instead.\n",
      "  _log_warning(\"'verbose_eval' argument is deprecated and will be removed in a future release of LightGBM. \"\n"
     ]
    },
    {
     "name": "stdout",
     "output_type": "stream",
     "text": [
      "[1000]\ttrain_set's rmse: 21.0431\tvalid_set's rmse: 36.9373\n",
      "[2000]\ttrain_set's rmse: 15.5393\tvalid_set's rmse: 36.1172\n",
      "[3000]\ttrain_set's rmse: 12.204\tvalid_set's rmse: 35.9179\n",
      "[4000]\ttrain_set's rmse: 9.99922\tvalid_set's rmse: 35.8485\n"
     ]
    },
    {
     "name": "stderr",
     "output_type": "stream",
     "text": [
      "/usr/local/lib/python3.6/site-packages/lightgbm/engine.py:239: UserWarning: 'verbose_eval' argument is deprecated and will be removed in a future release of LightGBM. Pass 'log_evaluation()' callback via 'callbacks' argument instead.\n",
      "  _log_warning(\"'verbose_eval' argument is deprecated and will be removed in a future release of LightGBM. \"\n"
     ]
    },
    {
     "name": "stdout",
     "output_type": "stream",
     "text": [
      "[1000]\ttrain_set's rmse: 21.4766\tvalid_set's rmse: 32.789\n"
     ]
    },
    {
     "name": "stderr",
     "output_type": "stream",
     "text": [
      "/usr/local/lib/python3.6/site-packages/lightgbm/engine.py:239: UserWarning: 'verbose_eval' argument is deprecated and will be removed in a future release of LightGBM. Pass 'log_evaluation()' callback via 'callbacks' argument instead.\n",
      "  _log_warning(\"'verbose_eval' argument is deprecated and will be removed in a future release of LightGBM. \"\n"
     ]
    },
    {
     "name": "stdout",
     "output_type": "stream",
     "text": [
      "[1000]\ttrain_set's rmse: 21.4591\tvalid_set's rmse: 38.1004\n",
      "[2000]\ttrain_set's rmse: 15.6967\tvalid_set's rmse: 37.1149\n",
      "[3000]\ttrain_set's rmse: 12.2044\tvalid_set's rmse: 36.7233\n",
      "[4000]\ttrain_set's rmse: 9.95476\tvalid_set's rmse: 36.6799\n"
     ]
    },
    {
     "name": "stderr",
     "output_type": "stream",
     "text": [
      "/usr/local/lib/python3.6/site-packages/lightgbm/engine.py:239: UserWarning: 'verbose_eval' argument is deprecated and will be removed in a future release of LightGBM. Pass 'log_evaluation()' callback via 'callbacks' argument instead.\n",
      "  _log_warning(\"'verbose_eval' argument is deprecated and will be removed in a future release of LightGBM. \"\n"
     ]
    },
    {
     "name": "stdout",
     "output_type": "stream",
     "text": [
      "[1000]\ttrain_set's rmse: 21.3995\tvalid_set's rmse: 37.384\n"
     ]
    },
    {
     "name": "stderr",
     "output_type": "stream",
     "text": [
      "/usr/local/lib/python3.6/site-packages/lightgbm/engine.py:239: UserWarning: 'verbose_eval' argument is deprecated and will be removed in a future release of LightGBM. Pass 'log_evaluation()' callback via 'callbacks' argument instead.\n",
      "  _log_warning(\"'verbose_eval' argument is deprecated and will be removed in a future release of LightGBM. \"\n",
      "/usr/local/lib/python3.6/site-packages/lightgbm/engine.py:239: UserWarning: 'verbose_eval' argument is deprecated and will be removed in a future release of LightGBM. Pass 'log_evaluation()' callback via 'callbacks' argument instead.\n",
      "  _log_warning(\"'verbose_eval' argument is deprecated and will be removed in a future release of LightGBM. \"\n"
     ]
    },
    {
     "name": "stdout",
     "output_type": "stream",
     "text": [
      "[1000]\ttrain_set's rmse: 21.6619\tvalid_set's rmse: 35.9544\n"
     ]
    },
    {
     "name": "stderr",
     "output_type": "stream",
     "text": [
      "/usr/local/lib/python3.6/site-packages/lightgbm/engine.py:239: UserWarning: 'verbose_eval' argument is deprecated and will be removed in a future release of LightGBM. Pass 'log_evaluation()' callback via 'callbacks' argument instead.\n",
      "  _log_warning(\"'verbose_eval' argument is deprecated and will be removed in a future release of LightGBM. \"\n"
     ]
    },
    {
     "name": "stdout",
     "output_type": "stream",
     "text": [
      "[1000]\ttrain_set's rmse: 20.9449\tvalid_set's rmse: 35.7483\n",
      "[2000]\ttrain_set's rmse: 15.4023\tvalid_set's rmse: 35.1407\n"
     ]
    },
    {
     "name": "stderr",
     "output_type": "stream",
     "text": [
      "/usr/local/lib/python3.6/site-packages/lightgbm/engine.py:239: UserWarning: 'verbose_eval' argument is deprecated and will be removed in a future release of LightGBM. Pass 'log_evaluation()' callback via 'callbacks' argument instead.\n",
      "  _log_warning(\"'verbose_eval' argument is deprecated and will be removed in a future release of LightGBM. \"\n",
      "/usr/local/lib/python3.6/site-packages/lightgbm/engine.py:239: UserWarning: 'verbose_eval' argument is deprecated and will be removed in a future release of LightGBM. Pass 'log_evaluation()' callback via 'callbacks' argument instead.\n",
      "  _log_warning(\"'verbose_eval' argument is deprecated and will be removed in a future release of LightGBM. \"\n"
     ]
    },
    {
     "name": "stdout",
     "output_type": "stream",
     "text": [
      "[1000]\ttrain_set's rmse: 21.3287\tvalid_set's rmse: 36.3231\n",
      "[2000]\ttrain_set's rmse: 15.6319\tvalid_set's rmse: 35.6071\n"
     ]
    },
    {
     "name": "stderr",
     "output_type": "stream",
     "text": [
      "\t-36.5791\t = Validation score   (root_mean_squared_error)\n",
      "\t31.51s\t = Training   runtime\n",
      "\t1.29s\t = Validation runtime\n",
      "Fitting model: RandomForestMSE_BAG_L1 ... Training model for up to 255.68s of the 455.66s of remaining time.\n",
      "\t-41.3337\t = Validation score   (root_mean_squared_error)\n",
      "\t11.0s\t = Training   runtime\n",
      "\t0.46s\t = Validation runtime\n",
      "Fitting model: CatBoost_BAG_L1 ... Training model for up to 241.55s of the 441.53s of remaining time.\n",
      "\tTime limit exceeded... Skipping CatBoost_BAG_L1.\n",
      "Fitting model: ExtraTreesMSE_BAG_L1 ... Training model for up to 209.31s of the 409.29s of remaining time.\n",
      "\t-41.0043\t = Validation score   (root_mean_squared_error)\n",
      "\t4.59s\t = Training   runtime\n",
      "\t0.46s\t = Validation runtime\n",
      "Fitting model: NeuralNetFastAI_BAG_L1 ... Training model for up to 201.56s of the 401.54s of remaining time.\n",
      "\tRan out of time, stopping training early. (Stopping on epoch 29)\n",
      "\tRan out of time, stopping training early. (Stopping on epoch 28)\n",
      "\t-46.1972\t = Validation score   (root_mean_squared_error)\n",
      "\t160.05s\t = Training   runtime\n",
      "\t0.46s\t = Validation runtime\n",
      "Fitting model: XGBoost_BAG_L1 ... Training model for up to 40.2s of the 240.18s of remaining time.\n",
      "\t-37.4142\t = Validation score   (root_mean_squared_error)\n",
      "\t30.67s\t = Training   runtime\n",
      "\t0.34s\t = Validation runtime\n",
      "Fitting model: NeuralNetMXNet_BAG_L1 ... Training model for up to 5.79s of the 205.77s of remaining time.\n",
      "\tTime limit exceeded... Skipping NeuralNetMXNet_BAG_L1.\n",
      "Fitting model: LightGBMLarge_BAG_L1 ... Training model for up to 4.92s of the 204.9s of remaining time.\n",
      "/usr/local/lib/python3.6/site-packages/lightgbm/engine.py:239: UserWarning: 'verbose_eval' argument is deprecated and will be removed in a future release of LightGBM. Pass 'log_evaluation()' callback via 'callbacks' argument instead.\n",
      "  _log_warning(\"'verbose_eval' argument is deprecated and will be removed in a future release of LightGBM. \"\n",
      "\tRan out of time, early stopping on iteration 59. Best iteration is:\n",
      "\t[59]\ttrain_set's rmse: 50.5019\tvalid_set's rmse: 55.9\n",
      "\tTime limit exceeded... Skipping LightGBMLarge_BAG_L1.\n",
      "Completed 1/20 k-fold bagging repeats ...\n",
      "Fitting model: WeightedEnsemble_L2 ... Training model for up to 360.0s of the 204.29s of remaining time.\n",
      "\t-35.2024\t = Validation score   (root_mean_squared_error)\n",
      "\t0.56s\t = Training   runtime\n",
      "\t0.0s\t = Validation runtime\n",
      "Fitting 9 L2 models ...\n",
      "Fitting model: LightGBMXT_BAG_L2 ... Training model for up to 203.65s of the 203.63s of remaining time.\n",
      "/usr/local/lib/python3.6/site-packages/lightgbm/engine.py:239: UserWarning: 'verbose_eval' argument is deprecated and will be removed in a future release of LightGBM. Pass 'log_evaluation()' callback via 'callbacks' argument instead.\n",
      "  _log_warning(\"'verbose_eval' argument is deprecated and will be removed in a future release of LightGBM. \"\n",
      "/usr/local/lib/python3.6/site-packages/lightgbm/engine.py:239: UserWarning: 'verbose_eval' argument is deprecated and will be removed in a future release of LightGBM. Pass 'log_evaluation()' callback via 'callbacks' argument instead.\n",
      "  _log_warning(\"'verbose_eval' argument is deprecated and will be removed in a future release of LightGBM. \"\n",
      "/usr/local/lib/python3.6/site-packages/lightgbm/engine.py:239: UserWarning: 'verbose_eval' argument is deprecated and will be removed in a future release of LightGBM. Pass 'log_evaluation()' callback via 'callbacks' argument instead.\n",
      "  _log_warning(\"'verbose_eval' argument is deprecated and will be removed in a future release of LightGBM. \"\n",
      "/usr/local/lib/python3.6/site-packages/lightgbm/engine.py:239: UserWarning: 'verbose_eval' argument is deprecated and will be removed in a future release of LightGBM. Pass 'log_evaluation()' callback via 'callbacks' argument instead.\n",
      "  _log_warning(\"'verbose_eval' argument is deprecated and will be removed in a future release of LightGBM. \"\n",
      "/usr/local/lib/python3.6/site-packages/lightgbm/engine.py:239: UserWarning: 'verbose_eval' argument is deprecated and will be removed in a future release of LightGBM. Pass 'log_evaluation()' callback via 'callbacks' argument instead.\n",
      "  _log_warning(\"'verbose_eval' argument is deprecated and will be removed in a future release of LightGBM. \"\n",
      "/usr/local/lib/python3.6/site-packages/lightgbm/engine.py:239: UserWarning: 'verbose_eval' argument is deprecated and will be removed in a future release of LightGBM. Pass 'log_evaluation()' callback via 'callbacks' argument instead.\n",
      "  _log_warning(\"'verbose_eval' argument is deprecated and will be removed in a future release of LightGBM. \"\n",
      "/usr/local/lib/python3.6/site-packages/lightgbm/engine.py:239: UserWarning: 'verbose_eval' argument is deprecated and will be removed in a future release of LightGBM. Pass 'log_evaluation()' callback via 'callbacks' argument instead.\n",
      "  _log_warning(\"'verbose_eval' argument is deprecated and will be removed in a future release of LightGBM. \"\n",
      "/usr/local/lib/python3.6/site-packages/lightgbm/engine.py:239: UserWarning: 'verbose_eval' argument is deprecated and will be removed in a future release of LightGBM. Pass 'log_evaluation()' callback via 'callbacks' argument instead.\n",
      "  _log_warning(\"'verbose_eval' argument is deprecated and will be removed in a future release of LightGBM. \"\n",
      "/usr/local/lib/python3.6/site-packages/lightgbm/engine.py:239: UserWarning: 'verbose_eval' argument is deprecated and will be removed in a future release of LightGBM. Pass 'log_evaluation()' callback via 'callbacks' argument instead.\n",
      "  _log_warning(\"'verbose_eval' argument is deprecated and will be removed in a future release of LightGBM. \"\n",
      "/usr/local/lib/python3.6/site-packages/lightgbm/engine.py:239: UserWarning: 'verbose_eval' argument is deprecated and will be removed in a future release of LightGBM. Pass 'log_evaluation()' callback via 'callbacks' argument instead.\n",
      "  _log_warning(\"'verbose_eval' argument is deprecated and will be removed in a future release of LightGBM. \"\n",
      "\t-36.2381\t = Validation score   (root_mean_squared_error)\n",
      "\t9.18s\t = Training   runtime\n",
      "\t0.23s\t = Validation runtime\n",
      "Fitting model: LightGBM_BAG_L2 ... Training model for up to 193.49s of the 193.46s of remaining time.\n",
      "/usr/local/lib/python3.6/site-packages/lightgbm/engine.py:239: UserWarning: 'verbose_eval' argument is deprecated and will be removed in a future release of LightGBM. Pass 'log_evaluation()' callback via 'callbacks' argument instead.\n",
      "  _log_warning(\"'verbose_eval' argument is deprecated and will be removed in a future release of LightGBM. \"\n",
      "/usr/local/lib/python3.6/site-packages/lightgbm/engine.py:239: UserWarning: 'verbose_eval' argument is deprecated and will be removed in a future release of LightGBM. Pass 'log_evaluation()' callback via 'callbacks' argument instead.\n",
      "  _log_warning(\"'verbose_eval' argument is deprecated and will be removed in a future release of LightGBM. \"\n",
      "/usr/local/lib/python3.6/site-packages/lightgbm/engine.py:239: UserWarning: 'verbose_eval' argument is deprecated and will be removed in a future release of LightGBM. Pass 'log_evaluation()' callback via 'callbacks' argument instead.\n",
      "  _log_warning(\"'verbose_eval' argument is deprecated and will be removed in a future release of LightGBM. \"\n",
      "/usr/local/lib/python3.6/site-packages/lightgbm/engine.py:239: UserWarning: 'verbose_eval' argument is deprecated and will be removed in a future release of LightGBM. Pass 'log_evaluation()' callback via 'callbacks' argument instead.\n",
      "  _log_warning(\"'verbose_eval' argument is deprecated and will be removed in a future release of LightGBM. \"\n",
      "/usr/local/lib/python3.6/site-packages/lightgbm/engine.py:239: UserWarning: 'verbose_eval' argument is deprecated and will be removed in a future release of LightGBM. Pass 'log_evaluation()' callback via 'callbacks' argument instead.\n",
      "  _log_warning(\"'verbose_eval' argument is deprecated and will be removed in a future release of LightGBM. \"\n",
      "/usr/local/lib/python3.6/site-packages/lightgbm/engine.py:239: UserWarning: 'verbose_eval' argument is deprecated and will be removed in a future release of LightGBM. Pass 'log_evaluation()' callback via 'callbacks' argument instead.\n",
      "  _log_warning(\"'verbose_eval' argument is deprecated and will be removed in a future release of LightGBM. \"\n",
      "/usr/local/lib/python3.6/site-packages/lightgbm/engine.py:239: UserWarning: 'verbose_eval' argument is deprecated and will be removed in a future release of LightGBM. Pass 'log_evaluation()' callback via 'callbacks' argument instead.\n",
      "  _log_warning(\"'verbose_eval' argument is deprecated and will be removed in a future release of LightGBM. \"\n",
      "/usr/local/lib/python3.6/site-packages/lightgbm/engine.py:239: UserWarning: 'verbose_eval' argument is deprecated and will be removed in a future release of LightGBM. Pass 'log_evaluation()' callback via 'callbacks' argument instead.\n",
      "  _log_warning(\"'verbose_eval' argument is deprecated and will be removed in a future release of LightGBM. \"\n",
      "/usr/local/lib/python3.6/site-packages/lightgbm/engine.py:239: UserWarning: 'verbose_eval' argument is deprecated and will be removed in a future release of LightGBM. Pass 'log_evaluation()' callback via 'callbacks' argument instead.\n",
      "  _log_warning(\"'verbose_eval' argument is deprecated and will be removed in a future release of LightGBM. \"\n",
      "/usr/local/lib/python3.6/site-packages/lightgbm/engine.py:239: UserWarning: 'verbose_eval' argument is deprecated and will be removed in a future release of LightGBM. Pass 'log_evaluation()' callback via 'callbacks' argument instead.\n",
      "  _log_warning(\"'verbose_eval' argument is deprecated and will be removed in a future release of LightGBM. \"\n",
      "\t-35.9842\t = Validation score   (root_mean_squared_error)\n",
      "\t7.13s\t = Training   runtime\n",
      "\t0.14s\t = Validation runtime\n",
      "Fitting model: RandomForestMSE_BAG_L2 ... Training model for up to 185.66s of the 185.64s of remaining time.\n",
      "\t-36.2739\t = Validation score   (root_mean_squared_error)\n",
      "\t27.53s\t = Training   runtime\n",
      "\t0.52s\t = Validation runtime\n",
      "Fitting model: CatBoost_BAG_L2 ... Training model for up to 155.02s of the 155.0s of remaining time.\n",
      "\t-35.6249\t = Validation score   (root_mean_squared_error)\n",
      "\t57.8s\t = Training   runtime\n",
      "\t0.1s\t = Validation runtime\n",
      "Fitting model: ExtraTreesMSE_BAG_L2 ... Training model for up to 96.66s of the 96.64s of remaining time.\n",
      "\t-35.7216\t = Validation score   (root_mean_squared_error)\n",
      "\t7.5s\t = Training   runtime\n",
      "\t0.52s\t = Validation runtime\n",
      "Fitting model: NeuralNetFastAI_BAG_L2 ... Training model for up to 85.99s of the 85.97s of remaining time.\n",
      "\tRan out of time, stopping training early. (Stopping on epoch 11)\n",
      "\tRan out of time, stopping training early. (Stopping on epoch 12)\n",
      "\tRan out of time, stopping training early. (Stopping on epoch 12)\n",
      "\tRan out of time, stopping training early. (Stopping on epoch 12)\n",
      "\tRan out of time, stopping training early. (Stopping on epoch 13)\n",
      "\tRan out of time, stopping training early. (Stopping on epoch 13)\n",
      "\tRan out of time, stopping training early. (Stopping on epoch 14)\n",
      "\tRan out of time, stopping training early. (Stopping on epoch 15)\n",
      "\tRan out of time, stopping training early. (Stopping on epoch 17)\n",
      "\tRan out of time, stopping training early. (Stopping on epoch 19)\n",
      "\t-36.4051\t = Validation score   (root_mean_squared_error)\n",
      "\t81.45s\t = Training   runtime\n",
      "\t0.55s\t = Validation runtime\n",
      "Fitting model: XGBoost_BAG_L2 ... Training model for up to 3.26s of the 3.23s of remaining time.\n",
      "\tTime limit exceeded... Skipping XGBoost_BAG_L2.\n",
      "Fitting model: NeuralNetMXNet_BAG_L2 ... Training model for up to 2.84s of the 2.82s of remaining time.\n",
      "\tTime limit exceeded... Skipping NeuralNetMXNet_BAG_L2.\n",
      "Fitting model: LightGBMLarge_BAG_L2 ... Training model for up to 2.03s of the 2.0s of remaining time.\n",
      "/usr/local/lib/python3.6/site-packages/lightgbm/engine.py:239: UserWarning: 'verbose_eval' argument is deprecated and will be removed in a future release of LightGBM. Pass 'log_evaluation()' callback via 'callbacks' argument instead.\n",
      "  _log_warning(\"'verbose_eval' argument is deprecated and will be removed in a future release of LightGBM. \"\n",
      "\tRan out of time, early stopping on iteration 1. Best iteration is:\n",
      "\t[1]\ttrain_set's rmse: 176.199\tvalid_set's rmse: 172.836\n",
      "\tTime limit exceeded... Skipping LightGBMLarge_BAG_L2.\n",
      "Completed 1/20 k-fold bagging repeats ...\n",
      "Fitting model: WeightedEnsemble_L3 ... Training model for up to 360.0s of the 1.66s of remaining time.\n",
      "\t-35.2993\t = Validation score   (root_mean_squared_error)\n",
      "\t0.43s\t = Training   runtime\n",
      "\t0.0s\t = Validation runtime\n",
      "AutoGluon training complete, total runtime = 598.98s ...\n",
      "TabularPredictor saved. To load, use: predictor = TabularPredictor.load(\"AutogluonModels/ag-20220128_211022/\")\n"
     ]
    }
   ],
   "source": [
    "predictor_new_features = TabularPredictor(label='count', eval_metric='root_mean_squared_error').fit(train_data=df_train, presets='best_quality', time_limit=600)"
   ]
  },
  {
   "cell_type": "markdown",
   "metadata": {},
   "source": [
    "#### Model Evaluation"
   ]
  },
  {
   "cell_type": "code",
   "execution_count": 60,
   "metadata": {
    "execution": {
     "iopub.execute_input": "2022-01-25T15:01:53.006234Z",
     "iopub.status.busy": "2022-01-25T15:01:53.005702Z",
     "iopub.status.idle": "2022-01-25T15:01:53.117350Z",
     "shell.execute_reply": "2022-01-25T15:01:53.116354Z",
     "shell.execute_reply.started": "2022-01-25T15:01:53.006173Z"
    }
   },
   "outputs": [
    {
     "name": "stdout",
     "output_type": "stream",
     "text": [
      "*** Summary of fit() ***\n",
      "Estimated performance of each model:\n",
      "                     model   score_val  pred_time_val    fit_time  pred_time_val_marginal  fit_time_marginal  stack_level  can_infer  fit_order\n",
      "0      WeightedEnsemble_L2  -35.202436       7.503991  324.604007                0.000979           0.561263            2       True          9\n",
      "1      WeightedEnsemble_L3  -35.299344       9.526776  475.874199                0.000974           0.430480            3       True         16\n",
      "2          CatBoost_BAG_L2  -35.624923       8.462499  386.490175                0.096155          57.797998            2       True         13\n",
      "3     ExtraTreesMSE_BAG_L2  -35.721597       8.881383  336.193452                0.515039           7.501275            2       True         14\n",
      "4          LightGBM_BAG_L2  -35.984219       8.507981  335.823179                0.141636           7.131002            2       True         11\n",
      "5        LightGBMXT_BAG_L2  -36.238096       8.599268  337.876959                0.232924           9.184782            2       True         10\n",
      "6   RandomForestMSE_BAG_L2  -36.273885       8.888662  356.225624                0.522317          27.533447            2       True         12\n",
      "7   NeuralNetFastAI_BAG_L2  -36.405050       8.914608  410.144445                0.548264          81.452268            2       True         15\n",
      "8          LightGBM_BAG_L1  -36.579146       1.289045   31.507218                1.289045          31.507218            1       True          4\n",
      "9        LightGBMXT_BAG_L1  -36.910065       4.959505   90.811352                4.959505          90.811352            1       True          3\n",
      "10          XGBoost_BAG_L1  -37.414245       0.335648   30.673477                0.335648          30.673477            1       True          8\n",
      "11    ExtraTreesMSE_BAG_L1  -41.004313       0.455569    4.591666                0.455569           4.591666            1       True          6\n",
      "12  RandomForestMSE_BAG_L1  -41.333700       0.460813   11.001815                0.460813          11.001815            1       True          5\n",
      "13  NeuralNetFastAI_BAG_L1  -46.197162       0.458002  160.048882                0.458002         160.048882            1       True          7\n",
      "14   KNeighborsDist_BAG_L1 -119.372602       0.204156    0.026047                0.204156           0.026047            1       True          2\n",
      "15   KNeighborsUnif_BAG_L1 -123.921631       0.203606    0.031720                0.203606           0.031720            1       True          1\n",
      "Number of models trained: 16\n",
      "Types of models trained:\n",
      "{'StackerEnsembleModel_XT', 'StackerEnsembleModel_NNFastAiTabular', 'StackerEnsembleModel_KNN', 'StackerEnsembleModel_XGBoost', 'WeightedEnsembleModel', 'StackerEnsembleModel_RF', 'StackerEnsembleModel_CatBoost', 'StackerEnsembleModel_LGB'}\n",
      "Bagging used: True  (with 10 folds)\n",
      "Multi-layer stack-ensembling used: True  (with 3 levels)\n",
      "Feature Metadata (Processed):\n",
      "(raw dtype, special dtypes):\n",
      "('category', [])             : 4 | ['season', 'weather', 'rush_hour', 'temp_feels']\n",
      "('float', [])                : 3 | ['temp', 'atemp', 'windspeed']\n",
      "('int', [])                  : 4 | ['humidity', 'day', 'month', 'hour']\n",
      "('int', ['bool'])            : 2 | ['holiday', 'workingday']\n",
      "('int', ['datetime_as_int']) : 1 | ['datetime']\n",
      "Plot summary of models saved to file: AutogluonModels/ag-20220128_211022/SummaryOfModels.html\n",
      "*** End of fit() summary ***\n"
     ]
    },
    {
     "data": {
      "text/plain": [
       "{'model_types': {'KNeighborsUnif_BAG_L1': 'StackerEnsembleModel_KNN',\n",
       "  'KNeighborsDist_BAG_L1': 'StackerEnsembleModel_KNN',\n",
       "  'LightGBMXT_BAG_L1': 'StackerEnsembleModel_LGB',\n",
       "  'LightGBM_BAG_L1': 'StackerEnsembleModel_LGB',\n",
       "  'RandomForestMSE_BAG_L1': 'StackerEnsembleModel_RF',\n",
       "  'ExtraTreesMSE_BAG_L1': 'StackerEnsembleModel_XT',\n",
       "  'NeuralNetFastAI_BAG_L1': 'StackerEnsembleModel_NNFastAiTabular',\n",
       "  'XGBoost_BAG_L1': 'StackerEnsembleModel_XGBoost',\n",
       "  'WeightedEnsemble_L2': 'WeightedEnsembleModel',\n",
       "  'LightGBMXT_BAG_L2': 'StackerEnsembleModel_LGB',\n",
       "  'LightGBM_BAG_L2': 'StackerEnsembleModel_LGB',\n",
       "  'RandomForestMSE_BAG_L2': 'StackerEnsembleModel_RF',\n",
       "  'CatBoost_BAG_L2': 'StackerEnsembleModel_CatBoost',\n",
       "  'ExtraTreesMSE_BAG_L2': 'StackerEnsembleModel_XT',\n",
       "  'NeuralNetFastAI_BAG_L2': 'StackerEnsembleModel_NNFastAiTabular',\n",
       "  'WeightedEnsemble_L3': 'WeightedEnsembleModel'},\n",
       " 'model_performance': {'KNeighborsUnif_BAG_L1': -123.92163053871576,\n",
       "  'KNeighborsDist_BAG_L1': -119.37260178212149,\n",
       "  'LightGBMXT_BAG_L1': -36.91006473527254,\n",
       "  'LightGBM_BAG_L1': -36.57914606711101,\n",
       "  'RandomForestMSE_BAG_L1': -41.33369964731353,\n",
       "  'ExtraTreesMSE_BAG_L1': -41.004313276828015,\n",
       "  'NeuralNetFastAI_BAG_L1': -46.19716162980537,\n",
       "  'XGBoost_BAG_L1': -37.41424547196358,\n",
       "  'WeightedEnsemble_L2': -35.202435664826176,\n",
       "  'LightGBMXT_BAG_L2': -36.2380955678485,\n",
       "  'LightGBM_BAG_L2': -35.984218708945896,\n",
       "  'RandomForestMSE_BAG_L2': -36.273884883086154,\n",
       "  'CatBoost_BAG_L2': -35.62492308017924,\n",
       "  'ExtraTreesMSE_BAG_L2': -35.721597126742836,\n",
       "  'NeuralNetFastAI_BAG_L2': -36.40505005257423,\n",
       "  'WeightedEnsemble_L3': -35.29934382217378},\n",
       " 'model_best': 'WeightedEnsemble_L2',\n",
       " 'model_paths': {'KNeighborsUnif_BAG_L1': 'AutogluonModels/ag-20220128_211022/models/KNeighborsUnif_BAG_L1/',\n",
       "  'KNeighborsDist_BAG_L1': 'AutogluonModels/ag-20220128_211022/models/KNeighborsDist_BAG_L1/',\n",
       "  'LightGBMXT_BAG_L1': 'AutogluonModels/ag-20220128_211022/models/LightGBMXT_BAG_L1/',\n",
       "  'LightGBM_BAG_L1': 'AutogluonModels/ag-20220128_211022/models/LightGBM_BAG_L1/',\n",
       "  'RandomForestMSE_BAG_L1': 'AutogluonModels/ag-20220128_211022/models/RandomForestMSE_BAG_L1/',\n",
       "  'ExtraTreesMSE_BAG_L1': 'AutogluonModels/ag-20220128_211022/models/ExtraTreesMSE_BAG_L1/',\n",
       "  'NeuralNetFastAI_BAG_L1': 'AutogluonModels/ag-20220128_211022/models/NeuralNetFastAI_BAG_L1/',\n",
       "  'XGBoost_BAG_L1': 'AutogluonModels/ag-20220128_211022/models/XGBoost_BAG_L1/',\n",
       "  'WeightedEnsemble_L2': 'AutogluonModels/ag-20220128_211022/models/WeightedEnsemble_L2/',\n",
       "  'LightGBMXT_BAG_L2': 'AutogluonModels/ag-20220128_211022/models/LightGBMXT_BAG_L2/',\n",
       "  'LightGBM_BAG_L2': 'AutogluonModels/ag-20220128_211022/models/LightGBM_BAG_L2/',\n",
       "  'RandomForestMSE_BAG_L2': 'AutogluonModels/ag-20220128_211022/models/RandomForestMSE_BAG_L2/',\n",
       "  'CatBoost_BAG_L2': 'AutogluonModels/ag-20220128_211022/models/CatBoost_BAG_L2/',\n",
       "  'ExtraTreesMSE_BAG_L2': 'AutogluonModels/ag-20220128_211022/models/ExtraTreesMSE_BAG_L2/',\n",
       "  'NeuralNetFastAI_BAG_L2': 'AutogluonModels/ag-20220128_211022/models/NeuralNetFastAI_BAG_L2/',\n",
       "  'WeightedEnsemble_L3': 'AutogluonModels/ag-20220128_211022/models/WeightedEnsemble_L3/'},\n",
       " 'model_fit_times': {'KNeighborsUnif_BAG_L1': 0.03172016143798828,\n",
       "  'KNeighborsDist_BAG_L1': 0.0260467529296875,\n",
       "  'LightGBMXT_BAG_L1': 90.8113522529602,\n",
       "  'LightGBM_BAG_L1': 31.5072181224823,\n",
       "  'RandomForestMSE_BAG_L1': 11.001814842224121,\n",
       "  'ExtraTreesMSE_BAG_L1': 4.591666221618652,\n",
       "  'NeuralNetFastAI_BAG_L1': 160.0488817691803,\n",
       "  'XGBoost_BAG_L1': 30.673476696014404,\n",
       "  'WeightedEnsemble_L2': 0.5612633228302002,\n",
       "  'LightGBMXT_BAG_L2': 9.184781789779663,\n",
       "  'LightGBM_BAG_L2': 7.131002426147461,\n",
       "  'RandomForestMSE_BAG_L2': 27.533446788787842,\n",
       "  'CatBoost_BAG_L2': 57.79799842834473,\n",
       "  'ExtraTreesMSE_BAG_L2': 7.501275062561035,\n",
       "  'NeuralNetFastAI_BAG_L2': 81.45226836204529,\n",
       "  'WeightedEnsemble_L3': 0.4304802417755127},\n",
       " 'model_pred_times': {'KNeighborsUnif_BAG_L1': 0.20360636711120605,\n",
       "  'KNeighborsDist_BAG_L1': 0.20415616035461426,\n",
       "  'LightGBMXT_BAG_L1': 4.959505081176758,\n",
       "  'LightGBM_BAG_L1': 1.2890453338623047,\n",
       "  'RandomForestMSE_BAG_L1': 0.4608125686645508,\n",
       "  'ExtraTreesMSE_BAG_L1': 0.4555692672729492,\n",
       "  'NeuralNetFastAI_BAG_L1': 0.45800209045410156,\n",
       "  'XGBoost_BAG_L1': 0.3356475830078125,\n",
       "  'WeightedEnsemble_L2': 0.000978708267211914,\n",
       "  'LightGBMXT_BAG_L2': 0.2329237461090088,\n",
       "  'LightGBM_BAG_L2': 0.14163637161254883,\n",
       "  'RandomForestMSE_BAG_L2': 0.5223174095153809,\n",
       "  'CatBoost_BAG_L2': 0.09615468978881836,\n",
       "  'ExtraTreesMSE_BAG_L2': 0.5150389671325684,\n",
       "  'NeuralNetFastAI_BAG_L2': 0.5482635498046875,\n",
       "  'WeightedEnsemble_L3': 0.0009739398956298828},\n",
       " 'num_bag_folds': 10,\n",
       " 'max_stack_level': 3,\n",
       " 'model_hyperparams': {'KNeighborsUnif_BAG_L1': {'use_orig_features': True,\n",
       "   'max_base_models': 25,\n",
       "   'max_base_models_per_type': 5,\n",
       "   'save_bag_folds': True,\n",
       "   'use_child_oof': True},\n",
       "  'KNeighborsDist_BAG_L1': {'use_orig_features': True,\n",
       "   'max_base_models': 25,\n",
       "   'max_base_models_per_type': 5,\n",
       "   'save_bag_folds': True,\n",
       "   'use_child_oof': True},\n",
       "  'LightGBMXT_BAG_L1': {'use_orig_features': True,\n",
       "   'max_base_models': 25,\n",
       "   'max_base_models_per_type': 5,\n",
       "   'save_bag_folds': True},\n",
       "  'LightGBM_BAG_L1': {'use_orig_features': True,\n",
       "   'max_base_models': 25,\n",
       "   'max_base_models_per_type': 5,\n",
       "   'save_bag_folds': True},\n",
       "  'RandomForestMSE_BAG_L1': {'use_orig_features': True,\n",
       "   'max_base_models': 25,\n",
       "   'max_base_models_per_type': 5,\n",
       "   'save_bag_folds': True,\n",
       "   'use_child_oof': True},\n",
       "  'ExtraTreesMSE_BAG_L1': {'use_orig_features': True,\n",
       "   'max_base_models': 25,\n",
       "   'max_base_models_per_type': 5,\n",
       "   'save_bag_folds': True,\n",
       "   'use_child_oof': True},\n",
       "  'NeuralNetFastAI_BAG_L1': {'use_orig_features': True,\n",
       "   'max_base_models': 25,\n",
       "   'max_base_models_per_type': 5,\n",
       "   'save_bag_folds': True},\n",
       "  'XGBoost_BAG_L1': {'use_orig_features': True,\n",
       "   'max_base_models': 25,\n",
       "   'max_base_models_per_type': 5,\n",
       "   'save_bag_folds': True},\n",
       "  'WeightedEnsemble_L2': {'use_orig_features': False,\n",
       "   'max_base_models': 25,\n",
       "   'max_base_models_per_type': 5,\n",
       "   'save_bag_folds': True},\n",
       "  'LightGBMXT_BAG_L2': {'use_orig_features': True,\n",
       "   'max_base_models': 25,\n",
       "   'max_base_models_per_type': 5,\n",
       "   'save_bag_folds': True},\n",
       "  'LightGBM_BAG_L2': {'use_orig_features': True,\n",
       "   'max_base_models': 25,\n",
       "   'max_base_models_per_type': 5,\n",
       "   'save_bag_folds': True},\n",
       "  'RandomForestMSE_BAG_L2': {'use_orig_features': True,\n",
       "   'max_base_models': 25,\n",
       "   'max_base_models_per_type': 5,\n",
       "   'save_bag_folds': True,\n",
       "   'use_child_oof': True},\n",
       "  'CatBoost_BAG_L2': {'use_orig_features': True,\n",
       "   'max_base_models': 25,\n",
       "   'max_base_models_per_type': 5,\n",
       "   'save_bag_folds': True},\n",
       "  'ExtraTreesMSE_BAG_L2': {'use_orig_features': True,\n",
       "   'max_base_models': 25,\n",
       "   'max_base_models_per_type': 5,\n",
       "   'save_bag_folds': True,\n",
       "   'use_child_oof': True},\n",
       "  'NeuralNetFastAI_BAG_L2': {'use_orig_features': True,\n",
       "   'max_base_models': 25,\n",
       "   'max_base_models_per_type': 5,\n",
       "   'save_bag_folds': True},\n",
       "  'WeightedEnsemble_L3': {'use_orig_features': False,\n",
       "   'max_base_models': 25,\n",
       "   'max_base_models_per_type': 5,\n",
       "   'save_bag_folds': True}},\n",
       " 'leaderboard':                      model   score_val  pred_time_val    fit_time  \\\n",
       " 0      WeightedEnsemble_L2  -35.202436       7.503991  324.604007   \n",
       " 1      WeightedEnsemble_L3  -35.299344       9.526776  475.874199   \n",
       " 2          CatBoost_BAG_L2  -35.624923       8.462499  386.490175   \n",
       " 3     ExtraTreesMSE_BAG_L2  -35.721597       8.881383  336.193452   \n",
       " 4          LightGBM_BAG_L2  -35.984219       8.507981  335.823179   \n",
       " 5        LightGBMXT_BAG_L2  -36.238096       8.599268  337.876959   \n",
       " 6   RandomForestMSE_BAG_L2  -36.273885       8.888662  356.225624   \n",
       " 7   NeuralNetFastAI_BAG_L2  -36.405050       8.914608  410.144445   \n",
       " 8          LightGBM_BAG_L1  -36.579146       1.289045   31.507218   \n",
       " 9        LightGBMXT_BAG_L1  -36.910065       4.959505   90.811352   \n",
       " 10          XGBoost_BAG_L1  -37.414245       0.335648   30.673477   \n",
       " 11    ExtraTreesMSE_BAG_L1  -41.004313       0.455569    4.591666   \n",
       " 12  RandomForestMSE_BAG_L1  -41.333700       0.460813   11.001815   \n",
       " 13  NeuralNetFastAI_BAG_L1  -46.197162       0.458002  160.048882   \n",
       " 14   KNeighborsDist_BAG_L1 -119.372602       0.204156    0.026047   \n",
       " 15   KNeighborsUnif_BAG_L1 -123.921631       0.203606    0.031720   \n",
       " \n",
       "     pred_time_val_marginal  fit_time_marginal  stack_level  can_infer  \\\n",
       " 0                 0.000979           0.561263            2       True   \n",
       " 1                 0.000974           0.430480            3       True   \n",
       " 2                 0.096155          57.797998            2       True   \n",
       " 3                 0.515039           7.501275            2       True   \n",
       " 4                 0.141636           7.131002            2       True   \n",
       " 5                 0.232924           9.184782            2       True   \n",
       " 6                 0.522317          27.533447            2       True   \n",
       " 7                 0.548264          81.452268            2       True   \n",
       " 8                 1.289045          31.507218            1       True   \n",
       " 9                 4.959505          90.811352            1       True   \n",
       " 10                0.335648          30.673477            1       True   \n",
       " 11                0.455569           4.591666            1       True   \n",
       " 12                0.460813          11.001815            1       True   \n",
       " 13                0.458002         160.048882            1       True   \n",
       " 14                0.204156           0.026047            1       True   \n",
       " 15                0.203606           0.031720            1       True   \n",
       " \n",
       "     fit_order  \n",
       " 0           9  \n",
       " 1          16  \n",
       " 2          13  \n",
       " 3          14  \n",
       " 4          11  \n",
       " 5          10  \n",
       " 6          12  \n",
       " 7          15  \n",
       " 8           4  \n",
       " 9           3  \n",
       " 10          8  \n",
       " 11          6  \n",
       " 12          5  \n",
       " 13          7  \n",
       " 14          2  \n",
       " 15          1  }"
      ]
     },
     "execution_count": 60,
     "metadata": {},
     "output_type": "execute_result"
    }
   ],
   "source": [
    "predictor_new_features.fit_summary()"
   ]
  },
  {
   "cell_type": "code",
   "execution_count": 61,
   "metadata": {},
   "outputs": [
    {
     "data": {
      "text/plain": [
       "<AxesSubplot:xlabel='model'>"
      ]
     },
     "execution_count": 61,
     "metadata": {},
     "output_type": "execute_result"
    },
    {
     "data": {
      "image/png": "[encoded data removed]",
      "text/plain": [
       "<Figure size 432x288 with 1 Axes>"
      ]
     },
     "metadata": {
      "needs_background": "light"
     },
     "output_type": "display_data"
    }
   ],
   "source": [
    "predictor_new_features.leaderboard(silent=True).plot(kind='bar', x='model',y='score_val')"
   ]
  },
  {
   "cell_type": "code",
   "execution_count": 62,
   "metadata": {},
   "outputs": [],
   "source": [
    "predictions = predictor_new_features.predict(df_test)"
   ]
  },
  {
   "cell_type": "code",
   "execution_count": 63,
   "metadata": {
    "execution": {
     "iopub.execute_input": "2022-01-25T15:02:28.240867Z",
     "iopub.status.busy": "2022-01-25T15:02:28.240492Z",
     "iopub.status.idle": "2022-01-25T15:02:28.249540Z",
     "shell.execute_reply": "2022-01-25T15:02:28.248244Z",
     "shell.execute_reply.started": "2022-01-25T15:02:28.240817Z"
    }
   },
   "outputs": [],
   "source": [
    "submissions_new_hpo = submission\n",
    "submissions_new_hpo[\"count\"] = predictions\n",
    "submissions_new_hpo.loc[predictions < 0,\"count\"] = 0 "
   ]
  },
  {
   "cell_type": "code",
   "execution_count": 65,
   "metadata": {
    "execution": {
     "iopub.execute_input": "2022-01-25T15:02:28.252101Z",
     "iopub.status.busy": "2022-01-25T15:02:28.251716Z",
     "iopub.status.idle": "2022-01-25T15:02:28.547091Z",
     "shell.execute_reply": "2022-01-25T15:02:28.545863Z",
     "shell.execute_reply.started": "2022-01-25T15:02:28.252050Z"
    }
   },
   "outputs": [],
   "source": [
    "submissions_new_hpo.to_csv(\"submission_no_hpo.csv\", index=False)"
   ]
  },
  {
   "cell_type": "code",
   "execution_count": 66,
   "metadata": {},
   "outputs": [
    {
     "name": "stdout",
     "output_type": "stream",
     "text": [
      "100%|█████████████████████████████████████████| 188k/188k [00:00<00:00, 521kB/s]\n",
      "Successfully submitted to Bike Sharing Demand"
     ]
    }
   ],
   "source": [
    "!kaggle competitions submit -c bike-sharing-demand -f submission_no_hpo.csv -m \"Second Submission with New Features\""
   ]
  },
  {
   "cell_type": "code",
   "execution_count": 67,
   "metadata": {},
   "outputs": [
    {
     "name": "stdout",
     "output_type": "stream",
     "text": [
      "fileName                      date                 description                              status    publicScore  privateScore  \n",
      "----------------------------  -------------------  ---------------------------------------  --------  -----------  ------------  \n",
      "submission_no_hpo.csv         2022-01-28 21:21:23  Second Submission with New Features      complete  0.54732      0.54732       \n",
      "submission.csv                2022-01-28 21:04:40  First submission                         complete  1.39795      1.39795       \n",
      "submission.csv                2022-01-28 21:01:58  First submission                         error     None         None          \n",
      "submission.csv                2022-01-28 20:59:16  First submission                         error     None         None          \n"
     ]
    }
   ],
   "source": [
    "!kaggle competitions submissions -c bike-sharing-demand | tail -n +1 | head -n 6"
   ]
  },
  {
   "cell_type": "markdown",
   "metadata": {},
   "source": [
    "### Third Round: Feature engineering and hyper parameter selection\n",
    "#### Change the hyperparameters when training a Tabular Prediction model."
   ]
  },
  {
   "cell_type": "code",
   "execution_count": 68,
   "metadata": {
    "execution": {
     "iopub.status.busy": "2022-01-25T15:02:28.551766Z",
     "iopub.status.idle": "2022-01-25T15:02:28.552140Z",
     "shell.execute_reply": "2022-01-25T15:02:28.551982Z",
     "shell.execute_reply.started": "2022-01-25T15:02:28.551942Z"
    }
   },
   "outputs": [],
   "source": [
    "params={\n",
    "    'searcher':'rl',\n",
    "    'scheduler':'rl',\n",
    "    'use_orig_features': False,\n",
    "    'max_base_models': 50,\n",
    "    'max_base_models_per_type': 10,\n",
    "    'save_bag_folds': True\n",
    "}"
   ]
  },
  {
   "cell_type": "markdown",
   "metadata": {},
   "source": [
    "#### Train a Tabular Prediction model on the training set. (3/3)"
   ]
  },
  {
   "cell_type": "code",
   "execution_count": 69,
   "metadata": {
    "execution": {
     "iopub.status.busy": "2022-01-25T15:02:28.553124Z",
     "iopub.status.idle": "2022-01-25T15:02:28.553450Z",
     "shell.execute_reply": "2022-01-25T15:02:28.553297Z",
     "shell.execute_reply.started": "2022-01-25T15:02:28.553273Z"
    }
   },
   "outputs": [
    {
     "name": "stderr",
     "output_type": "stream",
     "text": [
      "No path specified. Models will be saved in: \"AutogluonModels/ag-20220128_212143/\"\n",
      "Presets specified: ['best_quality']\n",
      "Warning: hyperparameter tuning is currently experimental and may cause the process to hang.\n",
      "Beginning AutoGluon training ... Time limit = 600s\n",
      "AutoGluon will save models to \"AutogluonModels/ag-20220128_212143/\"\n",
      "AutoGluon Version:  0.3.1\n",
      "Train Data Rows:    10886\n",
      "Train Data Columns: 14\n",
      "Preprocessing data ...\n",
      "AutoGluon infers your prediction problem is: 'regression' (because dtype of label-column == int and many unique label-values observed).\n",
      "\tLabel info (max, min, mean, stddev): (977, 1, 191.57413, 181.14445)\n",
      "\tIf 'regression' is not the correct problem_type, please manually specify the problem_type argument in fit() (You may specify problem_type as one of: ['binary', 'multiclass', 'regression'])\n",
      "Using Feature Generators to preprocess the data ...\n",
      "Fitting AutoMLPipelineFeatureGenerator...\n",
      "\tAvailable Memory:                    1776.64 MB\n",
      "\tTrain Data (Original)  Memory Usage: 0.91 MB (0.1% of available memory)\n",
      "\tInferring data type of each feature based on column values. Set feature_metadata_in to manually specify special dtypes of the features.\n",
      "\tStage 1 Generators:\n",
      "\t\tFitting AsTypeFeatureGenerator...\n",
      "\t\t\tNote: Converting 2 features to boolean dtype as they only contain 2 unique values.\n",
      "\tStage 2 Generators:\n",
      "\t\tFitting FillNaFeatureGenerator...\n",
      "\tStage 3 Generators:\n",
      "\t\tFitting IdentityFeatureGenerator...\n",
      "\t\tFitting CategoryFeatureGenerator...\n",
      "\t\t\tFitting CategoryMemoryMinimizeFeatureGenerator...\n",
      "\t\tFitting DatetimeFeatureGenerator...\n",
      "\tStage 4 Generators:\n",
      "\t\tFitting DropUniqueFeatureGenerator...\n",
      "\tTypes of features in original data (raw dtype, special dtypes):\n",
      "\t\t('category', []) : 4 | ['season', 'weather', 'rush_hour', 'temp_feels']\n",
      "\t\t('datetime', []) : 1 | ['datetime']\n",
      "\t\t('float', [])    : 3 | ['temp', 'atemp', 'windspeed']\n",
      "\t\t('int', [])      : 6 | ['holiday', 'workingday', 'humidity', 'day', 'month', ...]\n",
      "\tTypes of features in processed data (raw dtype, special dtypes):\n",
      "\t\t('category', [])             : 4 | ['season', 'weather', 'rush_hour', 'temp_feels']\n",
      "\t\t('float', [])                : 3 | ['temp', 'atemp', 'windspeed']\n",
      "\t\t('int', [])                  : 4 | ['humidity', 'day', 'month', 'hour']\n",
      "\t\t('int', ['bool'])            : 2 | ['holiday', 'workingday']\n",
      "\t\t('int', ['datetime_as_int']) : 1 | ['datetime']\n",
      "\t0.3s = Fit runtime\n",
      "\t14 features in original data used to generate 14 features in processed data.\n",
      "\tTrain Data (Processed) Memory Usage: 0.76 MB (0.0% of available memory)\n",
      "Data preprocessing and feature engineering runtime = 0.37s ...\n",
      "AutoGluon will gauge predictive performance using evaluation metric: 'root_mean_squared_error'\n",
      "\tTo change this, specify the eval_metric argument of fit()\n",
      "AutoGluon will fit 2 stack levels (L1 to L2) ...\n",
      "Fitting 11 L1 models ...\n",
      "Hyperparameter tuning model: KNeighborsUnif_BAG_L1 ...\n",
      "Fitted model: KNeighborsUnif_BAG_L1/T0 ...\n",
      "\t-123.9216\t = Validation score   (root_mean_squared_error)\n",
      "\t0.05s\t = Training   runtime\n",
      "\t0.2s\t = Validation runtime\n",
      "Hyperparameter tuning model: KNeighborsDist_BAG_L1 ...\n",
      "Fitted model: KNeighborsDist_BAG_L1/T0 ...\n",
      "\t-119.3726\t = Validation score   (root_mean_squared_error)\n",
      "\t0.02s\t = Training   runtime\n",
      "\t0.2s\t = Validation runtime\n",
      "Hyperparameter tuning model: LightGBMXT_BAG_L1 ...\n",
      "Argument 'searcher' must be of type RLSearcher. Ignoring 'searcher' and creating searcher here.\n",
      "Warning: Exception caused LightGBMXT_BAG_L1 to fail during hyperparameter tuning... Skipping this model.\n",
      "Traceback (most recent call last):\n",
      "  File \"/usr/local/lib/python3.6/site-packages/autogluon/tabular/trainer/abstract_trainer.py\", line 1153, in _train_single_full\n",
      "    hpo_models, hpo_model_performances, hpo_results = model.hyperparameter_tune(X=X, y=y, k_fold=k_fold, scheduler_options=hyperparameter_tune_kwargs, **model_fit_kwargs)\n",
      "  File \"/usr/local/lib/python3.6/site-packages/autogluon/core/models/abstract/abstract_model.py\", line 830, in hyperparameter_tune\n",
      "    return self._hyperparameter_tune(scheduler_options=scheduler_options, **kwargs)\n",
      "  File \"/usr/local/lib/python3.6/site-packages/autogluon/core/models/ensemble/stacker_ensemble_model.py\", line 179, in _hyperparameter_tune\n",
      "    return super()._hyperparameter_tune(X=X, y=y, k_fold=k_fold, scheduler_options=scheduler_options, preprocess_kwargs=preprocess_kwargs, **kwargs)\n",
      "  File \"/usr/local/lib/python3.6/site-packages/autogluon/core/models/ensemble/bagged_ensemble_model.py\", line 801, in _hyperparameter_tune\n",
      "    hpo_models, hpo_model_performances, hpo_results = self.model_base.hyperparameter_tune(X=X_fold, y=y_fold, X_val=X_val_fold, y_val=y_val_fold, scheduler_options=scheduler_options, **kwargs)\n",
      "  File \"/usr/local/lib/python3.6/site-packages/autogluon/core/models/abstract/abstract_model.py\", line 830, in hyperparameter_tune\n",
      "    return self._hyperparameter_tune(scheduler_options=scheduler_options, **kwargs)\n",
      "  File \"/usr/local/lib/python3.6/site-packages/autogluon/tabular/models/lgb/lgb_model.py\", line 382, in _hyperparameter_tune\n",
      "    scheduler = scheduler_cls(lgb_trial, **scheduler_params)\n",
      "  File \"/usr/local/lib/python3.6/site-packages/autogluon/core/scheduler/rl_scheduler.py\", line 119, in __init__\n",
      "    train_fn.kwspaces, reward_attribute=kwargs['reward_attr'])\n",
      "  File \"/usr/local/lib/python3.6/site-packages/autogluon/core/searcher/rl_controller.py\", line 43, in __init__\n",
      "    self.controller = LSTMController(kwspaces, ctx=ctx, **kwargs)\n",
      "  File \"/usr/local/lib/python3.6/site-packages/autogluon/mxnet/scheduler/rl_scheduler.py\", line 71, in __init__\n",
      "    assert isinstance(space, Categorical)\n",
      "AssertionError\n",
      "\n",
      "Hyperparameter tuning model: LightGBM_BAG_L1 ...\n",
      "Argument 'searcher' must be of type RLSearcher. Ignoring 'searcher' and creating searcher here.\n",
      "Warning: Exception caused LightGBM_BAG_L1 to fail during hyperparameter tuning... Skipping this model.\n",
      "Traceback (most recent call last):\n",
      "  File \"/usr/local/lib/python3.6/site-packages/autogluon/tabular/trainer/abstract_trainer.py\", line 1153, in _train_single_full\n",
      "    hpo_models, hpo_model_performances, hpo_results = model.hyperparameter_tune(X=X, y=y, k_fold=k_fold, scheduler_options=hyperparameter_tune_kwargs, **model_fit_kwargs)\n",
      "  File \"/usr/local/lib/python3.6/site-packages/autogluon/core/models/abstract/abstract_model.py\", line 830, in hyperparameter_tune\n",
      "    return self._hyperparameter_tune(scheduler_options=scheduler_options, **kwargs)\n",
      "  File \"/usr/local/lib/python3.6/site-packages/autogluon/core/models/ensemble/stacker_ensemble_model.py\", line 179, in _hyperparameter_tune\n",
      "    return super()._hyperparameter_tune(X=X, y=y, k_fold=k_fold, scheduler_options=scheduler_options, preprocess_kwargs=preprocess_kwargs, **kwargs)\n",
      "  File \"/usr/local/lib/python3.6/site-packages/autogluon/core/models/ensemble/bagged_ensemble_model.py\", line 801, in _hyperparameter_tune\n",
      "    hpo_models, hpo_model_performances, hpo_results = self.model_base.hyperparameter_tune(X=X_fold, y=y_fold, X_val=X_val_fold, y_val=y_val_fold, scheduler_options=scheduler_options, **kwargs)\n",
      "  File \"/usr/local/lib/python3.6/site-packages/autogluon/core/models/abstract/abstract_model.py\", line 830, in hyperparameter_tune\n",
      "    return self._hyperparameter_tune(scheduler_options=scheduler_options, **kwargs)\n",
      "  File \"/usr/local/lib/python3.6/site-packages/autogluon/tabular/models/lgb/lgb_model.py\", line 382, in _hyperparameter_tune\n",
      "    scheduler = scheduler_cls(lgb_trial, **scheduler_params)\n",
      "  File \"/usr/local/lib/python3.6/site-packages/autogluon/core/scheduler/rl_scheduler.py\", line 119, in __init__\n",
      "    train_fn.kwspaces, reward_attribute=kwargs['reward_attr'])\n",
      "  File \"/usr/local/lib/python3.6/site-packages/autogluon/core/searcher/rl_controller.py\", line 43, in __init__\n",
      "    self.controller = LSTMController(kwspaces, ctx=ctx, **kwargs)\n",
      "  File \"/usr/local/lib/python3.6/site-packages/autogluon/mxnet/scheduler/rl_scheduler.py\", line 71, in __init__\n",
      "    assert isinstance(space, Categorical)\n",
      "AssertionError\n",
      "\n",
      "Hyperparameter tuning model: RandomForestMSE_BAG_L1 ...\n",
      "Fitted model: RandomForestMSE_BAG_L1/T0 ...\n",
      "\t-41.3337\t = Validation score   (root_mean_squared_error)\n",
      "\t10.59s\t = Training   runtime\n",
      "\t0.48s\t = Validation runtime\n",
      "Hyperparameter tuning model: CatBoost_BAG_L1 ...\n",
      "Argument 'searcher' must be of type RLSearcher. Ignoring 'searcher' and creating searcher here.\n",
      "Warning: Exception caused CatBoost_BAG_L1 to fail during hyperparameter tuning... Skipping this model.\n",
      "Traceback (most recent call last):\n",
      "  File \"/usr/local/lib/python3.6/site-packages/autogluon/tabular/trainer/abstract_trainer.py\", line 1153, in _train_single_full\n",
      "    hpo_models, hpo_model_performances, hpo_results = model.hyperparameter_tune(X=X, y=y, k_fold=k_fold, scheduler_options=hyperparameter_tune_kwargs, **model_fit_kwargs)\n",
      "  File \"/usr/local/lib/python3.6/site-packages/autogluon/core/models/abstract/abstract_model.py\", line 830, in hyperparameter_tune\n",
      "    return self._hyperparameter_tune(scheduler_options=scheduler_options, **kwargs)\n",
      "  File \"/usr/local/lib/python3.6/site-packages/autogluon/core/models/ensemble/stacker_ensemble_model.py\", line 179, in _hyperparameter_tune\n",
      "    return super()._hyperparameter_tune(X=X, y=y, k_fold=k_fold, scheduler_options=scheduler_options, preprocess_kwargs=preprocess_kwargs, **kwargs)\n",
      "  File \"/usr/local/lib/python3.6/site-packages/autogluon/core/models/ensemble/bagged_ensemble_model.py\", line 801, in _hyperparameter_tune\n",
      "    hpo_models, hpo_model_performances, hpo_results = self.model_base.hyperparameter_tune(X=X_fold, y=y_fold, X_val=X_val_fold, y_val=y_val_fold, scheduler_options=scheduler_options, **kwargs)\n",
      "  File \"/usr/local/lib/python3.6/site-packages/autogluon/core/models/abstract/abstract_model.py\", line 830, in hyperparameter_tune\n",
      "    return self._hyperparameter_tune(scheduler_options=scheduler_options, **kwargs)\n",
      "  File \"/usr/local/lib/python3.6/site-packages/autogluon/core/models/abstract/abstract_model.py\", line 878, in _hyperparameter_tune\n",
      "    scheduler: FIFOScheduler = scheduler_cls(model_trial, **scheduler_params)\n",
      "  File \"/usr/local/lib/python3.6/site-packages/autogluon/core/scheduler/rl_scheduler.py\", line 119, in __init__\n",
      "    train_fn.kwspaces, reward_attribute=kwargs['reward_attr'])\n",
      "  File \"/usr/local/lib/python3.6/site-packages/autogluon/core/searcher/rl_controller.py\", line 43, in __init__\n",
      "    self.controller = LSTMController(kwspaces, ctx=ctx, **kwargs)\n",
      "  File \"/usr/local/lib/python3.6/site-packages/autogluon/mxnet/scheduler/rl_scheduler.py\", line 71, in __init__\n",
      "    assert isinstance(space, Categorical)\n",
      "AssertionError\n",
      "\n",
      "Hyperparameter tuning model: ExtraTreesMSE_BAG_L1 ...\n",
      "Fitted model: ExtraTreesMSE_BAG_L1/T0 ...\n",
      "\t-41.0043\t = Validation score   (root_mean_squared_error)\n",
      "\t4.61s\t = Training   runtime\n",
      "\t0.46s\t = Validation runtime\n",
      "Hyperparameter tuning model: NeuralNetFastAI_BAG_L1 ...\n",
      "\tRan out of time, stopping training early. (Stopping on epoch 2)\n",
      "Fitted model: NeuralNetFastAI_BAG_L1/T0 ...\n",
      "\t-125.2163\t = Validation score   (root_mean_squared_error)\n",
      "\t2.3s\t = Training   runtime\n",
      "\t0.04s\t = Validation runtime\n",
      "Hyperparameter tuning model: XGBoost_BAG_L1 ...\n",
      "Argument 'searcher' must be of type RLSearcher. Ignoring 'searcher' and creating searcher here.\n",
      "Warning: Exception caused XGBoost_BAG_L1 to fail during hyperparameter tuning... Skipping this model.\n",
      "Traceback (most recent call last):\n",
      "  File \"/usr/local/lib/python3.6/site-packages/autogluon/tabular/trainer/abstract_trainer.py\", line 1153, in _train_single_full\n",
      "    hpo_models, hpo_model_performances, hpo_results = model.hyperparameter_tune(X=X, y=y, k_fold=k_fold, scheduler_options=hyperparameter_tune_kwargs, **model_fit_kwargs)\n",
      "  File \"/usr/local/lib/python3.6/site-packages/autogluon/core/models/abstract/abstract_model.py\", line 830, in hyperparameter_tune\n",
      "    return self._hyperparameter_tune(scheduler_options=scheduler_options, **kwargs)\n",
      "  File \"/usr/local/lib/python3.6/site-packages/autogluon/core/models/ensemble/stacker_ensemble_model.py\", line 179, in _hyperparameter_tune\n",
      "    return super()._hyperparameter_tune(X=X, y=y, k_fold=k_fold, scheduler_options=scheduler_options, preprocess_kwargs=preprocess_kwargs, **kwargs)\n",
      "  File \"/usr/local/lib/python3.6/site-packages/autogluon/core/models/ensemble/bagged_ensemble_model.py\", line 801, in _hyperparameter_tune\n",
      "    hpo_models, hpo_model_performances, hpo_results = self.model_base.hyperparameter_tune(X=X_fold, y=y_fold, X_val=X_val_fold, y_val=y_val_fold, scheduler_options=scheduler_options, **kwargs)\n",
      "  File \"/usr/local/lib/python3.6/site-packages/autogluon/core/models/abstract/abstract_model.py\", line 830, in hyperparameter_tune\n",
      "    return self._hyperparameter_tune(scheduler_options=scheduler_options, **kwargs)\n",
      "  File \"/usr/local/lib/python3.6/site-packages/autogluon/core/models/abstract/abstract_model.py\", line 878, in _hyperparameter_tune\n",
      "    scheduler: FIFOScheduler = scheduler_cls(model_trial, **scheduler_params)\n",
      "  File \"/usr/local/lib/python3.6/site-packages/autogluon/core/scheduler/rl_scheduler.py\", line 119, in __init__\n",
      "    train_fn.kwspaces, reward_attribute=kwargs['reward_attr'])\n",
      "  File \"/usr/local/lib/python3.6/site-packages/autogluon/core/searcher/rl_controller.py\", line 43, in __init__\n",
      "    self.controller = LSTMController(kwspaces, ctx=ctx, **kwargs)\n",
      "  File \"/usr/local/lib/python3.6/site-packages/autogluon/mxnet/scheduler/rl_scheduler.py\", line 71, in __init__\n",
      "    assert isinstance(space, Categorical)\n",
      "AssertionError\n",
      "\n",
      "Hyperparameter tuning model: NeuralNetMXNet_BAG_L1 ...\n",
      "Argument 'searcher' must be of type RLSearcher. Ignoring 'searcher' and creating searcher here.\n",
      "Warning: Exception caused NeuralNetMXNet_BAG_L1 to fail during hyperparameter tuning... Skipping this model.\n",
      "Traceback (most recent call last):\n",
      "  File \"/usr/local/lib/python3.6/site-packages/autogluon/tabular/trainer/abstract_trainer.py\", line 1153, in _train_single_full\n",
      "    hpo_models, hpo_model_performances, hpo_results = model.hyperparameter_tune(X=X, y=y, k_fold=k_fold, scheduler_options=hyperparameter_tune_kwargs, **model_fit_kwargs)\n",
      "  File \"/usr/local/lib/python3.6/site-packages/autogluon/core/models/abstract/abstract_model.py\", line 830, in hyperparameter_tune\n",
      "    return self._hyperparameter_tune(scheduler_options=scheduler_options, **kwargs)\n",
      "  File \"/usr/local/lib/python3.6/site-packages/autogluon/core/models/ensemble/stacker_ensemble_model.py\", line 179, in _hyperparameter_tune\n",
      "    return super()._hyperparameter_tune(X=X, y=y, k_fold=k_fold, scheduler_options=scheduler_options, preprocess_kwargs=preprocess_kwargs, **kwargs)\n",
      "  File \"/usr/local/lib/python3.6/site-packages/autogluon/core/models/ensemble/bagged_ensemble_model.py\", line 801, in _hyperparameter_tune\n",
      "    hpo_models, hpo_model_performances, hpo_results = self.model_base.hyperparameter_tune(X=X_fold, y=y_fold, X_val=X_val_fold, y_val=y_val_fold, scheduler_options=scheduler_options, **kwargs)\n",
      "  File \"/usr/local/lib/python3.6/site-packages/autogluon/core/models/abstract/abstract_model.py\", line 830, in hyperparameter_tune\n",
      "    return self._hyperparameter_tune(scheduler_options=scheduler_options, **kwargs)\n",
      "  File \"/usr/local/lib/python3.6/site-packages/autogluon/tabular/models/tabular_nn/tabular_nn_model.py\", line 736, in _hyperparameter_tune\n",
      "    scheduler = scheduler_cls(tabular_nn_trial, **scheduler_params)\n",
      "  File \"/usr/local/lib/python3.6/site-packages/autogluon/core/scheduler/rl_scheduler.py\", line 119, in __init__\n",
      "    train_fn.kwspaces, reward_attribute=kwargs['reward_attr'])\n",
      "  File \"/usr/local/lib/python3.6/site-packages/autogluon/core/searcher/rl_controller.py\", line 43, in __init__\n",
      "    self.controller = LSTMController(kwspaces, ctx=ctx, **kwargs)\n",
      "  File \"/usr/local/lib/python3.6/site-packages/autogluon/mxnet/scheduler/rl_scheduler.py\", line 71, in __init__\n",
      "    assert isinstance(space, Categorical)\n",
      "AssertionError\n",
      "\n",
      "Fitting model: LightGBMLarge_BAG_L1 ... Training model for up to 3.27s of the 563.47s of remaining time.\n",
      "/usr/local/lib/python3.6/site-packages/lightgbm/engine.py:239: UserWarning: 'verbose_eval' argument is deprecated and will be removed in a future release of LightGBM. Pass 'log_evaluation()' callback via 'callbacks' argument instead.\n",
      "  _log_warning(\"'verbose_eval' argument is deprecated and will be removed in a future release of LightGBM. \"\n",
      "\tRan out of time, early stopping on iteration 776. Best iteration is:\n",
      "\t[776]\ttrain_set's rmse: 10.8185\tvalid_set's rmse: 35.2794\n",
      "\t-35.2794\t = Validation score   (root_mean_squared_error)\n",
      "\t3.15s\t = Training   runtime\n",
      "\t0.09s\t = Validation runtime\n",
      "Fitting model: KNeighborsUnif_BAG_L1/T0 ... Training model for up to 359.66s of the 559.62s of remaining time.\n",
      "\t-123.9216\t = Validation score   (root_mean_squared_error)\n",
      "\t0.05s\t = Training   runtime\n",
      "\t0.2s\t = Validation runtime\n",
      "Fitting model: KNeighborsDist_BAG_L1/T0 ... Training model for up to 359.6s of the 559.56s of remaining time.\n",
      "\t-119.3726\t = Validation score   (root_mean_squared_error)\n",
      "\t0.02s\t = Training   runtime\n",
      "\t0.2s\t = Validation runtime\n",
      "Fitting model: RandomForestMSE_BAG_L1/T0 ... Training model for up to 359.53s of the 559.49s of remaining time.\n",
      "\t-41.3337\t = Validation score   (root_mean_squared_error)\n",
      "\t10.59s\t = Training   runtime\n",
      "\t0.48s\t = Validation runtime\n",
      "Fitting model: ExtraTreesMSE_BAG_L1/T0 ... Training model for up to 359.46s of the 559.42s of remaining time.\n",
      "\t-41.0043\t = Validation score   (root_mean_squared_error)\n",
      "\t4.61s\t = Training   runtime\n",
      "\t0.46s\t = Validation runtime\n",
      "Fitting model: NeuralNetFastAI_BAG_L1/T0 ... Training model for up to 359.4s of the 559.37s of remaining time.\n",
      "\t-59.1405\t = Validation score   (root_mean_squared_error)\n",
      "\t146.8s\t = Training   runtime\n",
      "\t0.46s\t = Validation runtime\n",
      "Fitting model: LightGBMLarge_BAG_L1 ... Training model for up to 213.7s of the 413.66s of remaining time.\n",
      "/usr/local/lib/python3.6/site-packages/lightgbm/engine.py:239: UserWarning: 'verbose_eval' argument is deprecated and will be removed in a future release of LightGBM. Pass 'log_evaluation()' callback via 'callbacks' argument instead.\n",
      "  _log_warning(\"'verbose_eval' argument is deprecated and will be removed in a future release of LightGBM. \"\n"
     ]
    },
    {
     "name": "stdout",
     "output_type": "stream",
     "text": [
      "[1000]\ttrain_set's rmse: 8.79021\tvalid_set's rmse: 36.3177\n",
      "[2000]\ttrain_set's rmse: 4.31516\tvalid_set's rmse: 36.127\n"
     ]
    },
    {
     "name": "stderr",
     "output_type": "stream",
     "text": [
      "/usr/local/lib/python3.6/site-packages/lightgbm/engine.py:239: UserWarning: 'verbose_eval' argument is deprecated and will be removed in a future release of LightGBM. Pass 'log_evaluation()' callback via 'callbacks' argument instead.\n",
      "  _log_warning(\"'verbose_eval' argument is deprecated and will be removed in a future release of LightGBM. \"\n"
     ]
    },
    {
     "name": "stdout",
     "output_type": "stream",
     "text": [
      "[1000]\ttrain_set's rmse: 9.16169\tvalid_set's rmse: 33.2606\n",
      "[2000]\ttrain_set's rmse: 4.30435\tvalid_set's rmse: 33.0592\n"
     ]
    },
    {
     "name": "stderr",
     "output_type": "stream",
     "text": [
      "/usr/local/lib/python3.6/site-packages/lightgbm/engine.py:239: UserWarning: 'verbose_eval' argument is deprecated and will be removed in a future release of LightGBM. Pass 'log_evaluation()' callback via 'callbacks' argument instead.\n",
      "  _log_warning(\"'verbose_eval' argument is deprecated and will be removed in a future release of LightGBM. \"\n"
     ]
    },
    {
     "name": "stdout",
     "output_type": "stream",
     "text": [
      "[1000]\ttrain_set's rmse: 8.88163\tvalid_set's rmse: 36.6216\n",
      "[2000]\ttrain_set's rmse: 4.26966\tvalid_set's rmse: 36.4199\n"
     ]
    },
    {
     "name": "stderr",
     "output_type": "stream",
     "text": [
      "/usr/local/lib/python3.6/site-packages/lightgbm/engine.py:239: UserWarning: 'verbose_eval' argument is deprecated and will be removed in a future release of LightGBM. Pass 'log_evaluation()' callback via 'callbacks' argument instead.\n",
      "  _log_warning(\"'verbose_eval' argument is deprecated and will be removed in a future release of LightGBM. \"\n"
     ]
    },
    {
     "name": "stdout",
     "output_type": "stream",
     "text": [
      "[1000]\ttrain_set's rmse: 8.87151\tvalid_set's rmse: 36.878\n",
      "[2000]\ttrain_set's rmse: 4.29378\tvalid_set's rmse: 36.7111\n",
      "[3000]\ttrain_set's rmse: 2.29818\tvalid_set's rmse: 36.6449\n"
     ]
    },
    {
     "name": "stderr",
     "output_type": "stream",
     "text": [
      "/usr/local/lib/python3.6/site-packages/lightgbm/engine.py:239: UserWarning: 'verbose_eval' argument is deprecated and will be removed in a future release of LightGBM. Pass 'log_evaluation()' callback via 'callbacks' argument instead.\n",
      "  _log_warning(\"'verbose_eval' argument is deprecated and will be removed in a future release of LightGBM. \"\n",
      "/usr/local/lib/python3.6/site-packages/lightgbm/engine.py:239: UserWarning: 'verbose_eval' argument is deprecated and will be removed in a future release of LightGBM. Pass 'log_evaluation()' callback via 'callbacks' argument instead.\n",
      "  _log_warning(\"'verbose_eval' argument is deprecated and will be removed in a future release of LightGBM. \"\n"
     ]
    },
    {
     "name": "stdout",
     "output_type": "stream",
     "text": [
      "[1000]\ttrain_set's rmse: 8.90966\tvalid_set's rmse: 34.3868\n"
     ]
    },
    {
     "name": "stderr",
     "output_type": "stream",
     "text": [
      "/usr/local/lib/python3.6/site-packages/lightgbm/engine.py:239: UserWarning: 'verbose_eval' argument is deprecated and will be removed in a future release of LightGBM. Pass 'log_evaluation()' callback via 'callbacks' argument instead.\n",
      "  _log_warning(\"'verbose_eval' argument is deprecated and will be removed in a future release of LightGBM. \"\n"
     ]
    },
    {
     "name": "stdout",
     "output_type": "stream",
     "text": [
      "[1000]\ttrain_set's rmse: 9.03523\tvalid_set's rmse: 35.1981\n",
      "[2000]\ttrain_set's rmse: 4.28481\tvalid_set's rmse: 34.9359\n"
     ]
    },
    {
     "name": "stderr",
     "output_type": "stream",
     "text": [
      "/usr/local/lib/python3.6/site-packages/lightgbm/engine.py:239: UserWarning: 'verbose_eval' argument is deprecated and will be removed in a future release of LightGBM. Pass 'log_evaluation()' callback via 'callbacks' argument instead.\n",
      "  _log_warning(\"'verbose_eval' argument is deprecated and will be removed in a future release of LightGBM. \"\n",
      "/usr/local/lib/python3.6/site-packages/lightgbm/engine.py:239: UserWarning: 'verbose_eval' argument is deprecated and will be removed in a future release of LightGBM. Pass 'log_evaluation()' callback via 'callbacks' argument instead.\n",
      "  _log_warning(\"'verbose_eval' argument is deprecated and will be removed in a future release of LightGBM. \"\n"
     ]
    },
    {
     "name": "stdout",
     "output_type": "stream",
     "text": [
      "[1000]\ttrain_set's rmse: 8.85414\tvalid_set's rmse: 36.3774\n",
      "[2000]\ttrain_set's rmse: 4.28709\tvalid_set's rmse: 36.0934\n"
     ]
    },
    {
     "name": "stderr",
     "output_type": "stream",
     "text": [
      "\t-36.4746\t = Validation score   (root_mean_squared_error)\n",
      "\t69.17s\t = Training   runtime\n",
      "\t1.5s\t = Validation runtime\n",
      "Completed 1/20 k-fold bagging repeats ...\n",
      "Fitting model: WeightedEnsemble_L2 ... Training model for up to 360.0s of the 336.96s of remaining time.\n",
      "\t-36.3211\t = Validation score   (root_mean_squared_error)\n",
      "\t0.45s\t = Training   runtime\n",
      "\t0.0s\t = Validation runtime\n",
      "Fitting 9 L2 models ...\n",
      "Hyperparameter tuning model: LightGBMXT_BAG_L2 ...\n",
      "Argument 'searcher' must be of type RLSearcher. Ignoring 'searcher' and creating searcher here.\n",
      "Warning: Exception caused LightGBMXT_BAG_L2 to fail during hyperparameter tuning... Skipping this model.\n",
      "Traceback (most recent call last):\n",
      "  File \"/usr/local/lib/python3.6/site-packages/autogluon/tabular/trainer/abstract_trainer.py\", line 1153, in _train_single_full\n",
      "    hpo_models, hpo_model_performances, hpo_results = model.hyperparameter_tune(X=X, y=y, k_fold=k_fold, scheduler_options=hyperparameter_tune_kwargs, **model_fit_kwargs)\n",
      "  File \"/usr/local/lib/python3.6/site-packages/autogluon/core/models/abstract/abstract_model.py\", line 830, in hyperparameter_tune\n",
      "    return self._hyperparameter_tune(scheduler_options=scheduler_options, **kwargs)\n",
      "  File \"/usr/local/lib/python3.6/site-packages/autogluon/core/models/ensemble/stacker_ensemble_model.py\", line 179, in _hyperparameter_tune\n",
      "    return super()._hyperparameter_tune(X=X, y=y, k_fold=k_fold, scheduler_options=scheduler_options, preprocess_kwargs=preprocess_kwargs, **kwargs)\n",
      "  File \"/usr/local/lib/python3.6/site-packages/autogluon/core/models/ensemble/bagged_ensemble_model.py\", line 801, in _hyperparameter_tune\n",
      "    hpo_models, hpo_model_performances, hpo_results = self.model_base.hyperparameter_tune(X=X_fold, y=y_fold, X_val=X_val_fold, y_val=y_val_fold, scheduler_options=scheduler_options, **kwargs)\n",
      "  File \"/usr/local/lib/python3.6/site-packages/autogluon/core/models/abstract/abstract_model.py\", line 830, in hyperparameter_tune\n",
      "    return self._hyperparameter_tune(scheduler_options=scheduler_options, **kwargs)\n",
      "  File \"/usr/local/lib/python3.6/site-packages/autogluon/tabular/models/lgb/lgb_model.py\", line 382, in _hyperparameter_tune\n",
      "    scheduler = scheduler_cls(lgb_trial, **scheduler_params)\n",
      "  File \"/usr/local/lib/python3.6/site-packages/autogluon/core/scheduler/rl_scheduler.py\", line 119, in __init__\n",
      "    train_fn.kwspaces, reward_attribute=kwargs['reward_attr'])\n",
      "  File \"/usr/local/lib/python3.6/site-packages/autogluon/core/searcher/rl_controller.py\", line 43, in __init__\n",
      "    self.controller = LSTMController(kwspaces, ctx=ctx, **kwargs)\n",
      "  File \"/usr/local/lib/python3.6/site-packages/autogluon/mxnet/scheduler/rl_scheduler.py\", line 71, in __init__\n",
      "    assert isinstance(space, Categorical)\n",
      "AssertionError\n",
      "\n",
      "Hyperparameter tuning model: LightGBM_BAG_L2 ...\n",
      "Argument 'searcher' must be of type RLSearcher. Ignoring 'searcher' and creating searcher here.\n",
      "Warning: Exception caused LightGBM_BAG_L2 to fail during hyperparameter tuning... Skipping this model.\n",
      "Traceback (most recent call last):\n",
      "  File \"/usr/local/lib/python3.6/site-packages/autogluon/tabular/trainer/abstract_trainer.py\", line 1153, in _train_single_full\n",
      "    hpo_models, hpo_model_performances, hpo_results = model.hyperparameter_tune(X=X, y=y, k_fold=k_fold, scheduler_options=hyperparameter_tune_kwargs, **model_fit_kwargs)\n",
      "  File \"/usr/local/lib/python3.6/site-packages/autogluon/core/models/abstract/abstract_model.py\", line 830, in hyperparameter_tune\n",
      "    return self._hyperparameter_tune(scheduler_options=scheduler_options, **kwargs)\n",
      "  File \"/usr/local/lib/python3.6/site-packages/autogluon/core/models/ensemble/stacker_ensemble_model.py\", line 179, in _hyperparameter_tune\n",
      "    return super()._hyperparameter_tune(X=X, y=y, k_fold=k_fold, scheduler_options=scheduler_options, preprocess_kwargs=preprocess_kwargs, **kwargs)\n",
      "  File \"/usr/local/lib/python3.6/site-packages/autogluon/core/models/ensemble/bagged_ensemble_model.py\", line 801, in _hyperparameter_tune\n",
      "    hpo_models, hpo_model_performances, hpo_results = self.model_base.hyperparameter_tune(X=X_fold, y=y_fold, X_val=X_val_fold, y_val=y_val_fold, scheduler_options=scheduler_options, **kwargs)\n",
      "  File \"/usr/local/lib/python3.6/site-packages/autogluon/core/models/abstract/abstract_model.py\", line 830, in hyperparameter_tune\n",
      "    return self._hyperparameter_tune(scheduler_options=scheduler_options, **kwargs)\n",
      "  File \"/usr/local/lib/python3.6/site-packages/autogluon/tabular/models/lgb/lgb_model.py\", line 382, in _hyperparameter_tune\n",
      "    scheduler = scheduler_cls(lgb_trial, **scheduler_params)\n",
      "  File \"/usr/local/lib/python3.6/site-packages/autogluon/core/scheduler/rl_scheduler.py\", line 119, in __init__\n",
      "    train_fn.kwspaces, reward_attribute=kwargs['reward_attr'])\n",
      "  File \"/usr/local/lib/python3.6/site-packages/autogluon/core/searcher/rl_controller.py\", line 43, in __init__\n",
      "    self.controller = LSTMController(kwspaces, ctx=ctx, **kwargs)\n",
      "  File \"/usr/local/lib/python3.6/site-packages/autogluon/mxnet/scheduler/rl_scheduler.py\", line 71, in __init__\n",
      "    assert isinstance(space, Categorical)\n",
      "AssertionError\n",
      "\n",
      "Hyperparameter tuning model: RandomForestMSE_BAG_L2 ...\n",
      "Fitted model: RandomForestMSE_BAG_L2/T0 ...\n",
      "\t-37.679\t = Validation score   (root_mean_squared_error)\n",
      "\t24.64s\t = Training   runtime\n",
      "\t0.52s\t = Validation runtime\n",
      "Hyperparameter tuning model: CatBoost_BAG_L2 ...\n",
      "Argument 'searcher' must be of type RLSearcher. Ignoring 'searcher' and creating searcher here.\n",
      "Warning: Exception caused CatBoost_BAG_L2 to fail during hyperparameter tuning... Skipping this model.\n",
      "Traceback (most recent call last):\n",
      "  File \"/usr/local/lib/python3.6/site-packages/autogluon/tabular/trainer/abstract_trainer.py\", line 1153, in _train_single_full\n",
      "    hpo_models, hpo_model_performances, hpo_results = model.hyperparameter_tune(X=X, y=y, k_fold=k_fold, scheduler_options=hyperparameter_tune_kwargs, **model_fit_kwargs)\n",
      "  File \"/usr/local/lib/python3.6/site-packages/autogluon/core/models/abstract/abstract_model.py\", line 830, in hyperparameter_tune\n",
      "    return self._hyperparameter_tune(scheduler_options=scheduler_options, **kwargs)\n",
      "  File \"/usr/local/lib/python3.6/site-packages/autogluon/core/models/ensemble/stacker_ensemble_model.py\", line 179, in _hyperparameter_tune\n",
      "    return super()._hyperparameter_tune(X=X, y=y, k_fold=k_fold, scheduler_options=scheduler_options, preprocess_kwargs=preprocess_kwargs, **kwargs)\n",
      "  File \"/usr/local/lib/python3.6/site-packages/autogluon/core/models/ensemble/bagged_ensemble_model.py\", line 801, in _hyperparameter_tune\n",
      "    hpo_models, hpo_model_performances, hpo_results = self.model_base.hyperparameter_tune(X=X_fold, y=y_fold, X_val=X_val_fold, y_val=y_val_fold, scheduler_options=scheduler_options, **kwargs)\n",
      "  File \"/usr/local/lib/python3.6/site-packages/autogluon/core/models/abstract/abstract_model.py\", line 830, in hyperparameter_tune\n",
      "    return self._hyperparameter_tune(scheduler_options=scheduler_options, **kwargs)\n",
      "  File \"/usr/local/lib/python3.6/site-packages/autogluon/core/models/abstract/abstract_model.py\", line 878, in _hyperparameter_tune\n",
      "    scheduler: FIFOScheduler = scheduler_cls(model_trial, **scheduler_params)\n",
      "  File \"/usr/local/lib/python3.6/site-packages/autogluon/core/scheduler/rl_scheduler.py\", line 119, in __init__\n",
      "    train_fn.kwspaces, reward_attribute=kwargs['reward_attr'])\n",
      "  File \"/usr/local/lib/python3.6/site-packages/autogluon/core/searcher/rl_controller.py\", line 43, in __init__\n",
      "    self.controller = LSTMController(kwspaces, ctx=ctx, **kwargs)\n",
      "  File \"/usr/local/lib/python3.6/site-packages/autogluon/mxnet/scheduler/rl_scheduler.py\", line 71, in __init__\n",
      "    assert isinstance(space, Categorical)\n",
      "AssertionError\n",
      "\n",
      "Hyperparameter tuning model: ExtraTreesMSE_BAG_L2 ...\n",
      "Fitted model: ExtraTreesMSE_BAG_L2/T0 ...\n",
      "\t-36.8686\t = Validation score   (root_mean_squared_error)\n",
      "\t7.1s\t = Training   runtime\n",
      "\t0.52s\t = Validation runtime\n",
      "Hyperparameter tuning model: NeuralNetFastAI_BAG_L2 ...\n",
      "\tRan out of time, stopping training early. (Stopping on epoch 3)\n",
      "Fitted model: NeuralNetFastAI_BAG_L2/T0 ...\n",
      "\t-42.4527\t = Validation score   (root_mean_squared_error)\n",
      "\t2.21s\t = Training   runtime\n",
      "\t0.05s\t = Validation runtime\n",
      "Hyperparameter tuning model: XGBoost_BAG_L2 ...\n",
      "Argument 'searcher' must be of type RLSearcher. Ignoring 'searcher' and creating searcher here.\n",
      "Warning: Exception caused XGBoost_BAG_L2 to fail during hyperparameter tuning... Skipping this model.\n",
      "Traceback (most recent call last):\n",
      "  File \"/usr/local/lib/python3.6/site-packages/autogluon/tabular/trainer/abstract_trainer.py\", line 1153, in _train_single_full\n",
      "    hpo_models, hpo_model_performances, hpo_results = model.hyperparameter_tune(X=X, y=y, k_fold=k_fold, scheduler_options=hyperparameter_tune_kwargs, **model_fit_kwargs)\n",
      "  File \"/usr/local/lib/python3.6/site-packages/autogluon/core/models/abstract/abstract_model.py\", line 830, in hyperparameter_tune\n",
      "    return self._hyperparameter_tune(scheduler_options=scheduler_options, **kwargs)\n",
      "  File \"/usr/local/lib/python3.6/site-packages/autogluon/core/models/ensemble/stacker_ensemble_model.py\", line 179, in _hyperparameter_tune\n",
      "    return super()._hyperparameter_tune(X=X, y=y, k_fold=k_fold, scheduler_options=scheduler_options, preprocess_kwargs=preprocess_kwargs, **kwargs)\n",
      "  File \"/usr/local/lib/python3.6/site-packages/autogluon/core/models/ensemble/bagged_ensemble_model.py\", line 801, in _hyperparameter_tune\n",
      "    hpo_models, hpo_model_performances, hpo_results = self.model_base.hyperparameter_tune(X=X_fold, y=y_fold, X_val=X_val_fold, y_val=y_val_fold, scheduler_options=scheduler_options, **kwargs)\n",
      "  File \"/usr/local/lib/python3.6/site-packages/autogluon/core/models/abstract/abstract_model.py\", line 830, in hyperparameter_tune\n",
      "    return self._hyperparameter_tune(scheduler_options=scheduler_options, **kwargs)\n",
      "  File \"/usr/local/lib/python3.6/site-packages/autogluon/core/models/abstract/abstract_model.py\", line 878, in _hyperparameter_tune\n",
      "    scheduler: FIFOScheduler = scheduler_cls(model_trial, **scheduler_params)\n",
      "  File \"/usr/local/lib/python3.6/site-packages/autogluon/core/scheduler/rl_scheduler.py\", line 119, in __init__\n",
      "    train_fn.kwspaces, reward_attribute=kwargs['reward_attr'])\n",
      "  File \"/usr/local/lib/python3.6/site-packages/autogluon/core/searcher/rl_controller.py\", line 43, in __init__\n",
      "    self.controller = LSTMController(kwspaces, ctx=ctx, **kwargs)\n",
      "  File \"/usr/local/lib/python3.6/site-packages/autogluon/mxnet/scheduler/rl_scheduler.py\", line 71, in __init__\n",
      "    assert isinstance(space, Categorical)\n",
      "AssertionError\n",
      "\n",
      "Hyperparameter tuning model: NeuralNetMXNet_BAG_L2 ...\n",
      "Argument 'searcher' must be of type RLSearcher. Ignoring 'searcher' and creating searcher here.\n",
      "Warning: Exception caused NeuralNetMXNet_BAG_L2 to fail during hyperparameter tuning... Skipping this model.\n",
      "Traceback (most recent call last):\n",
      "  File \"/usr/local/lib/python3.6/site-packages/autogluon/tabular/trainer/abstract_trainer.py\", line 1153, in _train_single_full\n",
      "    hpo_models, hpo_model_performances, hpo_results = model.hyperparameter_tune(X=X, y=y, k_fold=k_fold, scheduler_options=hyperparameter_tune_kwargs, **model_fit_kwargs)\n",
      "  File \"/usr/local/lib/python3.6/site-packages/autogluon/core/models/abstract/abstract_model.py\", line 830, in hyperparameter_tune\n",
      "    return self._hyperparameter_tune(scheduler_options=scheduler_options, **kwargs)\n",
      "  File \"/usr/local/lib/python3.6/site-packages/autogluon/core/models/ensemble/stacker_ensemble_model.py\", line 179, in _hyperparameter_tune\n",
      "    return super()._hyperparameter_tune(X=X, y=y, k_fold=k_fold, scheduler_options=scheduler_options, preprocess_kwargs=preprocess_kwargs, **kwargs)\n",
      "  File \"/usr/local/lib/python3.6/site-packages/autogluon/core/models/ensemble/bagged_ensemble_model.py\", line 801, in _hyperparameter_tune\n",
      "    hpo_models, hpo_model_performances, hpo_results = self.model_base.hyperparameter_tune(X=X_fold, y=y_fold, X_val=X_val_fold, y_val=y_val_fold, scheduler_options=scheduler_options, **kwargs)\n",
      "  File \"/usr/local/lib/python3.6/site-packages/autogluon/core/models/abstract/abstract_model.py\", line 830, in hyperparameter_tune\n",
      "    return self._hyperparameter_tune(scheduler_options=scheduler_options, **kwargs)\n",
      "  File \"/usr/local/lib/python3.6/site-packages/autogluon/tabular/models/tabular_nn/tabular_nn_model.py\", line 736, in _hyperparameter_tune\n",
      "    scheduler = scheduler_cls(tabular_nn_trial, **scheduler_params)\n",
      "  File \"/usr/local/lib/python3.6/site-packages/autogluon/core/scheduler/rl_scheduler.py\", line 119, in __init__\n",
      "    train_fn.kwspaces, reward_attribute=kwargs['reward_attr'])\n",
      "  File \"/usr/local/lib/python3.6/site-packages/autogluon/core/searcher/rl_controller.py\", line 43, in __init__\n",
      "    self.controller = LSTMController(kwspaces, ctx=ctx, **kwargs)\n",
      "  File \"/usr/local/lib/python3.6/site-packages/autogluon/mxnet/scheduler/rl_scheduler.py\", line 71, in __init__\n",
      "    assert isinstance(space, Categorical)\n",
      "AssertionError\n",
      "\n",
      "Fitting model: LightGBMLarge_BAG_L2 ... Training model for up to 3.36s of the 287.58s of remaining time.\n",
      "/usr/local/lib/python3.6/site-packages/lightgbm/engine.py:239: UserWarning: 'verbose_eval' argument is deprecated and will be removed in a future release of LightGBM. Pass 'log_evaluation()' callback via 'callbacks' argument instead.\n",
      "  _log_warning(\"'verbose_eval' argument is deprecated and will be removed in a future release of LightGBM. \"\n",
      "\t-39.7242\t = Validation score   (root_mean_squared_error)\n",
      "\t1.69s\t = Training   runtime\n",
      "\t0.02s\t = Validation runtime\n",
      "Fitting model: RandomForestMSE_BAG_L2/T0 ... Training model for up to 285.68s of the 285.66s of remaining time.\n",
      "\t-37.679\t = Validation score   (root_mean_squared_error)\n",
      "\t24.64s\t = Training   runtime\n",
      "\t0.52s\t = Validation runtime\n",
      "Fitting model: ExtraTreesMSE_BAG_L2/T0 ... Training model for up to 285.6s of the 285.58s of remaining time.\n",
      "\t-36.8686\t = Validation score   (root_mean_squared_error)\n",
      "\t7.1s\t = Training   runtime\n",
      "\t0.52s\t = Validation runtime\n",
      "Fitting model: NeuralNetFastAI_BAG_L2/T0 ... Training model for up to 285.54s of the 285.52s of remaining time.\n",
      "\t-37.2744\t = Validation score   (root_mean_squared_error)\n",
      "\t150.98s\t = Training   runtime\n",
      "\t0.5s\t = Validation runtime\n",
      "Fitting model: LightGBMLarge_BAG_L2 ... Training model for up to 135.53s of the 135.51s of remaining time.\n",
      "/usr/local/lib/python3.6/site-packages/lightgbm/engine.py:239: UserWarning: 'verbose_eval' argument is deprecated and will be removed in a future release of LightGBM. Pass 'log_evaluation()' callback via 'callbacks' argument instead.\n",
      "  _log_warning(\"'verbose_eval' argument is deprecated and will be removed in a future release of LightGBM. \"\n",
      "/usr/local/lib/python3.6/site-packages/lightgbm/engine.py:239: UserWarning: 'verbose_eval' argument is deprecated and will be removed in a future release of LightGBM. Pass 'log_evaluation()' callback via 'callbacks' argument instead.\n",
      "  _log_warning(\"'verbose_eval' argument is deprecated and will be removed in a future release of LightGBM. \"\n",
      "/usr/local/lib/python3.6/site-packages/lightgbm/engine.py:239: UserWarning: 'verbose_eval' argument is deprecated and will be removed in a future release of LightGBM. Pass 'log_evaluation()' callback via 'callbacks' argument instead.\n",
      "  _log_warning(\"'verbose_eval' argument is deprecated and will be removed in a future release of LightGBM. \"\n",
      "/usr/local/lib/python3.6/site-packages/lightgbm/engine.py:239: UserWarning: 'verbose_eval' argument is deprecated and will be removed in a future release of LightGBM. Pass 'log_evaluation()' callback via 'callbacks' argument instead.\n",
      "  _log_warning(\"'verbose_eval' argument is deprecated and will be removed in a future release of LightGBM. \"\n",
      "/usr/local/lib/python3.6/site-packages/lightgbm/engine.py:239: UserWarning: 'verbose_eval' argument is deprecated and will be removed in a future release of LightGBM. Pass 'log_evaluation()' callback via 'callbacks' argument instead.\n",
      "  _log_warning(\"'verbose_eval' argument is deprecated and will be removed in a future release of LightGBM. \"\n",
      "/usr/local/lib/python3.6/site-packages/lightgbm/engine.py:239: UserWarning: 'verbose_eval' argument is deprecated and will be removed in a future release of LightGBM. Pass 'log_evaluation()' callback via 'callbacks' argument instead.\n",
      "  _log_warning(\"'verbose_eval' argument is deprecated and will be removed in a future release of LightGBM. \"\n",
      "/usr/local/lib/python3.6/site-packages/lightgbm/engine.py:239: UserWarning: 'verbose_eval' argument is deprecated and will be removed in a future release of LightGBM. Pass 'log_evaluation()' callback via 'callbacks' argument instead.\n",
      "  _log_warning(\"'verbose_eval' argument is deprecated and will be removed in a future release of LightGBM. \"\n",
      "/usr/local/lib/python3.6/site-packages/lightgbm/engine.py:239: UserWarning: 'verbose_eval' argument is deprecated and will be removed in a future release of LightGBM. Pass 'log_evaluation()' callback via 'callbacks' argument instead.\n",
      "  _log_warning(\"'verbose_eval' argument is deprecated and will be removed in a future release of LightGBM. \"\n",
      "/usr/local/lib/python3.6/site-packages/lightgbm/engine.py:239: UserWarning: 'verbose_eval' argument is deprecated and will be removed in a future release of LightGBM. Pass 'log_evaluation()' callback via 'callbacks' argument instead.\n",
      "  _log_warning(\"'verbose_eval' argument is deprecated and will be removed in a future release of LightGBM. \"\n",
      "\t-37.6046\t = Validation score   (root_mean_squared_error)\n",
      "\t18.88s\t = Training   runtime\n",
      "\t0.19s\t = Validation runtime\n",
      "Completed 1/20 k-fold bagging repeats ...\n",
      "Fitting model: WeightedEnsemble_L3 ... Training model for up to 360.0s of the 116.83s of remaining time.\n",
      "\t-36.5444\t = Validation score   (root_mean_squared_error)\n",
      "\t0.32s\t = Training   runtime\n",
      "\t0.0s\t = Validation runtime\n",
      "AutoGluon training complete, total runtime = 483.75s ...\n",
      "TabularPredictor saved. To load, use: predictor = TabularPredictor.load(\"AutogluonModels/ag-20220128_212143/\")\n"
     ]
    }
   ],
   "source": [
    "predictor_new_features = TabularPredictor(label='count', eval_metric='root_mean_squared_error').fit(train_data=df_train, presets='best_quality', time_limit=600,hyperparameter_tune_kwargs=params)\n",
    "predictions = predictor_new_features.predict(df_test)"
   ]
  },
  {
   "cell_type": "markdown",
   "metadata": {},
   "source": [
    "#### Model Evaluation"
   ]
  },
  {
   "cell_type": "code",
   "execution_count": 70,
   "metadata": {},
   "outputs": [
    {
     "name": "stdout",
     "output_type": "stream",
     "text": [
      "*** Summary of fit() ***\n",
      "Estimated performance of each model:\n",
      "                        model   score_val  pred_time_val    fit_time  pred_time_val_marginal  fit_time_marginal  stack_level  can_infer  fit_order\n",
      "0         WeightedEnsemble_L2  -36.321060       1.962111   74.238020                0.000963           0.451058            2       True          7\n",
      "1        LightGBMLarge_BAG_L1  -36.474619       1.498421   69.172669                1.498421          69.172669            1       True          6\n",
      "2         WeightedEnsemble_L3  -36.544355       4.515099  408.526644                0.001060           0.321104            3       True         12\n",
      "3     ExtraTreesMSE_BAG_L2/T0  -36.868650       3.821085  238.344795                0.517280           7.095317            2       True          9\n",
      "4   NeuralNetFastAI_BAG_L2/T0  -37.274386       3.804521  382.233724                0.500716         150.984246            2       True         10\n",
      "5        LightGBMLarge_BAG_L2  -37.604643       3.496043  250.125977                0.192238          18.876499            2       True         11\n",
      "6   RandomForestMSE_BAG_L2/T0  -37.679017       3.825160  255.887105                0.521354          24.637627            2       True          8\n",
      "7     ExtraTreesMSE_BAG_L1/T0  -41.004313       0.462727    4.614292                0.462727           4.614292            1       True          4\n",
      "8   RandomForestMSE_BAG_L1/T0  -41.333700       0.475871   10.590930                0.475871          10.590930            1       True          3\n",
      "9   NeuralNetFastAI_BAG_L1/T0  -59.140497       0.458228  146.800643                0.458228         146.800643            1       True          5\n",
      "10   KNeighborsDist_BAG_L1/T0 -119.372602       0.203950    0.023028                0.203950           0.023028            1       True          2\n",
      "11   KNeighborsUnif_BAG_L1/T0 -123.921631       0.204609    0.047915                0.204609           0.047915            1       True          1\n",
      "Number of models trained: 12\n",
      "Types of models trained:\n",
      "{'StackerEnsembleModel_XT', 'StackerEnsembleModel_NNFastAiTabular', 'StackerEnsembleModel_KNN', 'WeightedEnsembleModel', 'StackerEnsembleModel_RF', 'StackerEnsembleModel_LGB'}\n",
      "Bagging used: True  (with 10 folds)\n",
      "Multi-layer stack-ensembling used: True  (with 3 levels)\n",
      "Feature Metadata (Processed):\n",
      "(raw dtype, special dtypes):\n",
      "('category', [])             : 4 | ['season', 'weather', 'rush_hour', 'temp_feels']\n",
      "('float', [])                : 3 | ['temp', 'atemp', 'windspeed']\n",
      "('int', [])                  : 4 | ['humidity', 'day', 'month', 'hour']\n",
      "('int', ['bool'])            : 2 | ['holiday', 'workingday']\n",
      "('int', ['datetime_as_int']) : 1 | ['datetime']\n",
      "Plot summary of models saved to file: AutogluonModels/ag-20220128_212143/SummaryOfModels.html\n",
      "*** End of fit() summary ***\n"
     ]
    },
    {
     "data": {
      "text/plain": [
       "{'model_types': {'KNeighborsUnif_BAG_L1/T0': 'StackerEnsembleModel_KNN',\n",
       "  'KNeighborsDist_BAG_L1/T0': 'StackerEnsembleModel_KNN',\n",
       "  'RandomForestMSE_BAG_L1/T0': 'StackerEnsembleModel_RF',\n",
       "  'ExtraTreesMSE_BAG_L1/T0': 'StackerEnsembleModel_XT',\n",
       "  'NeuralNetFastAI_BAG_L1/T0': 'StackerEnsembleModel_NNFastAiTabular',\n",
       "  'LightGBMLarge_BAG_L1': 'StackerEnsembleModel_LGB',\n",
       "  'WeightedEnsemble_L2': 'WeightedEnsembleModel',\n",
       "  'RandomForestMSE_BAG_L2/T0': 'StackerEnsembleModel_RF',\n",
       "  'ExtraTreesMSE_BAG_L2/T0': 'StackerEnsembleModel_XT',\n",
       "  'NeuralNetFastAI_BAG_L2/T0': 'StackerEnsembleModel_NNFastAiTabular',\n",
       "  'LightGBMLarge_BAG_L2': 'StackerEnsembleModel_LGB',\n",
       "  'WeightedEnsemble_L3': 'WeightedEnsembleModel'},\n",
       " 'model_performance': {'KNeighborsUnif_BAG_L1/T0': -123.92163053871576,\n",
       "  'KNeighborsDist_BAG_L1/T0': -119.37260178212149,\n",
       "  'RandomForestMSE_BAG_L1/T0': -41.33369964731353,\n",
       "  'ExtraTreesMSE_BAG_L1/T0': -41.004313276828015,\n",
       "  'NeuralNetFastAI_BAG_L1/T0': -59.14049732469343,\n",
       "  'LightGBMLarge_BAG_L1': -36.474618504654394,\n",
       "  'WeightedEnsemble_L2': -36.321059888027,\n",
       "  'RandomForestMSE_BAG_L2/T0': -37.67901666488878,\n",
       "  'ExtraTreesMSE_BAG_L2/T0': -36.868649808455245,\n",
       "  'NeuralNetFastAI_BAG_L2/T0': -37.27438571022402,\n",
       "  'LightGBMLarge_BAG_L2': -37.60464322268865,\n",
       "  'WeightedEnsemble_L3': -36.54435504134823},\n",
       " 'model_best': 'WeightedEnsemble_L2',\n",
       " 'model_paths': {'KNeighborsUnif_BAG_L1/T0': 'AutogluonModels/ag-20220128_212143/models/KNeighborsUnif_BAG_L1/T0/',\n",
       "  'KNeighborsDist_BAG_L1/T0': 'AutogluonModels/ag-20220128_212143/models/KNeighborsDist_BAG_L1/T0/',\n",
       "  'RandomForestMSE_BAG_L1/T0': 'AutogluonModels/ag-20220128_212143/models/RandomForestMSE_BAG_L1/T0/',\n",
       "  'ExtraTreesMSE_BAG_L1/T0': 'AutogluonModels/ag-20220128_212143/models/ExtraTreesMSE_BAG_L1/T0/',\n",
       "  'NeuralNetFastAI_BAG_L1/T0': 'AutogluonModels/ag-20220128_212143/models/NeuralNetFastAI_BAG_L1/T0/',\n",
       "  'LightGBMLarge_BAG_L1': 'AutogluonModels/ag-20220128_212143/models/LightGBMLarge_BAG_L1/',\n",
       "  'WeightedEnsemble_L2': 'AutogluonModels/ag-20220128_212143/models/WeightedEnsemble_L2/',\n",
       "  'RandomForestMSE_BAG_L2/T0': 'AutogluonModels/ag-20220128_212143/models/RandomForestMSE_BAG_L2/T0/',\n",
       "  'ExtraTreesMSE_BAG_L2/T0': 'AutogluonModels/ag-20220128_212143/models/ExtraTreesMSE_BAG_L2/T0/',\n",
       "  'NeuralNetFastAI_BAG_L2/T0': 'AutogluonModels/ag-20220128_212143/models/NeuralNetFastAI_BAG_L2/T0/',\n",
       "  'LightGBMLarge_BAG_L2': 'AutogluonModels/ag-20220128_212143/models/LightGBMLarge_BAG_L2/',\n",
       "  'WeightedEnsemble_L3': 'AutogluonModels/ag-20220128_212143/models/WeightedEnsemble_L3/'},\n",
       " 'model_fit_times': {'KNeighborsUnif_BAG_L1/T0': 0.04791522026062012,\n",
       "  'KNeighborsDist_BAG_L1/T0': 0.023027658462524414,\n",
       "  'RandomForestMSE_BAG_L1/T0': 10.590930461883545,\n",
       "  'ExtraTreesMSE_BAG_L1/T0': 4.61429238319397,\n",
       "  'NeuralNetFastAI_BAG_L1/T0': 146.80064272880554,\n",
       "  'LightGBMLarge_BAG_L1': 69.17266941070557,\n",
       "  'WeightedEnsemble_L2': 0.45105814933776855,\n",
       "  'RandomForestMSE_BAG_L2/T0': 24.637627124786377,\n",
       "  'ExtraTreesMSE_BAG_L2/T0': 7.095316648483276,\n",
       "  'NeuralNetFastAI_BAG_L2/T0': 150.98424625396729,\n",
       "  'LightGBMLarge_BAG_L2': 18.87649941444397,\n",
       "  'WeightedEnsemble_L3': 0.3211040496826172},\n",
       " 'model_pred_times': {'KNeighborsUnif_BAG_L1/T0': 0.20460939407348633,\n",
       "  'KNeighborsDist_BAG_L1/T0': 0.2039499282836914,\n",
       "  'RandomForestMSE_BAG_L1/T0': 0.47587084770202637,\n",
       "  'ExtraTreesMSE_BAG_L1/T0': 0.4627265930175781,\n",
       "  'NeuralNetFastAI_BAG_L1/T0': 0.45822787284851074,\n",
       "  'LightGBMLarge_BAG_L1': 1.4984207153320312,\n",
       "  'WeightedEnsemble_L2': 0.0009634494781494141,\n",
       "  'RandomForestMSE_BAG_L2/T0': 0.5213544368743896,\n",
       "  'ExtraTreesMSE_BAG_L2/T0': 0.517279863357544,\n",
       "  'NeuralNetFastAI_BAG_L2/T0': 0.5007157325744629,\n",
       "  'LightGBMLarge_BAG_L2': 0.19223809242248535,\n",
       "  'WeightedEnsemble_L3': 0.0010595321655273438},\n",
       " 'num_bag_folds': 10,\n",
       " 'max_stack_level': 3,\n",
       " 'model_hyperparams': {'KNeighborsUnif_BAG_L1/T0': {'use_orig_features': True,\n",
       "   'max_base_models': 25,\n",
       "   'max_base_models_per_type': 5,\n",
       "   'save_bag_folds': True,\n",
       "   'use_child_oof': True},\n",
       "  'KNeighborsDist_BAG_L1/T0': {'use_orig_features': True,\n",
       "   'max_base_models': 25,\n",
       "   'max_base_models_per_type': 5,\n",
       "   'save_bag_folds': True,\n",
       "   'use_child_oof': True},\n",
       "  'RandomForestMSE_BAG_L1/T0': {'use_orig_features': True,\n",
       "   'max_base_models': 25,\n",
       "   'max_base_models_per_type': 5,\n",
       "   'save_bag_folds': True,\n",
       "   'use_child_oof': True},\n",
       "  'ExtraTreesMSE_BAG_L1/T0': {'use_orig_features': True,\n",
       "   'max_base_models': 25,\n",
       "   'max_base_models_per_type': 5,\n",
       "   'save_bag_folds': True,\n",
       "   'use_child_oof': True},\n",
       "  'NeuralNetFastAI_BAG_L1/T0': {'use_orig_features': True,\n",
       "   'max_base_models': 25,\n",
       "   'max_base_models_per_type': 5,\n",
       "   'save_bag_folds': True},\n",
       "  'LightGBMLarge_BAG_L1': {'use_orig_features': True,\n",
       "   'max_base_models': 25,\n",
       "   'max_base_models_per_type': 5,\n",
       "   'save_bag_folds': True},\n",
       "  'WeightedEnsemble_L2': {'use_orig_features': False,\n",
       "   'max_base_models': 25,\n",
       "   'max_base_models_per_type': 5,\n",
       "   'save_bag_folds': True},\n",
       "  'RandomForestMSE_BAG_L2/T0': {'use_orig_features': True,\n",
       "   'max_base_models': 25,\n",
       "   'max_base_models_per_type': 5,\n",
       "   'save_bag_folds': True,\n",
       "   'use_child_oof': True},\n",
       "  'ExtraTreesMSE_BAG_L2/T0': {'use_orig_features': True,\n",
       "   'max_base_models': 25,\n",
       "   'max_base_models_per_type': 5,\n",
       "   'save_bag_folds': True,\n",
       "   'use_child_oof': True},\n",
       "  'NeuralNetFastAI_BAG_L2/T0': {'use_orig_features': True,\n",
       "   'max_base_models': 25,\n",
       "   'max_base_models_per_type': 5,\n",
       "   'save_bag_folds': True},\n",
       "  'LightGBMLarge_BAG_L2': {'use_orig_features': True,\n",
       "   'max_base_models': 25,\n",
       "   'max_base_models_per_type': 5,\n",
       "   'save_bag_folds': True},\n",
       "  'WeightedEnsemble_L3': {'use_orig_features': False,\n",
       "   'max_base_models': 25,\n",
       "   'max_base_models_per_type': 5,\n",
       "   'save_bag_folds': True}},\n",
       " 'leaderboard':                         model   score_val  pred_time_val    fit_time  \\\n",
       " 0         WeightedEnsemble_L2  -36.321060       1.962111   74.238020   \n",
       " 1        LightGBMLarge_BAG_L1  -36.474619       1.498421   69.172669   \n",
       " 2         WeightedEnsemble_L3  -36.544355       4.515099  408.526644   \n",
       " 3     ExtraTreesMSE_BAG_L2/T0  -36.868650       3.821085  238.344795   \n",
       " 4   NeuralNetFastAI_BAG_L2/T0  -37.274386       3.804521  382.233724   \n",
       " 5        LightGBMLarge_BAG_L2  -37.604643       3.496043  250.125977   \n",
       " 6   RandomForestMSE_BAG_L2/T0  -37.679017       3.825160  255.887105   \n",
       " 7     ExtraTreesMSE_BAG_L1/T0  -41.004313       0.462727    4.614292   \n",
       " 8   RandomForestMSE_BAG_L1/T0  -41.333700       0.475871   10.590930   \n",
       " 9   NeuralNetFastAI_BAG_L1/T0  -59.140497       0.458228  146.800643   \n",
       " 10   KNeighborsDist_BAG_L1/T0 -119.372602       0.203950    0.023028   \n",
       " 11   KNeighborsUnif_BAG_L1/T0 -123.921631       0.204609    0.047915   \n",
       " \n",
       "     pred_time_val_marginal  fit_time_marginal  stack_level  can_infer  \\\n",
       " 0                 0.000963           0.451058            2       True   \n",
       " 1                 1.498421          69.172669            1       True   \n",
       " 2                 0.001060           0.321104            3       True   \n",
       " 3                 0.517280           7.095317            2       True   \n",
       " 4                 0.500716         150.984246            2       True   \n",
       " 5                 0.192238          18.876499            2       True   \n",
       " 6                 0.521354          24.637627            2       True   \n",
       " 7                 0.462727           4.614292            1       True   \n",
       " 8                 0.475871          10.590930            1       True   \n",
       " 9                 0.458228         146.800643            1       True   \n",
       " 10                0.203950           0.023028            1       True   \n",
       " 11                0.204609           0.047915            1       True   \n",
       " \n",
       "     fit_order  \n",
       " 0           7  \n",
       " 1           6  \n",
       " 2          12  \n",
       " 3           9  \n",
       " 4          10  \n",
       " 5          11  \n",
       " 6           8  \n",
       " 7           4  \n",
       " 8           3  \n",
       " 9           5  \n",
       " 10          2  \n",
       " 11          1  }"
      ]
     },
     "execution_count": 70,
     "metadata": {},
     "output_type": "execute_result"
    }
   ],
   "source": []
  },
  {
   "cell_type": "code",
   "execution_count": 71,
   "metadata": {},
   "outputs": [
    {
     "data": {
      "text/plain": [
       "<AxesSubplot:xlabel='model'>"
      ]
     },
     "execution_count": 71,
     "metadata": {},
     "output_type": "execute_result"
    },
    {
     "data": {
      "image/png": "[encoded data removed]",
      "text/plain": [
       "<Figure size 432x288 with 1 Axes>"
      ]
     },
     "metadata": {
      "needs_background": "light"
     },
     "output_type": "display_data"
    }
   ],
   "source": [
    "predictor_new_features.leaderboard(silent=True).plot(kind='bar', x='model',y='score_val')"
   ]
  },
  {
   "cell_type": "code",
   "execution_count": 72,
   "metadata": {
    "execution": {
     "iopub.status.busy": "2022-01-25T15:02:28.555949Z",
     "iopub.status.idle": "2022-01-25T15:02:28.556308Z",
     "shell.execute_reply": "2022-01-25T15:02:28.556155Z",
     "shell.execute_reply.started": "2022-01-25T15:02:28.556132Z"
    }
   },
   "outputs": [],
   "source": [
    "submissions_with_hpo = submission\n",
    "submissions_with_hpo[\"count\"] = predictions\n",
    "submissions_with_hpo.loc[predictions < 0,\"count\"] = 0 "
   ]
  },
  {
   "cell_type": "code",
   "execution_count": 79,
   "metadata": {},
   "outputs": [],
   "source": [
    "submissions_new_hpo.to_csv(\"submission_with_hpo.csv\", index=False)"
   ]
  },
  {
   "cell_type": "markdown",
   "metadata": {},
   "source": [
    "#### Submit a prediction submission from a model to Kaggle for scoring."
   ]
  },
  {
   "cell_type": "code",
   "execution_count": 80,
   "metadata": {},
   "outputs": [
    {
     "name": "stdout",
     "output_type": "stream",
     "text": [
      "100%|█████████████████████████████████████████| 188k/188k [00:00<00:00, 434kB/s]\n",
      "Successfully submitted to Bike Sharing Demand"
     ]
    }
   ],
   "source": [
    "!kaggle competitions submit -c bike-sharing-demand -f submission_with_hpo.csv -m \"Third Submission with New features with hyperparameters\""
   ]
  },
  {
   "cell_type": "code",
   "execution_count": 81,
   "metadata": {},
   "outputs": [
    {
     "name": "stdout",
     "output_type": "stream",
     "text": [
      "fileName                      date                 description                                              status    publicScore  privateScore  \n",
      "----------------------------  -------------------  -------------------------------------------------------  --------  -----------  ------------  \n",
      "submission_with_hpo.csv       2022-01-28 21:31:00  Third Submission with New features with hyperparameters  complete  0.50718      0.50718       \n",
      "submission_no_hpo.csv         2022-01-28 21:21:23  Second Submission with New Features                      complete  0.54732      0.54732       \n",
      "submission.csv                2022-01-28 21:04:40  First submission                                         complete  1.39795      1.39795       \n",
      "submission.csv                2022-01-28 21:01:58  First submission                                         error     None         None          \n"
     ]
    }
   ],
   "source": [
    "!kaggle competitions submissions -c bike-sharing-demand | tail -n +1 | head -n 6"
   ]
  },
  {
   "cell_type": "markdown",
   "metadata": {},
   "source": [
    "Experiment: Trying individual models"
   ]
  },
  {
   "cell_type": "code",
   "execution_count": 75,
   "metadata": {},
   "outputs": [],
   "source": [
    "def predict_evaluate(Model):\n",
    "    X_train, X_test, y_train, y_test = train_test_split(df_train.drop(columns=['count','datetime']).values, df_train[\"count\"], test_size=0.2, random_state=42)\n",
    "    \n",
    "    model = Model\n",
    "    model.fit(X_train, y_train)\n",
    "    predictions = model.predict(X_test)\n",
    "    \n",
    "    print(f\"r2_score of {model.__repr__()} is {r2_score(y_test, predictions)}\")\n",
    "    print(f\"mean_absolute_error of {model.__repr__()} is {mean_absolute_error(y_test, predictions)}\")\n",
    "    print(f\"mean_squared_error of {model.__repr__()} is {mean_squared_error(y_test, predictions)}\")"
   ]
  },
  {
   "cell_type": "code",
   "execution_count": 76,
   "metadata": {},
   "outputs": [
    {
     "name": "stdout",
     "output_type": "stream",
     "text": [
      "r2_score of MLPRegressor(max_iter=500, random_state=1) is 0.5618203146066907\n",
      "mean_absolute_error of MLPRegressor(max_iter=500, random_state=1) is 87.20586160436999\n",
      "mean_squared_error of MLPRegressor(max_iter=500, random_state=1) is 14462.968773138853\n"
     ]
    },
    {
     "name": "stderr",
     "output_type": "stream",
     "text": [
      "/usr/local/lib/python3.6/site-packages/sklearn/neural_network/_multilayer_perceptron.py:617: ConvergenceWarning: Stochastic Optimizer: Maximum iterations (500) reached and the optimization hasn't converged yet.\n",
      "  % self.max_iter, ConvergenceWarning)\n"
     ]
    }
   ],
   "source": [
    "predict_evaluate(MLPRegressor(random_state=1, max_iter=500))"
   ]
  },
  {
   "cell_type": "code",
   "execution_count": 77,
   "metadata": {},
   "outputs": [
    {
     "name": "stdout",
     "output_type": "stream",
     "text": [
      "r2_score of ExtraTreesRegressor(random_state=0) is 0.8677064151214615\n",
      "mean_absolute_error of ExtraTreesRegressor(random_state=0) is 43.72598714416897\n",
      "mean_squared_error of ExtraTreesRegressor(random_state=0) is 4366.6058714416895\n"
     ]
    }
   ],
   "source": [
    "predict_evaluate(ExtraTreesRegressor(n_estimators=100, random_state=0))"
   ]
  },
  {
   "cell_type": "code",
   "execution_count": 78,
   "metadata": {},
   "outputs": [
    {
     "name": "stdout",
     "output_type": "stream",
     "text": [
      "r2_score of AdaBoostRegressor(n_estimators=100, random_state=0) is 0.5679924053787657\n",
      "mean_absolute_error of AdaBoostRegressor(n_estimators=100, random_state=0) is 97.96070991517506\n",
      "mean_squared_error of AdaBoostRegressor(n_estimators=100, random_state=0) is 14259.246968871787\n"
     ]
    }
   ],
   "source": [
    "predict_evaluate(AdaBoostRegressor(random_state=0, n_estimators=100))"
   ]
  },
  {
   "cell_type": "markdown",
   "metadata": {},
   "source": [
    "# Report"
   ]
  },
  {
   "cell_type": "code",
   "execution_count": 82,
   "metadata": {},
   "outputs": [
    {
     "data": {
      "image/png": "[encoded data removed]",
      "text/plain": [
       "<Figure size 576x432 with 1 Axes>"
      ]
     },
     "metadata": {
      "needs_background": "light"
     },
     "output_type": "display_data"
    }
   ],
   "source": [
    "# Taking the top model score from each training run and creating a line plot to show improvement\n",
    "# You can create these in the notebook and save them to PNG or use some other tool (e.g. google sheets, excel)\n",
    "fig = pd.DataFrame(\n",
    "    {\n",
    "        \"model\": [\"initial\", \"add_features\", \"hpo\"],\n",
    "        \"score\": [114.951355, 35.202436, 36.321060]\n",
    "    }\n",
    ").plot(x=\"model\", y=\"score\", figsize=(8, 6)).get_figure()\n",
    "fig.savefig('img/model_train_score.png')"
   ]
  },
  {
   "cell_type": "code",
   "execution_count": 83,
   "metadata": {},
   "outputs": [
    {
     "data": {
      "image/png": "[encoded data removed]",
      "text/plain": [
       "<Figure size 576x432 with 1 Axes>"
      ]
     },
     "metadata": {
      "needs_background": "light"
     },
     "output_type": "display_data"
    }
   ],
   "source": [
    "# Take the 3 kaggle scores and creating a line plot to show improvement\n",
    "fig = pd.DataFrame(\n",
    "    {\n",
    "        \"test_eval\": [\"initial\", \"add_features\", \"hpo\"],\n",
    "        \"score\": [1.39795, 0.54732, 0.50718]\n",
    "    }\n",
    ").plot(x=\"test_eval\", y=\"score\", figsize=(8, 6)).get_figure()\n",
    "fig.savefig('img/model_test_score.png')"
   ]
  },
  {
   "cell_type": "code",
   "execution_count": 84,
   "metadata": {},
   "outputs": [
    {
     "data": {
      "text/html": [
       "<div>\n",
       "<style scoped>\n",
       "    .dataframe tbody tr th:only-of-type {\n",
       "        vertical-align: middle;\n",
       "    }\n",
       "\n",
       "    .dataframe tbody tr th {\n",
       "        vertical-align: top;\n",
       "    }\n",
       "\n",
       "    .dataframe thead th {\n",
       "        text-align: right;\n",
       "    }\n",
       "</style>\n",
       "<table border=\"1\" class=\"dataframe\">\n",
       "  <thead>\n",
       "    <tr style=\"text-align: right;\">\n",
       "      <th></th>\n",
       "      <th>model</th>\n",
       "      <th>hpo1</th>\n",
       "      <th>hpo2</th>\n",
       "      <th>hpo3</th>\n",
       "      <th>score</th>\n",
       "    </tr>\n",
       "  </thead>\n",
       "  <tbody>\n",
       "    <tr>\n",
       "      <th>0</th>\n",
       "      <td>initial</td>\n",
       "      <td>25</td>\n",
       "      <td>5</td>\n",
       "      <td>True</td>\n",
       "      <td>1.39795</td>\n",
       "    </tr>\n",
       "    <tr>\n",
       "      <th>1</th>\n",
       "      <td>add_features</td>\n",
       "      <td>25</td>\n",
       "      <td>5</td>\n",
       "      <td>True</td>\n",
       "      <td>0.54732</td>\n",
       "    </tr>\n",
       "    <tr>\n",
       "      <th>2</th>\n",
       "      <td>hpo</td>\n",
       "      <td>100</td>\n",
       "      <td>15</td>\n",
       "      <td>True</td>\n",
       "      <td>0.50718</td>\n",
       "    </tr>\n",
       "  </tbody>\n",
       "</table>\n",
       "</div>"
      ],
      "text/plain": [
       "          model  hpo1  hpo2  hpo3    score\n",
       "0       initial    25     5  True  1.39795\n",
       "1  add_features    25     5  True  0.54732\n",
       "2           hpo   100    15  True  0.50718"
      ]
     },
     "execution_count": 84,
     "metadata": {},
     "output_type": "execute_result"
    }
   ],
   "source": [
    "pd.DataFrame({\n",
    "    \"model\": [\"initial\", \"add_features\", \"hpo\"],\n",
    "    \"hpo1\": [25, 25, 100],\n",
    "    \"hpo2\": [5, 5, 15],\n",
    "    \"hpo3\": [True, True, True],\n",
    "    \"score\": [1.39795, 0.54732, 0.50718]\n",
    "})"
   ]
  },
  {
   "cell_type": "markdown",
   "metadata": {},
   "source": [
    "# Report: Predict Bike Sharing Demand with AutoGluon Solution\n",
    "#### José Chrystian Lima Pacheco\n",
    "\n",
    "## Initial Training\n",
    "### What did you realize when you tried to submit your predictions? What changes were needed to the output of the predictor to submit your results?\n",
    "\n",
    "The First training did not involve any manipulation of the data, it was just a quick training to understand how Autogluon would perform on the \"raw\" data, it did not achieve bad results, which showed us that with hyperparameter tuning and feature engineering it would make us achieve even better results .\n",
    "\n",
    "### What was the top ranked model that performed?\n",
    "For our first training round, the WeightedEnsemble_L3 model performed the best, with the lowest mse, despite the fit_time of 524.764818, its predict time was 0.000621.\n",
    "![model_performance.png](img/model_performance.png)\n",
    "## Exploratory data analysis and feature creation\n",
    "### What did the exploratory analysis find and how did you add additional features?\n",
    "First of all we analyzed that there were some features that could be created from the datetime, features like day, time and month.\n",
    "\n",
    "We can also see that it would be possible to transform the different time and temperature intervals into categorical features.\n",
    "\n",
    "### How much better did your model preform after adding additional features and why do you think that is?\n",
    "After adding the new features the result in the submission went from 1.39795 to 0.54732\n",
    "Models tend to work well with more features and also with categorical features, so when we join or do transformations on numerical features that can vary a lot, it ends up resulting in a better inference\n",
    "\n",
    "## Hyper parameter tuning\n",
    "### How much better did your model preform after trying different hyper parameters?\n",
    "After adding the different hyper parameters the result in the submission went from 0.54732 to 0.50718\n",
    "\n",
    "### If you were given more time with this dataset, where do you think you would spend more time?\n",
    "I would spend more time understanding the Dataset and doing feature engineering, and focusing on a set of specific models that performed well, doing hyperparemeter tuning.\n",
    "[1.39795, 0.54732, 0.50718]\n",
    "### Create a table with the models you ran, the hyperparameters modified, and the kaggle score.\n",
    "|model|hpo1|hpo2|hpo3|score|\n",
    "|--|--|--|--|--|\n",
    "|initial|25|25|100|1.39795|\n",
    "|add_features|5|5|15|0.54732|\n",
    "|hpo|True|True|True|0.50718|\n",
    "\n",
    "### Create a line plot showing the top model score for the three (or more) training runs during the project.\n",
    "\n",
    "![model_performance.png](img/model_train_score.png)\n",
    "\n",
    "### Create a line plot showing the top kaggle score for the three (or more) prediction submissions during the project.\n",
    "\n",
    "\n",
    "![model_test_score.png](img/model_test_score.png)\n",
    "\n",
    "## Summary\n",
    "In this experiment we used Autogluon, which is an autoML library that helps us a lot in performing experiments.\n",
    "\n",
    "This experiment was divided into 3 stages, the first using only raw data, the second performing feature engineering and the third featuring engineering + selected hyperparameters, in each submission the final score in Kaggle was improving and showing that our efforts are worth it."
   ]
  },
  {
   "cell_type": "code",
   "execution_count": null,
   "metadata": {},
   "outputs": [],
   "source": []
  }
 ],
 "metadata": {
  "instance_type": "ml.t3.medium",
  "kernelspec": {
   "display_name": "Python 3 (MXNet 1.6 Python 3.6 CPU Optimized)",
   "language": "python",
   "name": "python3__SAGEMAKER_INTERNAL__arn:aws:sagemaker:us-east-1:081325390199:image/mxnet-1.6-cpu-py36"
  },
  "language_info": {
   "codemirror_mode": {
    "name": "ipython",
    "version": 3
   },
   "file_extension": ".py",
   "mimetype": "text/x-python",
   "name": "python",
   "nbconvert_exporter": "python",
   "pygments_lexer": "ipython3",
   "version": "3.6.13"
  }
 },
 "nbformat": 4,
 "nbformat_minor": 4
}
